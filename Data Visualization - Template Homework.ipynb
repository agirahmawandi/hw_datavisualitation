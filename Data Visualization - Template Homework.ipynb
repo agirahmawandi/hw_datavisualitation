{
 "cells": [
  {
   "cell_type": "markdown",
   "metadata": {
    "heading_collapsed": true,
    "id": "sFebiD9IMF4m"
   },
   "source": [
    "# Homework Data Visualization"
   ]
  },
  {
   "cell_type": "markdown",
   "metadata": {
    "hidden": true,
    "id": "o0sEkWetMF4r"
   },
   "source": [
    "- Nama: Agi Rahmawandi\n",
    "- Cita-cita semasa kecil: Jadi Peter Parker"
   ]
  },
  {
   "cell_type": "code",
   "execution_count": 1,
   "metadata": {
    "ExecuteTime": {
     "end_time": "2020-11-12T13:26:22.209983Z",
     "start_time": "2020-11-12T13:26:21.360470Z"
    },
    "hidden": true,
    "id": "rJCuez0nMF4r"
   },
   "outputs": [],
   "source": [
    "import pandas as pd\n",
    "import numpy as np\n",
    "import matplotlib.pyplot as plt\n",
    "import seaborn as sns\n",
    "import plotly.express as px\n",
    "\n",
    "# please import as much as you need"
   ]
  },
  {
   "cell_type": "code",
   "execution_count": 150,
   "metadata": {
    "ExecuteTime": {
     "end_time": "2020-11-12T13:26:22.272830Z",
     "start_time": "2020-11-12T13:26:22.211908Z"
    },
    "hidden": true,
    "id": "eZz5M7_eMF4t",
    "outputId": "ece29f87-162f-4649-e658-70a6d20aee32"
   },
   "outputs": [
    {
     "data": {
      "text/html": [
       "<div>\n",
       "<style scoped>\n",
       "    .dataframe tbody tr th:only-of-type {\n",
       "        vertical-align: middle;\n",
       "    }\n",
       "\n",
       "    .dataframe tbody tr th {\n",
       "        vertical-align: top;\n",
       "    }\n",
       "\n",
       "    .dataframe thead th {\n",
       "        text-align: right;\n",
       "    }\n",
       "</style>\n",
       "<table border=\"1\" class=\"dataframe\">\n",
       "  <thead>\n",
       "    <tr style=\"text-align: right;\">\n",
       "      <th></th>\n",
       "      <th>customerID</th>\n",
       "      <th>gender</th>\n",
       "      <th>SeniorCitizen</th>\n",
       "      <th>Partner</th>\n",
       "      <th>Dependents</th>\n",
       "      <th>tenure</th>\n",
       "      <th>PhoneService</th>\n",
       "      <th>MultipleLines</th>\n",
       "      <th>InternetService</th>\n",
       "      <th>OnlineSecurity</th>\n",
       "      <th>...</th>\n",
       "      <th>DeviceProtection</th>\n",
       "      <th>TechSupport</th>\n",
       "      <th>StreamingTV</th>\n",
       "      <th>StreamingMovies</th>\n",
       "      <th>Contract</th>\n",
       "      <th>PaperlessBilling</th>\n",
       "      <th>PaymentMethod</th>\n",
       "      <th>MonthlyCharges</th>\n",
       "      <th>TotalCharges</th>\n",
       "      <th>Churn</th>\n",
       "    </tr>\n",
       "  </thead>\n",
       "  <tbody>\n",
       "    <tr>\n",
       "      <th>0</th>\n",
       "      <td>7590-VHVEG</td>\n",
       "      <td>Female</td>\n",
       "      <td>0</td>\n",
       "      <td>Yes</td>\n",
       "      <td>No</td>\n",
       "      <td>1</td>\n",
       "      <td>No</td>\n",
       "      <td>No phone service</td>\n",
       "      <td>DSL</td>\n",
       "      <td>No</td>\n",
       "      <td>...</td>\n",
       "      <td>No</td>\n",
       "      <td>No</td>\n",
       "      <td>No</td>\n",
       "      <td>No</td>\n",
       "      <td>Month-to-month</td>\n",
       "      <td>Yes</td>\n",
       "      <td>Electronic check</td>\n",
       "      <td>29.85</td>\n",
       "      <td>29.85</td>\n",
       "      <td>No</td>\n",
       "    </tr>\n",
       "    <tr>\n",
       "      <th>1</th>\n",
       "      <td>5575-GNVDE</td>\n",
       "      <td>Male</td>\n",
       "      <td>0</td>\n",
       "      <td>No</td>\n",
       "      <td>No</td>\n",
       "      <td>34</td>\n",
       "      <td>Yes</td>\n",
       "      <td>No</td>\n",
       "      <td>DSL</td>\n",
       "      <td>Yes</td>\n",
       "      <td>...</td>\n",
       "      <td>Yes</td>\n",
       "      <td>No</td>\n",
       "      <td>No</td>\n",
       "      <td>No</td>\n",
       "      <td>One year</td>\n",
       "      <td>No</td>\n",
       "      <td>Mailed check</td>\n",
       "      <td>56.95</td>\n",
       "      <td>1889.5</td>\n",
       "      <td>No</td>\n",
       "    </tr>\n",
       "    <tr>\n",
       "      <th>2</th>\n",
       "      <td>3668-QPYBK</td>\n",
       "      <td>Male</td>\n",
       "      <td>0</td>\n",
       "      <td>No</td>\n",
       "      <td>No</td>\n",
       "      <td>2</td>\n",
       "      <td>Yes</td>\n",
       "      <td>No</td>\n",
       "      <td>DSL</td>\n",
       "      <td>Yes</td>\n",
       "      <td>...</td>\n",
       "      <td>No</td>\n",
       "      <td>No</td>\n",
       "      <td>No</td>\n",
       "      <td>No</td>\n",
       "      <td>Month-to-month</td>\n",
       "      <td>Yes</td>\n",
       "      <td>Mailed check</td>\n",
       "      <td>53.85</td>\n",
       "      <td>108.15</td>\n",
       "      <td>Yes</td>\n",
       "    </tr>\n",
       "    <tr>\n",
       "      <th>3</th>\n",
       "      <td>7795-CFOCW</td>\n",
       "      <td>Male</td>\n",
       "      <td>0</td>\n",
       "      <td>No</td>\n",
       "      <td>No</td>\n",
       "      <td>45</td>\n",
       "      <td>No</td>\n",
       "      <td>No phone service</td>\n",
       "      <td>DSL</td>\n",
       "      <td>Yes</td>\n",
       "      <td>...</td>\n",
       "      <td>Yes</td>\n",
       "      <td>Yes</td>\n",
       "      <td>No</td>\n",
       "      <td>No</td>\n",
       "      <td>One year</td>\n",
       "      <td>No</td>\n",
       "      <td>Bank transfer (automatic)</td>\n",
       "      <td>42.30</td>\n",
       "      <td>1840.75</td>\n",
       "      <td>No</td>\n",
       "    </tr>\n",
       "    <tr>\n",
       "      <th>4</th>\n",
       "      <td>9237-HQITU</td>\n",
       "      <td>Female</td>\n",
       "      <td>0</td>\n",
       "      <td>No</td>\n",
       "      <td>No</td>\n",
       "      <td>2</td>\n",
       "      <td>Yes</td>\n",
       "      <td>No</td>\n",
       "      <td>Fiber optic</td>\n",
       "      <td>No</td>\n",
       "      <td>...</td>\n",
       "      <td>No</td>\n",
       "      <td>No</td>\n",
       "      <td>No</td>\n",
       "      <td>No</td>\n",
       "      <td>Month-to-month</td>\n",
       "      <td>Yes</td>\n",
       "      <td>Electronic check</td>\n",
       "      <td>70.70</td>\n",
       "      <td>151.65</td>\n",
       "      <td>Yes</td>\n",
       "    </tr>\n",
       "  </tbody>\n",
       "</table>\n",
       "<p>5 rows × 21 columns</p>\n",
       "</div>"
      ],
      "text/plain": [
       "   customerID  gender  SeniorCitizen Partner Dependents  tenure PhoneService  \\\n",
       "0  7590-VHVEG  Female              0     Yes         No       1           No   \n",
       "1  5575-GNVDE    Male              0      No         No      34          Yes   \n",
       "2  3668-QPYBK    Male              0      No         No       2          Yes   \n",
       "3  7795-CFOCW    Male              0      No         No      45           No   \n",
       "4  9237-HQITU  Female              0      No         No       2          Yes   \n",
       "\n",
       "      MultipleLines InternetService OnlineSecurity  ... DeviceProtection  \\\n",
       "0  No phone service             DSL             No  ...               No   \n",
       "1                No             DSL            Yes  ...              Yes   \n",
       "2                No             DSL            Yes  ...               No   \n",
       "3  No phone service             DSL            Yes  ...              Yes   \n",
       "4                No     Fiber optic             No  ...               No   \n",
       "\n",
       "  TechSupport StreamingTV StreamingMovies        Contract PaperlessBilling  \\\n",
       "0          No          No              No  Month-to-month              Yes   \n",
       "1          No          No              No        One year               No   \n",
       "2          No          No              No  Month-to-month              Yes   \n",
       "3         Yes          No              No        One year               No   \n",
       "4          No          No              No  Month-to-month              Yes   \n",
       "\n",
       "               PaymentMethod MonthlyCharges  TotalCharges Churn  \n",
       "0           Electronic check          29.85         29.85    No  \n",
       "1               Mailed check          56.95        1889.5    No  \n",
       "2               Mailed check          53.85        108.15   Yes  \n",
       "3  Bank transfer (automatic)          42.30       1840.75    No  \n",
       "4           Electronic check          70.70        151.65   Yes  \n",
       "\n",
       "[5 rows x 21 columns]"
      ]
     },
     "execution_count": 150,
     "metadata": {},
     "output_type": "execute_result"
    }
   ],
   "source": [
    "# read your data\n",
    "\n",
    "df = pd.read_csv('telco_customer.csv')\n",
    "df.head()"
   ]
  },
  {
   "cell_type": "code",
   "execution_count": 151,
   "metadata": {},
   "outputs": [
    {
     "data": {
      "text/html": [
       "<div>\n",
       "<style scoped>\n",
       "    .dataframe tbody tr th:only-of-type {\n",
       "        vertical-align: middle;\n",
       "    }\n",
       "\n",
       "    .dataframe tbody tr th {\n",
       "        vertical-align: top;\n",
       "    }\n",
       "\n",
       "    .dataframe thead th {\n",
       "        text-align: right;\n",
       "    }\n",
       "</style>\n",
       "<table border=\"1\" class=\"dataframe\">\n",
       "  <thead>\n",
       "    <tr style=\"text-align: right;\">\n",
       "      <th></th>\n",
       "      <th>customerID</th>\n",
       "      <th>gender</th>\n",
       "      <th>Partner</th>\n",
       "      <th>Dependents</th>\n",
       "      <th>PhoneService</th>\n",
       "      <th>MultipleLines</th>\n",
       "      <th>InternetService</th>\n",
       "      <th>OnlineSecurity</th>\n",
       "      <th>OnlineBackup</th>\n",
       "      <th>DeviceProtection</th>\n",
       "      <th>TechSupport</th>\n",
       "      <th>StreamingTV</th>\n",
       "      <th>StreamingMovies</th>\n",
       "      <th>Contract</th>\n",
       "      <th>PaperlessBilling</th>\n",
       "      <th>PaymentMethod</th>\n",
       "      <th>TotalCharges</th>\n",
       "      <th>Churn</th>\n",
       "    </tr>\n",
       "  </thead>\n",
       "  <tbody>\n",
       "    <tr>\n",
       "      <th>count</th>\n",
       "      <td>7043</td>\n",
       "      <td>7043</td>\n",
       "      <td>7043</td>\n",
       "      <td>7043</td>\n",
       "      <td>7043</td>\n",
       "      <td>7043</td>\n",
       "      <td>7043</td>\n",
       "      <td>7043</td>\n",
       "      <td>7043</td>\n",
       "      <td>7043</td>\n",
       "      <td>7043</td>\n",
       "      <td>7043</td>\n",
       "      <td>7043</td>\n",
       "      <td>7043</td>\n",
       "      <td>7043</td>\n",
       "      <td>7043</td>\n",
       "      <td>7043</td>\n",
       "      <td>7043</td>\n",
       "    </tr>\n",
       "    <tr>\n",
       "      <th>unique</th>\n",
       "      <td>7043</td>\n",
       "      <td>2</td>\n",
       "      <td>2</td>\n",
       "      <td>2</td>\n",
       "      <td>2</td>\n",
       "      <td>3</td>\n",
       "      <td>3</td>\n",
       "      <td>3</td>\n",
       "      <td>3</td>\n",
       "      <td>3</td>\n",
       "      <td>3</td>\n",
       "      <td>3</td>\n",
       "      <td>3</td>\n",
       "      <td>3</td>\n",
       "      <td>2</td>\n",
       "      <td>4</td>\n",
       "      <td>6531</td>\n",
       "      <td>2</td>\n",
       "    </tr>\n",
       "    <tr>\n",
       "      <th>top</th>\n",
       "      <td>3186-AJIEK</td>\n",
       "      <td>Male</td>\n",
       "      <td>No</td>\n",
       "      <td>No</td>\n",
       "      <td>Yes</td>\n",
       "      <td>No</td>\n",
       "      <td>Fiber optic</td>\n",
       "      <td>No</td>\n",
       "      <td>No</td>\n",
       "      <td>No</td>\n",
       "      <td>No</td>\n",
       "      <td>No</td>\n",
       "      <td>No</td>\n",
       "      <td>Month-to-month</td>\n",
       "      <td>Yes</td>\n",
       "      <td>Electronic check</td>\n",
       "      <td>20.2</td>\n",
       "      <td>No</td>\n",
       "    </tr>\n",
       "    <tr>\n",
       "      <th>freq</th>\n",
       "      <td>1</td>\n",
       "      <td>3555</td>\n",
       "      <td>3641</td>\n",
       "      <td>4933</td>\n",
       "      <td>6361</td>\n",
       "      <td>3390</td>\n",
       "      <td>3096</td>\n",
       "      <td>3498</td>\n",
       "      <td>3088</td>\n",
       "      <td>3095</td>\n",
       "      <td>3473</td>\n",
       "      <td>2810</td>\n",
       "      <td>2785</td>\n",
       "      <td>3875</td>\n",
       "      <td>4171</td>\n",
       "      <td>2365</td>\n",
       "      <td>11</td>\n",
       "      <td>5174</td>\n",
       "    </tr>\n",
       "  </tbody>\n",
       "</table>\n",
       "</div>"
      ],
      "text/plain": [
       "        customerID gender Partner Dependents PhoneService MultipleLines  \\\n",
       "count         7043   7043    7043       7043         7043          7043   \n",
       "unique        7043      2       2          2            2             3   \n",
       "top     3186-AJIEK   Male      No         No          Yes            No   \n",
       "freq             1   3555    3641       4933         6361          3390   \n",
       "\n",
       "       InternetService OnlineSecurity OnlineBackup DeviceProtection  \\\n",
       "count             7043           7043         7043             7043   \n",
       "unique               3              3            3                3   \n",
       "top        Fiber optic             No           No               No   \n",
       "freq              3096           3498         3088             3095   \n",
       "\n",
       "       TechSupport StreamingTV StreamingMovies        Contract  \\\n",
       "count         7043        7043            7043            7043   \n",
       "unique           3           3               3               3   \n",
       "top             No          No              No  Month-to-month   \n",
       "freq          3473        2810            2785            3875   \n",
       "\n",
       "       PaperlessBilling     PaymentMethod TotalCharges Churn  \n",
       "count              7043              7043         7043  7043  \n",
       "unique                2                 4         6531     2  \n",
       "top                 Yes  Electronic check         20.2    No  \n",
       "freq               4171              2365           11  5174  "
      ]
     },
     "execution_count": 151,
     "metadata": {},
     "output_type": "execute_result"
    }
   ],
   "source": [
    "df.select_dtypes('object').describe()"
   ]
  },
  {
   "cell_type": "markdown",
   "metadata": {
    "id": "T8je8utZMF4u"
   },
   "source": [
    "# Normal"
   ]
  },
  {
   "cell_type": "markdown",
   "metadata": {
    "heading_collapsed": true,
    "id": "6VcnhoeoMF4u"
   },
   "source": [
    "## Dalam rata-rata, payment method mana yang memiliki monthly charge terbesar per customernya?\n",
    "\n",
    "Hint: Gunakan groupby payment method terhadap monthly charge dengan aggregate function rata-rata"
   ]
  },
  {
   "cell_type": "code",
   "execution_count": 152,
   "metadata": {},
   "outputs": [
    {
     "data": {
      "text/html": [
       "<div>\n",
       "<style scoped>\n",
       "    .dataframe tbody tr th:only-of-type {\n",
       "        vertical-align: middle;\n",
       "    }\n",
       "\n",
       "    .dataframe tbody tr th {\n",
       "        vertical-align: top;\n",
       "    }\n",
       "\n",
       "    .dataframe thead th {\n",
       "        text-align: right;\n",
       "    }\n",
       "</style>\n",
       "<table border=\"1\" class=\"dataframe\">\n",
       "  <thead>\n",
       "    <tr style=\"text-align: right;\">\n",
       "      <th></th>\n",
       "      <th>PaymentMethod</th>\n",
       "      <th>MonthlyCharges</th>\n",
       "    </tr>\n",
       "  </thead>\n",
       "  <tbody>\n",
       "    <tr>\n",
       "      <th>2</th>\n",
       "      <td>Electronic check</td>\n",
       "      <td>76.26</td>\n",
       "    </tr>\n",
       "    <tr>\n",
       "      <th>0</th>\n",
       "      <td>Bank transfer (automatic)</td>\n",
       "      <td>67.19</td>\n",
       "    </tr>\n",
       "    <tr>\n",
       "      <th>1</th>\n",
       "      <td>Credit card (automatic)</td>\n",
       "      <td>66.51</td>\n",
       "    </tr>\n",
       "    <tr>\n",
       "      <th>3</th>\n",
       "      <td>Mailed check</td>\n",
       "      <td>43.92</td>\n",
       "    </tr>\n",
       "  </tbody>\n",
       "</table>\n",
       "</div>"
      ],
      "text/plain": [
       "               PaymentMethod  MonthlyCharges\n",
       "2           Electronic check           76.26\n",
       "0  Bank transfer (automatic)           67.19\n",
       "1    Credit card (automatic)           66.51\n",
       "3               Mailed check           43.92"
      ]
     },
     "execution_count": 152,
     "metadata": {},
     "output_type": "execute_result"
    }
   ],
   "source": [
    "df = pd.read_csv('telco_customer.csv')\n",
    "df_pay = (df.groupby('PaymentMethod', as_index=False)\n",
    "          ['MonthlyCharges'].mean()\n",
    "          .sort_values('MonthlyCharges', ascending=False)\n",
    "          .round(2))\n",
    "\n",
    "df_pay"
   ]
  },
  {
   "cell_type": "code",
   "execution_count": 153,
   "metadata": {},
   "outputs": [
    {
     "data": {
      "application/vnd.plotly.v1+json": {
       "config": {
        "plotlyServerURL": "https://plot.ly"
       },
       "data": [
        {
         "hovertemplate": "PaymentMethod=%{x}<br>MonthlyCharges=%{y}<extra></extra>",
         "legendgroup": "",
         "marker": {
          "color": "#636efa",
          "pattern": {
           "shape": ""
          }
         },
         "name": "",
         "orientation": "v",
         "showlegend": false,
         "textposition": "auto",
         "texttemplate": "%{y}",
         "type": "bar",
         "x": [
          "Electronic check",
          "Bank transfer (automatic)",
          "Credit card (automatic)",
          "Mailed check"
         ],
         "xaxis": "x",
         "y": {
          "bdata": "cT0K16MQU0Bcj8L1KMxQQHE9CtejoFBA9ihcj8L1RUA=",
          "dtype": "f8"
         },
         "yaxis": "y"
        }
       ],
       "layout": {
        "barmode": "relative",
        "height": 500,
        "legend": {
         "tracegroupgap": 0
        },
        "margin": {
         "t": 60
        },
        "template": {
         "data": {
          "bar": [
           {
            "error_x": {
             "color": "#2a3f5f"
            },
            "error_y": {
             "color": "#2a3f5f"
            },
            "marker": {
             "line": {
              "color": "#E5ECF6",
              "width": 0.5
             },
             "pattern": {
              "fillmode": "overlay",
              "size": 10,
              "solidity": 0.2
             }
            },
            "type": "bar"
           }
          ],
          "barpolar": [
           {
            "marker": {
             "line": {
              "color": "#E5ECF6",
              "width": 0.5
             },
             "pattern": {
              "fillmode": "overlay",
              "size": 10,
              "solidity": 0.2
             }
            },
            "type": "barpolar"
           }
          ],
          "carpet": [
           {
            "aaxis": {
             "endlinecolor": "#2a3f5f",
             "gridcolor": "white",
             "linecolor": "white",
             "minorgridcolor": "white",
             "startlinecolor": "#2a3f5f"
            },
            "baxis": {
             "endlinecolor": "#2a3f5f",
             "gridcolor": "white",
             "linecolor": "white",
             "minorgridcolor": "white",
             "startlinecolor": "#2a3f5f"
            },
            "type": "carpet"
           }
          ],
          "choropleth": [
           {
            "colorbar": {
             "outlinewidth": 0,
             "ticks": ""
            },
            "type": "choropleth"
           }
          ],
          "contour": [
           {
            "colorbar": {
             "outlinewidth": 0,
             "ticks": ""
            },
            "colorscale": [
             [
              0,
              "#0d0887"
             ],
             [
              0.1111111111111111,
              "#46039f"
             ],
             [
              0.2222222222222222,
              "#7201a8"
             ],
             [
              0.3333333333333333,
              "#9c179e"
             ],
             [
              0.4444444444444444,
              "#bd3786"
             ],
             [
              0.5555555555555556,
              "#d8576b"
             ],
             [
              0.6666666666666666,
              "#ed7953"
             ],
             [
              0.7777777777777778,
              "#fb9f3a"
             ],
             [
              0.8888888888888888,
              "#fdca26"
             ],
             [
              1,
              "#f0f921"
             ]
            ],
            "type": "contour"
           }
          ],
          "contourcarpet": [
           {
            "colorbar": {
             "outlinewidth": 0,
             "ticks": ""
            },
            "type": "contourcarpet"
           }
          ],
          "heatmap": [
           {
            "colorbar": {
             "outlinewidth": 0,
             "ticks": ""
            },
            "colorscale": [
             [
              0,
              "#0d0887"
             ],
             [
              0.1111111111111111,
              "#46039f"
             ],
             [
              0.2222222222222222,
              "#7201a8"
             ],
             [
              0.3333333333333333,
              "#9c179e"
             ],
             [
              0.4444444444444444,
              "#bd3786"
             ],
             [
              0.5555555555555556,
              "#d8576b"
             ],
             [
              0.6666666666666666,
              "#ed7953"
             ],
             [
              0.7777777777777778,
              "#fb9f3a"
             ],
             [
              0.8888888888888888,
              "#fdca26"
             ],
             [
              1,
              "#f0f921"
             ]
            ],
            "type": "heatmap"
           }
          ],
          "histogram": [
           {
            "marker": {
             "pattern": {
              "fillmode": "overlay",
              "size": 10,
              "solidity": 0.2
             }
            },
            "type": "histogram"
           }
          ],
          "histogram2d": [
           {
            "colorbar": {
             "outlinewidth": 0,
             "ticks": ""
            },
            "colorscale": [
             [
              0,
              "#0d0887"
             ],
             [
              0.1111111111111111,
              "#46039f"
             ],
             [
              0.2222222222222222,
              "#7201a8"
             ],
             [
              0.3333333333333333,
              "#9c179e"
             ],
             [
              0.4444444444444444,
              "#bd3786"
             ],
             [
              0.5555555555555556,
              "#d8576b"
             ],
             [
              0.6666666666666666,
              "#ed7953"
             ],
             [
              0.7777777777777778,
              "#fb9f3a"
             ],
             [
              0.8888888888888888,
              "#fdca26"
             ],
             [
              1,
              "#f0f921"
             ]
            ],
            "type": "histogram2d"
           }
          ],
          "histogram2dcontour": [
           {
            "colorbar": {
             "outlinewidth": 0,
             "ticks": ""
            },
            "colorscale": [
             [
              0,
              "#0d0887"
             ],
             [
              0.1111111111111111,
              "#46039f"
             ],
             [
              0.2222222222222222,
              "#7201a8"
             ],
             [
              0.3333333333333333,
              "#9c179e"
             ],
             [
              0.4444444444444444,
              "#bd3786"
             ],
             [
              0.5555555555555556,
              "#d8576b"
             ],
             [
              0.6666666666666666,
              "#ed7953"
             ],
             [
              0.7777777777777778,
              "#fb9f3a"
             ],
             [
              0.8888888888888888,
              "#fdca26"
             ],
             [
              1,
              "#f0f921"
             ]
            ],
            "type": "histogram2dcontour"
           }
          ],
          "mesh3d": [
           {
            "colorbar": {
             "outlinewidth": 0,
             "ticks": ""
            },
            "type": "mesh3d"
           }
          ],
          "parcoords": [
           {
            "line": {
             "colorbar": {
              "outlinewidth": 0,
              "ticks": ""
             }
            },
            "type": "parcoords"
           }
          ],
          "pie": [
           {
            "automargin": true,
            "type": "pie"
           }
          ],
          "scatter": [
           {
            "fillpattern": {
             "fillmode": "overlay",
             "size": 10,
             "solidity": 0.2
            },
            "type": "scatter"
           }
          ],
          "scatter3d": [
           {
            "line": {
             "colorbar": {
              "outlinewidth": 0,
              "ticks": ""
             }
            },
            "marker": {
             "colorbar": {
              "outlinewidth": 0,
              "ticks": ""
             }
            },
            "type": "scatter3d"
           }
          ],
          "scattercarpet": [
           {
            "marker": {
             "colorbar": {
              "outlinewidth": 0,
              "ticks": ""
             }
            },
            "type": "scattercarpet"
           }
          ],
          "scattergeo": [
           {
            "marker": {
             "colorbar": {
              "outlinewidth": 0,
              "ticks": ""
             }
            },
            "type": "scattergeo"
           }
          ],
          "scattergl": [
           {
            "marker": {
             "colorbar": {
              "outlinewidth": 0,
              "ticks": ""
             }
            },
            "type": "scattergl"
           }
          ],
          "scattermap": [
           {
            "marker": {
             "colorbar": {
              "outlinewidth": 0,
              "ticks": ""
             }
            },
            "type": "scattermap"
           }
          ],
          "scattermapbox": [
           {
            "marker": {
             "colorbar": {
              "outlinewidth": 0,
              "ticks": ""
             }
            },
            "type": "scattermapbox"
           }
          ],
          "scatterpolar": [
           {
            "marker": {
             "colorbar": {
              "outlinewidth": 0,
              "ticks": ""
             }
            },
            "type": "scatterpolar"
           }
          ],
          "scatterpolargl": [
           {
            "marker": {
             "colorbar": {
              "outlinewidth": 0,
              "ticks": ""
             }
            },
            "type": "scatterpolargl"
           }
          ],
          "scatterternary": [
           {
            "marker": {
             "colorbar": {
              "outlinewidth": 0,
              "ticks": ""
             }
            },
            "type": "scatterternary"
           }
          ],
          "surface": [
           {
            "colorbar": {
             "outlinewidth": 0,
             "ticks": ""
            },
            "colorscale": [
             [
              0,
              "#0d0887"
             ],
             [
              0.1111111111111111,
              "#46039f"
             ],
             [
              0.2222222222222222,
              "#7201a8"
             ],
             [
              0.3333333333333333,
              "#9c179e"
             ],
             [
              0.4444444444444444,
              "#bd3786"
             ],
             [
              0.5555555555555556,
              "#d8576b"
             ],
             [
              0.6666666666666666,
              "#ed7953"
             ],
             [
              0.7777777777777778,
              "#fb9f3a"
             ],
             [
              0.8888888888888888,
              "#fdca26"
             ],
             [
              1,
              "#f0f921"
             ]
            ],
            "type": "surface"
           }
          ],
          "table": [
           {
            "cells": {
             "fill": {
              "color": "#EBF0F8"
             },
             "line": {
              "color": "white"
             }
            },
            "header": {
             "fill": {
              "color": "#C8D4E3"
             },
             "line": {
              "color": "white"
             }
            },
            "type": "table"
           }
          ]
         },
         "layout": {
          "annotationdefaults": {
           "arrowcolor": "#2a3f5f",
           "arrowhead": 0,
           "arrowwidth": 1
          },
          "autotypenumbers": "strict",
          "coloraxis": {
           "colorbar": {
            "outlinewidth": 0,
            "ticks": ""
           }
          },
          "colorscale": {
           "diverging": [
            [
             0,
             "#8e0152"
            ],
            [
             0.1,
             "#c51b7d"
            ],
            [
             0.2,
             "#de77ae"
            ],
            [
             0.3,
             "#f1b6da"
            ],
            [
             0.4,
             "#fde0ef"
            ],
            [
             0.5,
             "#f7f7f7"
            ],
            [
             0.6,
             "#e6f5d0"
            ],
            [
             0.7,
             "#b8e186"
            ],
            [
             0.8,
             "#7fbc41"
            ],
            [
             0.9,
             "#4d9221"
            ],
            [
             1,
             "#276419"
            ]
           ],
           "sequential": [
            [
             0,
             "#0d0887"
            ],
            [
             0.1111111111111111,
             "#46039f"
            ],
            [
             0.2222222222222222,
             "#7201a8"
            ],
            [
             0.3333333333333333,
             "#9c179e"
            ],
            [
             0.4444444444444444,
             "#bd3786"
            ],
            [
             0.5555555555555556,
             "#d8576b"
            ],
            [
             0.6666666666666666,
             "#ed7953"
            ],
            [
             0.7777777777777778,
             "#fb9f3a"
            ],
            [
             0.8888888888888888,
             "#fdca26"
            ],
            [
             1,
             "#f0f921"
            ]
           ],
           "sequentialminus": [
            [
             0,
             "#0d0887"
            ],
            [
             0.1111111111111111,
             "#46039f"
            ],
            [
             0.2222222222222222,
             "#7201a8"
            ],
            [
             0.3333333333333333,
             "#9c179e"
            ],
            [
             0.4444444444444444,
             "#bd3786"
            ],
            [
             0.5555555555555556,
             "#d8576b"
            ],
            [
             0.6666666666666666,
             "#ed7953"
            ],
            [
             0.7777777777777778,
             "#fb9f3a"
            ],
            [
             0.8888888888888888,
             "#fdca26"
            ],
            [
             1,
             "#f0f921"
            ]
           ]
          },
          "colorway": [
           "#636efa",
           "#EF553B",
           "#00cc96",
           "#ab63fa",
           "#FFA15A",
           "#19d3f3",
           "#FF6692",
           "#B6E880",
           "#FF97FF",
           "#FECB52"
          ],
          "font": {
           "color": "#2a3f5f"
          },
          "geo": {
           "bgcolor": "white",
           "lakecolor": "white",
           "landcolor": "#E5ECF6",
           "showlakes": true,
           "showland": true,
           "subunitcolor": "white"
          },
          "hoverlabel": {
           "align": "left"
          },
          "hovermode": "closest",
          "mapbox": {
           "style": "light"
          },
          "paper_bgcolor": "white",
          "plot_bgcolor": "#E5ECF6",
          "polar": {
           "angularaxis": {
            "gridcolor": "white",
            "linecolor": "white",
            "ticks": ""
           },
           "bgcolor": "#E5ECF6",
           "radialaxis": {
            "gridcolor": "white",
            "linecolor": "white",
            "ticks": ""
           }
          },
          "scene": {
           "xaxis": {
            "backgroundcolor": "#E5ECF6",
            "gridcolor": "white",
            "gridwidth": 2,
            "linecolor": "white",
            "showbackground": true,
            "ticks": "",
            "zerolinecolor": "white"
           },
           "yaxis": {
            "backgroundcolor": "#E5ECF6",
            "gridcolor": "white",
            "gridwidth": 2,
            "linecolor": "white",
            "showbackground": true,
            "ticks": "",
            "zerolinecolor": "white"
           },
           "zaxis": {
            "backgroundcolor": "#E5ECF6",
            "gridcolor": "white",
            "gridwidth": 2,
            "linecolor": "white",
            "showbackground": true,
            "ticks": "",
            "zerolinecolor": "white"
           }
          },
          "shapedefaults": {
           "line": {
            "color": "#2a3f5f"
           }
          },
          "ternary": {
           "aaxis": {
            "gridcolor": "white",
            "linecolor": "white",
            "ticks": ""
           },
           "baxis": {
            "gridcolor": "white",
            "linecolor": "white",
            "ticks": ""
           },
           "bgcolor": "#E5ECF6",
           "caxis": {
            "gridcolor": "white",
            "linecolor": "white",
            "ticks": ""
           }
          },
          "title": {
           "x": 0.05
          },
          "xaxis": {
           "automargin": true,
           "gridcolor": "white",
           "linecolor": "white",
           "ticks": "",
           "title": {
            "standoff": 15
           },
           "zerolinecolor": "white",
           "zerolinewidth": 2
          },
          "yaxis": {
           "automargin": true,
           "gridcolor": "white",
           "linecolor": "white",
           "ticks": "",
           "title": {
            "standoff": 15
           },
           "zerolinecolor": "white",
           "zerolinewidth": 2
          }
         }
        },
        "width": 900,
        "xaxis": {
         "anchor": "y",
         "domain": [
          0,
          1
         ],
         "title": {
          "text": "PaymentMethod"
         }
        },
        "yaxis": {
         "anchor": "x",
         "domain": [
          0,
          1
         ],
         "title": {
          "text": "MonthlyCharges"
         }
        }
       }
      }
     },
     "metadata": {},
     "output_type": "display_data"
    }
   ],
   "source": [
    "fig = px.bar(df_pay, x=\"PaymentMethod\", y=\"MonthlyCharges\", text_auto=True,height=500,width=900)\n",
    "fig.show()"
   ]
  },
  {
   "cell_type": "markdown",
   "metadata": {
    "hidden": true,
    "id": "FpPlps5GMF4w"
   },
   "source": [
    "Jadi, dari plot di atas, dapat disimpulkan bahwa metode pembayaran **electronic check** memiliki rata-rata monthly charges terbesar **76.2** , dan yang paling sedikit adalah metode pembayaran dengan **Mailed check** sebesar **43.9**.\n",
    "**electronic check** dipilih menjadi metode pembayaran dengan rata-rata paling besar, bisa jadi karena dengan metode pembayaran ini dinilai paling familiar dan praktis untuk digunakan, sementara **Mailed check** bisa nilai kurang familiar dan kurang praktis dalam penggunaannya. "
   ]
  },
  {
   "cell_type": "markdown",
   "metadata": {
    "hidden": true,
    "id": "vacUlU2jMF4w"
   },
   "source": [
    "$\\textbf{Jangan lupa kasih kesimpulan dari visualisasi yang kalian buat! Isi seperti diatas ya}$"
   ]
  },
  {
   "cell_type": "markdown",
   "metadata": {
    "hidden": true,
    "id": "wuWDwRt1MF4x"
   },
   "source": []
  },
  {
   "cell_type": "markdown",
   "metadata": {
    "id": "Gofl8-UHMF4x"
   },
   "source": [
    "## Bagaimana jumlah customer dilihat dari tenure group?\n",
    "\n",
    "Tenure group:\n",
    "- low_tenure: User dengan tenure < 21 bulan\n",
    "- medium_tenure: User dengan tenure 21 - 40 bulan\n",
    "- high_tenure: User dengan tenure > 40 bulan\n",
    "\n",
    "Hint:\n",
    "- Memotong data integer menjadi group categorical dapat menggunakan beberapa macam cara, contohnya dengan numpy.where atau pandas.cut\n",
    "- Mirip dengan plot pertama, namun ini menghitung jumlah unique users"
   ]
  },
  {
   "cell_type": "code",
   "execution_count": 154,
   "metadata": {
    "ExecuteTime": {
     "end_time": "2021-10-23T10:20:40.890513Z",
     "start_time": "2021-10-23T10:20:40.882963Z"
    },
    "id": "QjAKqdNeMF4y"
   },
   "outputs": [
    {
     "data": {
      "application/vnd.plotly.v1+json": {
       "config": {
        "plotlyServerURL": "https://plot.ly"
       },
       "data": [
        {
         "hovertemplate": "tenure_group=%{x}<br>customerID=%{y}<extra></extra>",
         "legendgroup": "",
         "marker": {
          "color": "#636efa",
          "pattern": {
           "shape": ""
          }
         },
         "name": "",
         "orientation": "v",
         "showlegend": false,
         "textposition": "auto",
         "texttemplate": "%{y}",
         "type": "bar",
         "x": [
          "low_tenure",
          "high_tenure",
          "medium_tenure"
         ],
         "xaxis": "x",
         "y": {
          "bdata": "PgvFCoAF",
          "dtype": "i2"
         },
         "yaxis": "y"
        }
       ],
       "layout": {
        "barmode": "relative",
        "height": 500,
        "legend": {
         "tracegroupgap": 0
        },
        "margin": {
         "t": 60
        },
        "template": {
         "data": {
          "bar": [
           {
            "error_x": {
             "color": "#2a3f5f"
            },
            "error_y": {
             "color": "#2a3f5f"
            },
            "marker": {
             "line": {
              "color": "#E5ECF6",
              "width": 0.5
             },
             "pattern": {
              "fillmode": "overlay",
              "size": 10,
              "solidity": 0.2
             }
            },
            "type": "bar"
           }
          ],
          "barpolar": [
           {
            "marker": {
             "line": {
              "color": "#E5ECF6",
              "width": 0.5
             },
             "pattern": {
              "fillmode": "overlay",
              "size": 10,
              "solidity": 0.2
             }
            },
            "type": "barpolar"
           }
          ],
          "carpet": [
           {
            "aaxis": {
             "endlinecolor": "#2a3f5f",
             "gridcolor": "white",
             "linecolor": "white",
             "minorgridcolor": "white",
             "startlinecolor": "#2a3f5f"
            },
            "baxis": {
             "endlinecolor": "#2a3f5f",
             "gridcolor": "white",
             "linecolor": "white",
             "minorgridcolor": "white",
             "startlinecolor": "#2a3f5f"
            },
            "type": "carpet"
           }
          ],
          "choropleth": [
           {
            "colorbar": {
             "outlinewidth": 0,
             "ticks": ""
            },
            "type": "choropleth"
           }
          ],
          "contour": [
           {
            "colorbar": {
             "outlinewidth": 0,
             "ticks": ""
            },
            "colorscale": [
             [
              0,
              "#0d0887"
             ],
             [
              0.1111111111111111,
              "#46039f"
             ],
             [
              0.2222222222222222,
              "#7201a8"
             ],
             [
              0.3333333333333333,
              "#9c179e"
             ],
             [
              0.4444444444444444,
              "#bd3786"
             ],
             [
              0.5555555555555556,
              "#d8576b"
             ],
             [
              0.6666666666666666,
              "#ed7953"
             ],
             [
              0.7777777777777778,
              "#fb9f3a"
             ],
             [
              0.8888888888888888,
              "#fdca26"
             ],
             [
              1,
              "#f0f921"
             ]
            ],
            "type": "contour"
           }
          ],
          "contourcarpet": [
           {
            "colorbar": {
             "outlinewidth": 0,
             "ticks": ""
            },
            "type": "contourcarpet"
           }
          ],
          "heatmap": [
           {
            "colorbar": {
             "outlinewidth": 0,
             "ticks": ""
            },
            "colorscale": [
             [
              0,
              "#0d0887"
             ],
             [
              0.1111111111111111,
              "#46039f"
             ],
             [
              0.2222222222222222,
              "#7201a8"
             ],
             [
              0.3333333333333333,
              "#9c179e"
             ],
             [
              0.4444444444444444,
              "#bd3786"
             ],
             [
              0.5555555555555556,
              "#d8576b"
             ],
             [
              0.6666666666666666,
              "#ed7953"
             ],
             [
              0.7777777777777778,
              "#fb9f3a"
             ],
             [
              0.8888888888888888,
              "#fdca26"
             ],
             [
              1,
              "#f0f921"
             ]
            ],
            "type": "heatmap"
           }
          ],
          "histogram": [
           {
            "marker": {
             "pattern": {
              "fillmode": "overlay",
              "size": 10,
              "solidity": 0.2
             }
            },
            "type": "histogram"
           }
          ],
          "histogram2d": [
           {
            "colorbar": {
             "outlinewidth": 0,
             "ticks": ""
            },
            "colorscale": [
             [
              0,
              "#0d0887"
             ],
             [
              0.1111111111111111,
              "#46039f"
             ],
             [
              0.2222222222222222,
              "#7201a8"
             ],
             [
              0.3333333333333333,
              "#9c179e"
             ],
             [
              0.4444444444444444,
              "#bd3786"
             ],
             [
              0.5555555555555556,
              "#d8576b"
             ],
             [
              0.6666666666666666,
              "#ed7953"
             ],
             [
              0.7777777777777778,
              "#fb9f3a"
             ],
             [
              0.8888888888888888,
              "#fdca26"
             ],
             [
              1,
              "#f0f921"
             ]
            ],
            "type": "histogram2d"
           }
          ],
          "histogram2dcontour": [
           {
            "colorbar": {
             "outlinewidth": 0,
             "ticks": ""
            },
            "colorscale": [
             [
              0,
              "#0d0887"
             ],
             [
              0.1111111111111111,
              "#46039f"
             ],
             [
              0.2222222222222222,
              "#7201a8"
             ],
             [
              0.3333333333333333,
              "#9c179e"
             ],
             [
              0.4444444444444444,
              "#bd3786"
             ],
             [
              0.5555555555555556,
              "#d8576b"
             ],
             [
              0.6666666666666666,
              "#ed7953"
             ],
             [
              0.7777777777777778,
              "#fb9f3a"
             ],
             [
              0.8888888888888888,
              "#fdca26"
             ],
             [
              1,
              "#f0f921"
             ]
            ],
            "type": "histogram2dcontour"
           }
          ],
          "mesh3d": [
           {
            "colorbar": {
             "outlinewidth": 0,
             "ticks": ""
            },
            "type": "mesh3d"
           }
          ],
          "parcoords": [
           {
            "line": {
             "colorbar": {
              "outlinewidth": 0,
              "ticks": ""
             }
            },
            "type": "parcoords"
           }
          ],
          "pie": [
           {
            "automargin": true,
            "type": "pie"
           }
          ],
          "scatter": [
           {
            "fillpattern": {
             "fillmode": "overlay",
             "size": 10,
             "solidity": 0.2
            },
            "type": "scatter"
           }
          ],
          "scatter3d": [
           {
            "line": {
             "colorbar": {
              "outlinewidth": 0,
              "ticks": ""
             }
            },
            "marker": {
             "colorbar": {
              "outlinewidth": 0,
              "ticks": ""
             }
            },
            "type": "scatter3d"
           }
          ],
          "scattercarpet": [
           {
            "marker": {
             "colorbar": {
              "outlinewidth": 0,
              "ticks": ""
             }
            },
            "type": "scattercarpet"
           }
          ],
          "scattergeo": [
           {
            "marker": {
             "colorbar": {
              "outlinewidth": 0,
              "ticks": ""
             }
            },
            "type": "scattergeo"
           }
          ],
          "scattergl": [
           {
            "marker": {
             "colorbar": {
              "outlinewidth": 0,
              "ticks": ""
             }
            },
            "type": "scattergl"
           }
          ],
          "scattermap": [
           {
            "marker": {
             "colorbar": {
              "outlinewidth": 0,
              "ticks": ""
             }
            },
            "type": "scattermap"
           }
          ],
          "scattermapbox": [
           {
            "marker": {
             "colorbar": {
              "outlinewidth": 0,
              "ticks": ""
             }
            },
            "type": "scattermapbox"
           }
          ],
          "scatterpolar": [
           {
            "marker": {
             "colorbar": {
              "outlinewidth": 0,
              "ticks": ""
             }
            },
            "type": "scatterpolar"
           }
          ],
          "scatterpolargl": [
           {
            "marker": {
             "colorbar": {
              "outlinewidth": 0,
              "ticks": ""
             }
            },
            "type": "scatterpolargl"
           }
          ],
          "scatterternary": [
           {
            "marker": {
             "colorbar": {
              "outlinewidth": 0,
              "ticks": ""
             }
            },
            "type": "scatterternary"
           }
          ],
          "surface": [
           {
            "colorbar": {
             "outlinewidth": 0,
             "ticks": ""
            },
            "colorscale": [
             [
              0,
              "#0d0887"
             ],
             [
              0.1111111111111111,
              "#46039f"
             ],
             [
              0.2222222222222222,
              "#7201a8"
             ],
             [
              0.3333333333333333,
              "#9c179e"
             ],
             [
              0.4444444444444444,
              "#bd3786"
             ],
             [
              0.5555555555555556,
              "#d8576b"
             ],
             [
              0.6666666666666666,
              "#ed7953"
             ],
             [
              0.7777777777777778,
              "#fb9f3a"
             ],
             [
              0.8888888888888888,
              "#fdca26"
             ],
             [
              1,
              "#f0f921"
             ]
            ],
            "type": "surface"
           }
          ],
          "table": [
           {
            "cells": {
             "fill": {
              "color": "#EBF0F8"
             },
             "line": {
              "color": "white"
             }
            },
            "header": {
             "fill": {
              "color": "#C8D4E3"
             },
             "line": {
              "color": "white"
             }
            },
            "type": "table"
           }
          ]
         },
         "layout": {
          "annotationdefaults": {
           "arrowcolor": "#2a3f5f",
           "arrowhead": 0,
           "arrowwidth": 1
          },
          "autotypenumbers": "strict",
          "coloraxis": {
           "colorbar": {
            "outlinewidth": 0,
            "ticks": ""
           }
          },
          "colorscale": {
           "diverging": [
            [
             0,
             "#8e0152"
            ],
            [
             0.1,
             "#c51b7d"
            ],
            [
             0.2,
             "#de77ae"
            ],
            [
             0.3,
             "#f1b6da"
            ],
            [
             0.4,
             "#fde0ef"
            ],
            [
             0.5,
             "#f7f7f7"
            ],
            [
             0.6,
             "#e6f5d0"
            ],
            [
             0.7,
             "#b8e186"
            ],
            [
             0.8,
             "#7fbc41"
            ],
            [
             0.9,
             "#4d9221"
            ],
            [
             1,
             "#276419"
            ]
           ],
           "sequential": [
            [
             0,
             "#0d0887"
            ],
            [
             0.1111111111111111,
             "#46039f"
            ],
            [
             0.2222222222222222,
             "#7201a8"
            ],
            [
             0.3333333333333333,
             "#9c179e"
            ],
            [
             0.4444444444444444,
             "#bd3786"
            ],
            [
             0.5555555555555556,
             "#d8576b"
            ],
            [
             0.6666666666666666,
             "#ed7953"
            ],
            [
             0.7777777777777778,
             "#fb9f3a"
            ],
            [
             0.8888888888888888,
             "#fdca26"
            ],
            [
             1,
             "#f0f921"
            ]
           ],
           "sequentialminus": [
            [
             0,
             "#0d0887"
            ],
            [
             0.1111111111111111,
             "#46039f"
            ],
            [
             0.2222222222222222,
             "#7201a8"
            ],
            [
             0.3333333333333333,
             "#9c179e"
            ],
            [
             0.4444444444444444,
             "#bd3786"
            ],
            [
             0.5555555555555556,
             "#d8576b"
            ],
            [
             0.6666666666666666,
             "#ed7953"
            ],
            [
             0.7777777777777778,
             "#fb9f3a"
            ],
            [
             0.8888888888888888,
             "#fdca26"
            ],
            [
             1,
             "#f0f921"
            ]
           ]
          },
          "colorway": [
           "#636efa",
           "#EF553B",
           "#00cc96",
           "#ab63fa",
           "#FFA15A",
           "#19d3f3",
           "#FF6692",
           "#B6E880",
           "#FF97FF",
           "#FECB52"
          ],
          "font": {
           "color": "#2a3f5f"
          },
          "geo": {
           "bgcolor": "white",
           "lakecolor": "white",
           "landcolor": "#E5ECF6",
           "showlakes": true,
           "showland": true,
           "subunitcolor": "white"
          },
          "hoverlabel": {
           "align": "left"
          },
          "hovermode": "closest",
          "mapbox": {
           "style": "light"
          },
          "paper_bgcolor": "white",
          "plot_bgcolor": "#E5ECF6",
          "polar": {
           "angularaxis": {
            "gridcolor": "white",
            "linecolor": "white",
            "ticks": ""
           },
           "bgcolor": "#E5ECF6",
           "radialaxis": {
            "gridcolor": "white",
            "linecolor": "white",
            "ticks": ""
           }
          },
          "scene": {
           "xaxis": {
            "backgroundcolor": "#E5ECF6",
            "gridcolor": "white",
            "gridwidth": 2,
            "linecolor": "white",
            "showbackground": true,
            "ticks": "",
            "zerolinecolor": "white"
           },
           "yaxis": {
            "backgroundcolor": "#E5ECF6",
            "gridcolor": "white",
            "gridwidth": 2,
            "linecolor": "white",
            "showbackground": true,
            "ticks": "",
            "zerolinecolor": "white"
           },
           "zaxis": {
            "backgroundcolor": "#E5ECF6",
            "gridcolor": "white",
            "gridwidth": 2,
            "linecolor": "white",
            "showbackground": true,
            "ticks": "",
            "zerolinecolor": "white"
           }
          },
          "shapedefaults": {
           "line": {
            "color": "#2a3f5f"
           }
          },
          "ternary": {
           "aaxis": {
            "gridcolor": "white",
            "linecolor": "white",
            "ticks": ""
           },
           "baxis": {
            "gridcolor": "white",
            "linecolor": "white",
            "ticks": ""
           },
           "bgcolor": "#E5ECF6",
           "caxis": {
            "gridcolor": "white",
            "linecolor": "white",
            "ticks": ""
           }
          },
          "title": {
           "x": 0.05
          },
          "xaxis": {
           "automargin": true,
           "gridcolor": "white",
           "linecolor": "white",
           "ticks": "",
           "title": {
            "standoff": 15
           },
           "zerolinecolor": "white",
           "zerolinewidth": 2
          },
          "yaxis": {
           "automargin": true,
           "gridcolor": "white",
           "linecolor": "white",
           "ticks": "",
           "title": {
            "standoff": 15
           },
           "zerolinecolor": "white",
           "zerolinewidth": 2
          }
         }
        },
        "width": 700,
        "xaxis": {
         "anchor": "y",
         "domain": [
          0,
          1
         ],
         "title": {
          "text": "tenure_group"
         }
        },
        "yaxis": {
         "anchor": "x",
         "domain": [
          0,
          1
         ],
         "title": {
          "text": "customerID"
         }
        }
       }
      }
     },
     "metadata": {},
     "output_type": "display_data"
    }
   ],
   "source": [
    "df = pd.read_csv('telco_customer.csv')\n",
    "# Definisi tepian (bins) dan label\n",
    "batas  = [0, 21, 41, np.inf]      # [0,20)  [21,40)  [41,∞)\n",
    "label  = [\"low_tenure\", \"medium_tenure\", \"high_tenure\"]\n",
    "\n",
    "df[\"tenure_group\"] = pd.cut(\n",
    "   df[\"tenure\"],\n",
    "    bins=batas,\n",
    "    labels=label,\n",
    "    right=False,          \n",
    "    include_lowest=True  \n",
    ")\n",
    "\n",
    "df_tg = (\n",
    "    df.groupby('tenure_group', observed=False)   \n",
    "      ['customerID'].nunique() \n",
    "      .reset_index()           \n",
    "      .sort_values('customerID', ascending=False)\n",
    ")\n",
    "\n",
    "fig = px.bar(df_tg,x=\"tenure_group\", y=\"customerID\", text_auto=True,height=500,width=700)\n",
    "fig.show()"
   ]
  },
  {
   "cell_type": "markdown",
   "metadata": {
    "id": "vv7EuRAEMF4y"
   },
   "source": [
    "$\\textbf{Jangan lupa kasih kesimpulan dari visualisasi yang kalian buat! Isi seperti diatas ya}$"
   ]
  },
  {
   "cell_type": "markdown",
   "metadata": {
    "id": "0xoAMtvCMF4z"
   },
   "source": [
    "Jadi, dari plot di atas, kami menyimpulkan bahwa masa berlangganan(tenure) pada kategori **low** dan **high** hampir sama **2878** user dan **2757** user, namun pada kategori medium tergolong user yang sedikit yakni **1408**. kategori langganan yang banyak diminati pasar adalah di rentang **1 sampai dengan 20 bulan** dan rentang tenure antara **21 sampai 40**  merupakan kategori **medium tenure** yang kurang diminati pasar. jadi pertimbangan juga untuk **medium tenure** ini, perlu dikaji lebih dalam mengapai tergolong sedikit dalam penggunaannya."
   ]
  },
  {
   "cell_type": "markdown",
   "metadata": {
    "id": "b5hviBMtMF4z"
   },
   "source": [
    "## Apakah kebanyakan dari Senior Citizen berlangganan PhoneService?"
   ]
  },
  {
   "cell_type": "markdown",
   "metadata": {
    "id": "VhPI6OhLMF4z"
   },
   "source": [
    "Hint:\n",
    "- Dapat menggunakan feature/input parameter hue pada seaborn\n",
    "- Dalam menghitung jumlah unique customer, jangan lupa perhatikan angka rasio, tidak hanya angka absolutnya\n",
    "\n"
   ]
  },
  {
   "cell_type": "code",
   "execution_count": 155,
   "metadata": {
    "ExecuteTime": {
     "end_time": "2021-10-23T10:20:47.306584Z",
     "start_time": "2021-10-23T10:20:47.299827Z"
    },
    "id": "ZN5YYoZzMF4z",
    "scrolled": true
   },
   "outputs": [
    {
     "data": {
      "text/html": [
       "<div>\n",
       "<style scoped>\n",
       "    .dataframe tbody tr th:only-of-type {\n",
       "        vertical-align: middle;\n",
       "    }\n",
       "\n",
       "    .dataframe tbody tr th {\n",
       "        vertical-align: top;\n",
       "    }\n",
       "\n",
       "    .dataframe thead th {\n",
       "        text-align: right;\n",
       "    }\n",
       "</style>\n",
       "<table border=\"1\" class=\"dataframe\">\n",
       "  <thead>\n",
       "    <tr style=\"text-align: right;\">\n",
       "      <th></th>\n",
       "      <th>SeniorCitizen</th>\n",
       "      <th>PhoneService</th>\n",
       "      <th>TotalCustomer</th>\n",
       "      <th>Percentage</th>\n",
       "      <th>Percentage_total</th>\n",
       "    </tr>\n",
       "  </thead>\n",
       "  <tbody>\n",
       "    <tr>\n",
       "      <th>0</th>\n",
       "      <td>0</td>\n",
       "      <td>No</td>\n",
       "      <td>578</td>\n",
       "      <td>9.79</td>\n",
       "      <td>8.21</td>\n",
       "    </tr>\n",
       "    <tr>\n",
       "      <th>1</th>\n",
       "      <td>0</td>\n",
       "      <td>Yes</td>\n",
       "      <td>5323</td>\n",
       "      <td>90.21</td>\n",
       "      <td>75.58</td>\n",
       "    </tr>\n",
       "    <tr>\n",
       "      <th>2</th>\n",
       "      <td>1</td>\n",
       "      <td>No</td>\n",
       "      <td>104</td>\n",
       "      <td>9.11</td>\n",
       "      <td>1.48</td>\n",
       "    </tr>\n",
       "    <tr>\n",
       "      <th>3</th>\n",
       "      <td>1</td>\n",
       "      <td>Yes</td>\n",
       "      <td>1038</td>\n",
       "      <td>90.89</td>\n",
       "      <td>14.74</td>\n",
       "    </tr>\n",
       "  </tbody>\n",
       "</table>\n",
       "</div>"
      ],
      "text/plain": [
       "   SeniorCitizen PhoneService  TotalCustomer  Percentage  Percentage_total\n",
       "0              0           No            578        9.79              8.21\n",
       "1              0          Yes           5323       90.21             75.58\n",
       "2              1           No            104        9.11              1.48\n",
       "3              1          Yes           1038       90.89             14.74"
      ]
     },
     "execution_count": 155,
     "metadata": {},
     "output_type": "execute_result"
    }
   ],
   "source": [
    "df = pd.read_csv('telco_customer.csv')\n",
    "df_grp = (\n",
    "    df.groupby(['SeniorCitizen', 'PhoneService'])\n",
    "      .agg(TotalCustomer=('customerID', 'nunique'))\n",
    "      .reset_index()\n",
    "      .assign(\n",
    "          Percentage=lambda d: (\n",
    "              d.groupby('SeniorCitizen')['TotalCustomer']\n",
    "               .transform(lambda x: (x / x.sum() * 100).round(2))\n",
    "          ),\n",
    "            Percentage_total=lambda x: (\n",
    "              x['TotalCustomer'] / x['TotalCustomer'].sum() * 100\n",
    "          ).round(2)\n",
    "      \n",
    "      )\n",
    ")\n",
    "\n",
    "df_grp\n"
   ]
  },
  {
   "cell_type": "code",
   "execution_count": 156,
   "metadata": {},
   "outputs": [
    {
     "data": {
      "application/vnd.plotly.v1+json": {
       "config": {
        "plotlyServerURL": "https://plot.ly"
       },
       "data": [
        {
         "alignmentgroup": "True",
         "hovertemplate": "PhoneService=No<br>SeniorCitizen=%{x}<br>Percentage_total=%{y}<extra></extra>",
         "legendgroup": "No",
         "marker": {
          "color": "#636efa",
          "pattern": {
           "shape": ""
          }
         },
         "name": "No",
         "offsetgroup": "No",
         "orientation": "v",
         "showlegend": true,
         "textposition": "auto",
         "type": "bar",
         "x": {
          "bdata": "AAE=",
          "dtype": "i1"
         },
         "xaxis": "x",
         "y": {
          "bdata": "7FG4HoVrIECuR+F6FK73Pw==",
          "dtype": "f8"
         },
         "yaxis": "y"
        },
        {
         "alignmentgroup": "True",
         "hovertemplate": "PhoneService=Yes<br>SeniorCitizen=%{x}<br>Percentage_total=%{y}<extra></extra>",
         "legendgroup": "Yes",
         "marker": {
          "color": "#EF553B",
          "pattern": {
           "shape": ""
          }
         },
         "name": "Yes",
         "offsetgroup": "Yes",
         "orientation": "v",
         "showlegend": true,
         "textposition": "auto",
         "type": "bar",
         "x": {
          "bdata": "AAE=",
          "dtype": "i1"
         },
         "xaxis": "x",
         "y": {
          "bdata": "hetRuB7lUkB7FK5H4XotQA==",
          "dtype": "f8"
         },
         "yaxis": "y"
        }
       ],
       "layout": {
        "barmode": "group",
        "height": 500,
        "legend": {
         "title": {
          "text": "PhoneService"
         },
         "tracegroupgap": 0
        },
        "template": {
         "data": {
          "bar": [
           {
            "error_x": {
             "color": "#2a3f5f"
            },
            "error_y": {
             "color": "#2a3f5f"
            },
            "marker": {
             "line": {
              "color": "#E5ECF6",
              "width": 0.5
             },
             "pattern": {
              "fillmode": "overlay",
              "size": 10,
              "solidity": 0.2
             }
            },
            "type": "bar"
           }
          ],
          "barpolar": [
           {
            "marker": {
             "line": {
              "color": "#E5ECF6",
              "width": 0.5
             },
             "pattern": {
              "fillmode": "overlay",
              "size": 10,
              "solidity": 0.2
             }
            },
            "type": "barpolar"
           }
          ],
          "carpet": [
           {
            "aaxis": {
             "endlinecolor": "#2a3f5f",
             "gridcolor": "white",
             "linecolor": "white",
             "minorgridcolor": "white",
             "startlinecolor": "#2a3f5f"
            },
            "baxis": {
             "endlinecolor": "#2a3f5f",
             "gridcolor": "white",
             "linecolor": "white",
             "minorgridcolor": "white",
             "startlinecolor": "#2a3f5f"
            },
            "type": "carpet"
           }
          ],
          "choropleth": [
           {
            "colorbar": {
             "outlinewidth": 0,
             "ticks": ""
            },
            "type": "choropleth"
           }
          ],
          "contour": [
           {
            "colorbar": {
             "outlinewidth": 0,
             "ticks": ""
            },
            "colorscale": [
             [
              0,
              "#0d0887"
             ],
             [
              0.1111111111111111,
              "#46039f"
             ],
             [
              0.2222222222222222,
              "#7201a8"
             ],
             [
              0.3333333333333333,
              "#9c179e"
             ],
             [
              0.4444444444444444,
              "#bd3786"
             ],
             [
              0.5555555555555556,
              "#d8576b"
             ],
             [
              0.6666666666666666,
              "#ed7953"
             ],
             [
              0.7777777777777778,
              "#fb9f3a"
             ],
             [
              0.8888888888888888,
              "#fdca26"
             ],
             [
              1,
              "#f0f921"
             ]
            ],
            "type": "contour"
           }
          ],
          "contourcarpet": [
           {
            "colorbar": {
             "outlinewidth": 0,
             "ticks": ""
            },
            "type": "contourcarpet"
           }
          ],
          "heatmap": [
           {
            "colorbar": {
             "outlinewidth": 0,
             "ticks": ""
            },
            "colorscale": [
             [
              0,
              "#0d0887"
             ],
             [
              0.1111111111111111,
              "#46039f"
             ],
             [
              0.2222222222222222,
              "#7201a8"
             ],
             [
              0.3333333333333333,
              "#9c179e"
             ],
             [
              0.4444444444444444,
              "#bd3786"
             ],
             [
              0.5555555555555556,
              "#d8576b"
             ],
             [
              0.6666666666666666,
              "#ed7953"
             ],
             [
              0.7777777777777778,
              "#fb9f3a"
             ],
             [
              0.8888888888888888,
              "#fdca26"
             ],
             [
              1,
              "#f0f921"
             ]
            ],
            "type": "heatmap"
           }
          ],
          "histogram": [
           {
            "marker": {
             "pattern": {
              "fillmode": "overlay",
              "size": 10,
              "solidity": 0.2
             }
            },
            "type": "histogram"
           }
          ],
          "histogram2d": [
           {
            "colorbar": {
             "outlinewidth": 0,
             "ticks": ""
            },
            "colorscale": [
             [
              0,
              "#0d0887"
             ],
             [
              0.1111111111111111,
              "#46039f"
             ],
             [
              0.2222222222222222,
              "#7201a8"
             ],
             [
              0.3333333333333333,
              "#9c179e"
             ],
             [
              0.4444444444444444,
              "#bd3786"
             ],
             [
              0.5555555555555556,
              "#d8576b"
             ],
             [
              0.6666666666666666,
              "#ed7953"
             ],
             [
              0.7777777777777778,
              "#fb9f3a"
             ],
             [
              0.8888888888888888,
              "#fdca26"
             ],
             [
              1,
              "#f0f921"
             ]
            ],
            "type": "histogram2d"
           }
          ],
          "histogram2dcontour": [
           {
            "colorbar": {
             "outlinewidth": 0,
             "ticks": ""
            },
            "colorscale": [
             [
              0,
              "#0d0887"
             ],
             [
              0.1111111111111111,
              "#46039f"
             ],
             [
              0.2222222222222222,
              "#7201a8"
             ],
             [
              0.3333333333333333,
              "#9c179e"
             ],
             [
              0.4444444444444444,
              "#bd3786"
             ],
             [
              0.5555555555555556,
              "#d8576b"
             ],
             [
              0.6666666666666666,
              "#ed7953"
             ],
             [
              0.7777777777777778,
              "#fb9f3a"
             ],
             [
              0.8888888888888888,
              "#fdca26"
             ],
             [
              1,
              "#f0f921"
             ]
            ],
            "type": "histogram2dcontour"
           }
          ],
          "mesh3d": [
           {
            "colorbar": {
             "outlinewidth": 0,
             "ticks": ""
            },
            "type": "mesh3d"
           }
          ],
          "parcoords": [
           {
            "line": {
             "colorbar": {
              "outlinewidth": 0,
              "ticks": ""
             }
            },
            "type": "parcoords"
           }
          ],
          "pie": [
           {
            "automargin": true,
            "type": "pie"
           }
          ],
          "scatter": [
           {
            "fillpattern": {
             "fillmode": "overlay",
             "size": 10,
             "solidity": 0.2
            },
            "type": "scatter"
           }
          ],
          "scatter3d": [
           {
            "line": {
             "colorbar": {
              "outlinewidth": 0,
              "ticks": ""
             }
            },
            "marker": {
             "colorbar": {
              "outlinewidth": 0,
              "ticks": ""
             }
            },
            "type": "scatter3d"
           }
          ],
          "scattercarpet": [
           {
            "marker": {
             "colorbar": {
              "outlinewidth": 0,
              "ticks": ""
             }
            },
            "type": "scattercarpet"
           }
          ],
          "scattergeo": [
           {
            "marker": {
             "colorbar": {
              "outlinewidth": 0,
              "ticks": ""
             }
            },
            "type": "scattergeo"
           }
          ],
          "scattergl": [
           {
            "marker": {
             "colorbar": {
              "outlinewidth": 0,
              "ticks": ""
             }
            },
            "type": "scattergl"
           }
          ],
          "scattermap": [
           {
            "marker": {
             "colorbar": {
              "outlinewidth": 0,
              "ticks": ""
             }
            },
            "type": "scattermap"
           }
          ],
          "scattermapbox": [
           {
            "marker": {
             "colorbar": {
              "outlinewidth": 0,
              "ticks": ""
             }
            },
            "type": "scattermapbox"
           }
          ],
          "scatterpolar": [
           {
            "marker": {
             "colorbar": {
              "outlinewidth": 0,
              "ticks": ""
             }
            },
            "type": "scatterpolar"
           }
          ],
          "scatterpolargl": [
           {
            "marker": {
             "colorbar": {
              "outlinewidth": 0,
              "ticks": ""
             }
            },
            "type": "scatterpolargl"
           }
          ],
          "scatterternary": [
           {
            "marker": {
             "colorbar": {
              "outlinewidth": 0,
              "ticks": ""
             }
            },
            "type": "scatterternary"
           }
          ],
          "surface": [
           {
            "colorbar": {
             "outlinewidth": 0,
             "ticks": ""
            },
            "colorscale": [
             [
              0,
              "#0d0887"
             ],
             [
              0.1111111111111111,
              "#46039f"
             ],
             [
              0.2222222222222222,
              "#7201a8"
             ],
             [
              0.3333333333333333,
              "#9c179e"
             ],
             [
              0.4444444444444444,
              "#bd3786"
             ],
             [
              0.5555555555555556,
              "#d8576b"
             ],
             [
              0.6666666666666666,
              "#ed7953"
             ],
             [
              0.7777777777777778,
              "#fb9f3a"
             ],
             [
              0.8888888888888888,
              "#fdca26"
             ],
             [
              1,
              "#f0f921"
             ]
            ],
            "type": "surface"
           }
          ],
          "table": [
           {
            "cells": {
             "fill": {
              "color": "#EBF0F8"
             },
             "line": {
              "color": "white"
             }
            },
            "header": {
             "fill": {
              "color": "#C8D4E3"
             },
             "line": {
              "color": "white"
             }
            },
            "type": "table"
           }
          ]
         },
         "layout": {
          "annotationdefaults": {
           "arrowcolor": "#2a3f5f",
           "arrowhead": 0,
           "arrowwidth": 1
          },
          "autotypenumbers": "strict",
          "coloraxis": {
           "colorbar": {
            "outlinewidth": 0,
            "ticks": ""
           }
          },
          "colorscale": {
           "diverging": [
            [
             0,
             "#8e0152"
            ],
            [
             0.1,
             "#c51b7d"
            ],
            [
             0.2,
             "#de77ae"
            ],
            [
             0.3,
             "#f1b6da"
            ],
            [
             0.4,
             "#fde0ef"
            ],
            [
             0.5,
             "#f7f7f7"
            ],
            [
             0.6,
             "#e6f5d0"
            ],
            [
             0.7,
             "#b8e186"
            ],
            [
             0.8,
             "#7fbc41"
            ],
            [
             0.9,
             "#4d9221"
            ],
            [
             1,
             "#276419"
            ]
           ],
           "sequential": [
            [
             0,
             "#0d0887"
            ],
            [
             0.1111111111111111,
             "#46039f"
            ],
            [
             0.2222222222222222,
             "#7201a8"
            ],
            [
             0.3333333333333333,
             "#9c179e"
            ],
            [
             0.4444444444444444,
             "#bd3786"
            ],
            [
             0.5555555555555556,
             "#d8576b"
            ],
            [
             0.6666666666666666,
             "#ed7953"
            ],
            [
             0.7777777777777778,
             "#fb9f3a"
            ],
            [
             0.8888888888888888,
             "#fdca26"
            ],
            [
             1,
             "#f0f921"
            ]
           ],
           "sequentialminus": [
            [
             0,
             "#0d0887"
            ],
            [
             0.1111111111111111,
             "#46039f"
            ],
            [
             0.2222222222222222,
             "#7201a8"
            ],
            [
             0.3333333333333333,
             "#9c179e"
            ],
            [
             0.4444444444444444,
             "#bd3786"
            ],
            [
             0.5555555555555556,
             "#d8576b"
            ],
            [
             0.6666666666666666,
             "#ed7953"
            ],
            [
             0.7777777777777778,
             "#fb9f3a"
            ],
            [
             0.8888888888888888,
             "#fdca26"
            ],
            [
             1,
             "#f0f921"
            ]
           ]
          },
          "colorway": [
           "#636efa",
           "#EF553B",
           "#00cc96",
           "#ab63fa",
           "#FFA15A",
           "#19d3f3",
           "#FF6692",
           "#B6E880",
           "#FF97FF",
           "#FECB52"
          ],
          "font": {
           "color": "#2a3f5f"
          },
          "geo": {
           "bgcolor": "white",
           "lakecolor": "white",
           "landcolor": "#E5ECF6",
           "showlakes": true,
           "showland": true,
           "subunitcolor": "white"
          },
          "hoverlabel": {
           "align": "left"
          },
          "hovermode": "closest",
          "mapbox": {
           "style": "light"
          },
          "paper_bgcolor": "white",
          "plot_bgcolor": "#E5ECF6",
          "polar": {
           "angularaxis": {
            "gridcolor": "white",
            "linecolor": "white",
            "ticks": ""
           },
           "bgcolor": "#E5ECF6",
           "radialaxis": {
            "gridcolor": "white",
            "linecolor": "white",
            "ticks": ""
           }
          },
          "scene": {
           "xaxis": {
            "backgroundcolor": "#E5ECF6",
            "gridcolor": "white",
            "gridwidth": 2,
            "linecolor": "white",
            "showbackground": true,
            "ticks": "",
            "zerolinecolor": "white"
           },
           "yaxis": {
            "backgroundcolor": "#E5ECF6",
            "gridcolor": "white",
            "gridwidth": 2,
            "linecolor": "white",
            "showbackground": true,
            "ticks": "",
            "zerolinecolor": "white"
           },
           "zaxis": {
            "backgroundcolor": "#E5ECF6",
            "gridcolor": "white",
            "gridwidth": 2,
            "linecolor": "white",
            "showbackground": true,
            "ticks": "",
            "zerolinecolor": "white"
           }
          },
          "shapedefaults": {
           "line": {
            "color": "#2a3f5f"
           }
          },
          "ternary": {
           "aaxis": {
            "gridcolor": "white",
            "linecolor": "white",
            "ticks": ""
           },
           "baxis": {
            "gridcolor": "white",
            "linecolor": "white",
            "ticks": ""
           },
           "bgcolor": "#E5ECF6",
           "caxis": {
            "gridcolor": "white",
            "linecolor": "white",
            "ticks": ""
           }
          },
          "title": {
           "x": 0.05
          },
          "xaxis": {
           "automargin": true,
           "gridcolor": "white",
           "linecolor": "white",
           "ticks": "",
           "title": {
            "standoff": 15
           },
           "zerolinecolor": "white",
           "zerolinewidth": 2
          },
          "yaxis": {
           "automargin": true,
           "gridcolor": "white",
           "linecolor": "white",
           "ticks": "",
           "title": {
            "standoff": 15
           },
           "zerolinecolor": "white",
           "zerolinewidth": 2
          }
         }
        },
        "title": {
         "text": "Persentase Citizen berdasarkan Phone Service"
        },
        "width": 800,
        "xaxis": {
         "anchor": "y",
         "domain": [
          0,
          1
         ],
         "title": {
          "text": "Senior Citizen"
         }
        },
        "yaxis": {
         "anchor": "x",
         "domain": [
          0,
          1
         ],
         "tickformat": ".1f",
         "title": {
          "text": "Persentase (%)"
         }
        }
       }
      }
     },
     "metadata": {},
     "output_type": "display_data"
    }
   ],
   "source": [
    "# Plot barplot dengan Plotly\n",
    "fig = px.bar(\n",
    "    df_grp,\n",
    "    x='SeniorCitizen',\n",
    "    y='Percentage_total',\n",
    "    color='PhoneService',\n",
    "    barmode='group',\n",
    "    title='Persentase Citizen berdasarkan Phone Service',\n",
    "    width=800,\n",
    "    height=500\n",
    ")\n",
    "\n",
    "fig.update_layout(\n",
    "    xaxis_title='Senior Citizen',\n",
    "    yaxis_title='Persentase (%)',\n",
    "    yaxis_tickformat='.1f'\n",
    ")\n",
    "\n",
    "fig.show()"
   ]
  },
  {
   "cell_type": "markdown",
   "metadata": {},
   "source": [
    "berdasar data diatas antara **Senior Citizen** dan bukan Senior Citizen terhadap penggunaan phone service ternyata cukup jauh perbedaanya.<br>\n",
    "**Senior Citizen** dengan pengguna **phone service** sebesar **14.7%** sementara yang **bukan Senior Citizen** sebesar **75,6%** dari seluruh citizen yang ada. dari data ini merupakan hal wajar karena karena kemukinan jumlah penduduk yang sudah lanjut usia memang sedikit jumlahnya jika dibandingkan dengan penduduk berusia muda, bisa juga karena yang telah lanjut usia sudah enggan untuk menggunakan peralatan elektronik."
   ]
  },
  {
   "cell_type": "code",
   "execution_count": 157,
   "metadata": {},
   "outputs": [
    {
     "data": {
      "application/vnd.plotly.v1+json": {
       "config": {
        "plotlyServerURL": "https://plot.ly"
       },
       "data": [
        {
         "alignmentgroup": "True",
         "hovertemplate": "PhoneService=No<br>SeniorCitizen=%{x}<br>Percentage=%{y}<extra></extra>",
         "legendgroup": "No",
         "marker": {
          "color": "#636efa",
          "pattern": {
           "shape": ""
          }
         },
         "name": "No",
         "offsetgroup": "No",
         "orientation": "v",
         "showlegend": true,
         "textposition": "auto",
         "type": "bar",
         "x": {
          "bdata": "AQ==",
          "dtype": "i1"
         },
         "xaxis": "x",
         "y": {
          "bdata": "uB6F61E4IkA=",
          "dtype": "f8"
         },
         "yaxis": "y"
        },
        {
         "alignmentgroup": "True",
         "hovertemplate": "PhoneService=Yes<br>SeniorCitizen=%{x}<br>Percentage=%{y}<extra></extra>",
         "legendgroup": "Yes",
         "marker": {
          "color": "#EF553B",
          "pattern": {
           "shape": ""
          }
         },
         "name": "Yes",
         "offsetgroup": "Yes",
         "orientation": "v",
         "showlegend": true,
         "textposition": "auto",
         "type": "bar",
         "x": {
          "bdata": "AQ==",
          "dtype": "i1"
         },
         "xaxis": "x",
         "y": {
          "bdata": "KVyPwvW4VkA=",
          "dtype": "f8"
         },
         "yaxis": "y"
        }
       ],
       "layout": {
        "barmode": "group",
        "height": 500,
        "legend": {
         "title": {
          "text": "PhoneService"
         },
         "tracegroupgap": 0
        },
        "template": {
         "data": {
          "bar": [
           {
            "error_x": {
             "color": "#2a3f5f"
            },
            "error_y": {
             "color": "#2a3f5f"
            },
            "marker": {
             "line": {
              "color": "#E5ECF6",
              "width": 0.5
             },
             "pattern": {
              "fillmode": "overlay",
              "size": 10,
              "solidity": 0.2
             }
            },
            "type": "bar"
           }
          ],
          "barpolar": [
           {
            "marker": {
             "line": {
              "color": "#E5ECF6",
              "width": 0.5
             },
             "pattern": {
              "fillmode": "overlay",
              "size": 10,
              "solidity": 0.2
             }
            },
            "type": "barpolar"
           }
          ],
          "carpet": [
           {
            "aaxis": {
             "endlinecolor": "#2a3f5f",
             "gridcolor": "white",
             "linecolor": "white",
             "minorgridcolor": "white",
             "startlinecolor": "#2a3f5f"
            },
            "baxis": {
             "endlinecolor": "#2a3f5f",
             "gridcolor": "white",
             "linecolor": "white",
             "minorgridcolor": "white",
             "startlinecolor": "#2a3f5f"
            },
            "type": "carpet"
           }
          ],
          "choropleth": [
           {
            "colorbar": {
             "outlinewidth": 0,
             "ticks": ""
            },
            "type": "choropleth"
           }
          ],
          "contour": [
           {
            "colorbar": {
             "outlinewidth": 0,
             "ticks": ""
            },
            "colorscale": [
             [
              0,
              "#0d0887"
             ],
             [
              0.1111111111111111,
              "#46039f"
             ],
             [
              0.2222222222222222,
              "#7201a8"
             ],
             [
              0.3333333333333333,
              "#9c179e"
             ],
             [
              0.4444444444444444,
              "#bd3786"
             ],
             [
              0.5555555555555556,
              "#d8576b"
             ],
             [
              0.6666666666666666,
              "#ed7953"
             ],
             [
              0.7777777777777778,
              "#fb9f3a"
             ],
             [
              0.8888888888888888,
              "#fdca26"
             ],
             [
              1,
              "#f0f921"
             ]
            ],
            "type": "contour"
           }
          ],
          "contourcarpet": [
           {
            "colorbar": {
             "outlinewidth": 0,
             "ticks": ""
            },
            "type": "contourcarpet"
           }
          ],
          "heatmap": [
           {
            "colorbar": {
             "outlinewidth": 0,
             "ticks": ""
            },
            "colorscale": [
             [
              0,
              "#0d0887"
             ],
             [
              0.1111111111111111,
              "#46039f"
             ],
             [
              0.2222222222222222,
              "#7201a8"
             ],
             [
              0.3333333333333333,
              "#9c179e"
             ],
             [
              0.4444444444444444,
              "#bd3786"
             ],
             [
              0.5555555555555556,
              "#d8576b"
             ],
             [
              0.6666666666666666,
              "#ed7953"
             ],
             [
              0.7777777777777778,
              "#fb9f3a"
             ],
             [
              0.8888888888888888,
              "#fdca26"
             ],
             [
              1,
              "#f0f921"
             ]
            ],
            "type": "heatmap"
           }
          ],
          "histogram": [
           {
            "marker": {
             "pattern": {
              "fillmode": "overlay",
              "size": 10,
              "solidity": 0.2
             }
            },
            "type": "histogram"
           }
          ],
          "histogram2d": [
           {
            "colorbar": {
             "outlinewidth": 0,
             "ticks": ""
            },
            "colorscale": [
             [
              0,
              "#0d0887"
             ],
             [
              0.1111111111111111,
              "#46039f"
             ],
             [
              0.2222222222222222,
              "#7201a8"
             ],
             [
              0.3333333333333333,
              "#9c179e"
             ],
             [
              0.4444444444444444,
              "#bd3786"
             ],
             [
              0.5555555555555556,
              "#d8576b"
             ],
             [
              0.6666666666666666,
              "#ed7953"
             ],
             [
              0.7777777777777778,
              "#fb9f3a"
             ],
             [
              0.8888888888888888,
              "#fdca26"
             ],
             [
              1,
              "#f0f921"
             ]
            ],
            "type": "histogram2d"
           }
          ],
          "histogram2dcontour": [
           {
            "colorbar": {
             "outlinewidth": 0,
             "ticks": ""
            },
            "colorscale": [
             [
              0,
              "#0d0887"
             ],
             [
              0.1111111111111111,
              "#46039f"
             ],
             [
              0.2222222222222222,
              "#7201a8"
             ],
             [
              0.3333333333333333,
              "#9c179e"
             ],
             [
              0.4444444444444444,
              "#bd3786"
             ],
             [
              0.5555555555555556,
              "#d8576b"
             ],
             [
              0.6666666666666666,
              "#ed7953"
             ],
             [
              0.7777777777777778,
              "#fb9f3a"
             ],
             [
              0.8888888888888888,
              "#fdca26"
             ],
             [
              1,
              "#f0f921"
             ]
            ],
            "type": "histogram2dcontour"
           }
          ],
          "mesh3d": [
           {
            "colorbar": {
             "outlinewidth": 0,
             "ticks": ""
            },
            "type": "mesh3d"
           }
          ],
          "parcoords": [
           {
            "line": {
             "colorbar": {
              "outlinewidth": 0,
              "ticks": ""
             }
            },
            "type": "parcoords"
           }
          ],
          "pie": [
           {
            "automargin": true,
            "type": "pie"
           }
          ],
          "scatter": [
           {
            "fillpattern": {
             "fillmode": "overlay",
             "size": 10,
             "solidity": 0.2
            },
            "type": "scatter"
           }
          ],
          "scatter3d": [
           {
            "line": {
             "colorbar": {
              "outlinewidth": 0,
              "ticks": ""
             }
            },
            "marker": {
             "colorbar": {
              "outlinewidth": 0,
              "ticks": ""
             }
            },
            "type": "scatter3d"
           }
          ],
          "scattercarpet": [
           {
            "marker": {
             "colorbar": {
              "outlinewidth": 0,
              "ticks": ""
             }
            },
            "type": "scattercarpet"
           }
          ],
          "scattergeo": [
           {
            "marker": {
             "colorbar": {
              "outlinewidth": 0,
              "ticks": ""
             }
            },
            "type": "scattergeo"
           }
          ],
          "scattergl": [
           {
            "marker": {
             "colorbar": {
              "outlinewidth": 0,
              "ticks": ""
             }
            },
            "type": "scattergl"
           }
          ],
          "scattermap": [
           {
            "marker": {
             "colorbar": {
              "outlinewidth": 0,
              "ticks": ""
             }
            },
            "type": "scattermap"
           }
          ],
          "scattermapbox": [
           {
            "marker": {
             "colorbar": {
              "outlinewidth": 0,
              "ticks": ""
             }
            },
            "type": "scattermapbox"
           }
          ],
          "scatterpolar": [
           {
            "marker": {
             "colorbar": {
              "outlinewidth": 0,
              "ticks": ""
             }
            },
            "type": "scatterpolar"
           }
          ],
          "scatterpolargl": [
           {
            "marker": {
             "colorbar": {
              "outlinewidth": 0,
              "ticks": ""
             }
            },
            "type": "scatterpolargl"
           }
          ],
          "scatterternary": [
           {
            "marker": {
             "colorbar": {
              "outlinewidth": 0,
              "ticks": ""
             }
            },
            "type": "scatterternary"
           }
          ],
          "surface": [
           {
            "colorbar": {
             "outlinewidth": 0,
             "ticks": ""
            },
            "colorscale": [
             [
              0,
              "#0d0887"
             ],
             [
              0.1111111111111111,
              "#46039f"
             ],
             [
              0.2222222222222222,
              "#7201a8"
             ],
             [
              0.3333333333333333,
              "#9c179e"
             ],
             [
              0.4444444444444444,
              "#bd3786"
             ],
             [
              0.5555555555555556,
              "#d8576b"
             ],
             [
              0.6666666666666666,
              "#ed7953"
             ],
             [
              0.7777777777777778,
              "#fb9f3a"
             ],
             [
              0.8888888888888888,
              "#fdca26"
             ],
             [
              1,
              "#f0f921"
             ]
            ],
            "type": "surface"
           }
          ],
          "table": [
           {
            "cells": {
             "fill": {
              "color": "#EBF0F8"
             },
             "line": {
              "color": "white"
             }
            },
            "header": {
             "fill": {
              "color": "#C8D4E3"
             },
             "line": {
              "color": "white"
             }
            },
            "type": "table"
           }
          ]
         },
         "layout": {
          "annotationdefaults": {
           "arrowcolor": "#2a3f5f",
           "arrowhead": 0,
           "arrowwidth": 1
          },
          "autotypenumbers": "strict",
          "coloraxis": {
           "colorbar": {
            "outlinewidth": 0,
            "ticks": ""
           }
          },
          "colorscale": {
           "diverging": [
            [
             0,
             "#8e0152"
            ],
            [
             0.1,
             "#c51b7d"
            ],
            [
             0.2,
             "#de77ae"
            ],
            [
             0.3,
             "#f1b6da"
            ],
            [
             0.4,
             "#fde0ef"
            ],
            [
             0.5,
             "#f7f7f7"
            ],
            [
             0.6,
             "#e6f5d0"
            ],
            [
             0.7,
             "#b8e186"
            ],
            [
             0.8,
             "#7fbc41"
            ],
            [
             0.9,
             "#4d9221"
            ],
            [
             1,
             "#276419"
            ]
           ],
           "sequential": [
            [
             0,
             "#0d0887"
            ],
            [
             0.1111111111111111,
             "#46039f"
            ],
            [
             0.2222222222222222,
             "#7201a8"
            ],
            [
             0.3333333333333333,
             "#9c179e"
            ],
            [
             0.4444444444444444,
             "#bd3786"
            ],
            [
             0.5555555555555556,
             "#d8576b"
            ],
            [
             0.6666666666666666,
             "#ed7953"
            ],
            [
             0.7777777777777778,
             "#fb9f3a"
            ],
            [
             0.8888888888888888,
             "#fdca26"
            ],
            [
             1,
             "#f0f921"
            ]
           ],
           "sequentialminus": [
            [
             0,
             "#0d0887"
            ],
            [
             0.1111111111111111,
             "#46039f"
            ],
            [
             0.2222222222222222,
             "#7201a8"
            ],
            [
             0.3333333333333333,
             "#9c179e"
            ],
            [
             0.4444444444444444,
             "#bd3786"
            ],
            [
             0.5555555555555556,
             "#d8576b"
            ],
            [
             0.6666666666666666,
             "#ed7953"
            ],
            [
             0.7777777777777778,
             "#fb9f3a"
            ],
            [
             0.8888888888888888,
             "#fdca26"
            ],
            [
             1,
             "#f0f921"
            ]
           ]
          },
          "colorway": [
           "#636efa",
           "#EF553B",
           "#00cc96",
           "#ab63fa",
           "#FFA15A",
           "#19d3f3",
           "#FF6692",
           "#B6E880",
           "#FF97FF",
           "#FECB52"
          ],
          "font": {
           "color": "#2a3f5f"
          },
          "geo": {
           "bgcolor": "white",
           "lakecolor": "white",
           "landcolor": "#E5ECF6",
           "showlakes": true,
           "showland": true,
           "subunitcolor": "white"
          },
          "hoverlabel": {
           "align": "left"
          },
          "hovermode": "closest",
          "mapbox": {
           "style": "light"
          },
          "paper_bgcolor": "white",
          "plot_bgcolor": "#E5ECF6",
          "polar": {
           "angularaxis": {
            "gridcolor": "white",
            "linecolor": "white",
            "ticks": ""
           },
           "bgcolor": "#E5ECF6",
           "radialaxis": {
            "gridcolor": "white",
            "linecolor": "white",
            "ticks": ""
           }
          },
          "scene": {
           "xaxis": {
            "backgroundcolor": "#E5ECF6",
            "gridcolor": "white",
            "gridwidth": 2,
            "linecolor": "white",
            "showbackground": true,
            "ticks": "",
            "zerolinecolor": "white"
           },
           "yaxis": {
            "backgroundcolor": "#E5ECF6",
            "gridcolor": "white",
            "gridwidth": 2,
            "linecolor": "white",
            "showbackground": true,
            "ticks": "",
            "zerolinecolor": "white"
           },
           "zaxis": {
            "backgroundcolor": "#E5ECF6",
            "gridcolor": "white",
            "gridwidth": 2,
            "linecolor": "white",
            "showbackground": true,
            "ticks": "",
            "zerolinecolor": "white"
           }
          },
          "shapedefaults": {
           "line": {
            "color": "#2a3f5f"
           }
          },
          "ternary": {
           "aaxis": {
            "gridcolor": "white",
            "linecolor": "white",
            "ticks": ""
           },
           "baxis": {
            "gridcolor": "white",
            "linecolor": "white",
            "ticks": ""
           },
           "bgcolor": "#E5ECF6",
           "caxis": {
            "gridcolor": "white",
            "linecolor": "white",
            "ticks": ""
           }
          },
          "title": {
           "x": 0.05
          },
          "xaxis": {
           "automargin": true,
           "gridcolor": "white",
           "linecolor": "white",
           "ticks": "",
           "title": {
            "standoff": 15
           },
           "zerolinecolor": "white",
           "zerolinewidth": 2
          },
          "yaxis": {
           "automargin": true,
           "gridcolor": "white",
           "linecolor": "white",
           "ticks": "",
           "title": {
            "standoff": 15
           },
           "zerolinecolor": "white",
           "zerolinewidth": 2
          }
         }
        },
        "title": {
         "text": "Persentase Senior Citizen berdasarkan Phone Service"
        },
        "width": 800,
        "xaxis": {
         "anchor": "y",
         "domain": [
          0,
          1
         ],
         "title": {
          "text": "Senior Citizen"
         }
        },
        "yaxis": {
         "anchor": "x",
         "domain": [
          0,
          1
         ],
         "tickformat": ".1f",
         "title": {
          "text": "Persentase (%)"
         }
        }
       }
      }
     },
     "metadata": {},
     "output_type": "display_data"
    }
   ],
   "source": [
    "# Filter data: hanya SeniorCitizen == 1\n",
    "df_senior = df_grp[df_grp['SeniorCitizen'] == 1]\n",
    "\n",
    "# Plot barplot dengan Plotly\n",
    "fig = px.bar(\n",
    "    df_senior,\n",
    "    x='SeniorCitizen',\n",
    "    y='Percentage',\n",
    "    color='PhoneService',\n",
    "    barmode='group',\n",
    "    title='Persentase Senior Citizen berdasarkan Phone Service',\n",
    "    width=800,\n",
    "    height=500\n",
    ")\n",
    "\n",
    "fig.update_layout(\n",
    "    xaxis_title='Senior Citizen',\n",
    "    yaxis_title='Persentase (%)',\n",
    "    yaxis_tickformat='.1f'\n",
    ")\n",
    "\n",
    "fig.show()"
   ]
  },
  {
   "cell_type": "markdown",
   "metadata": {
    "id": "Bp-09W4GMF40"
   },
   "source": [
    "Kemudian kita lihat berdasar data yang **Senior Citizen** dapat disimpulkan bahwa **91%** dari **Senior Citizen** berlangganan phone service, cukup besar dari yang tidak memakai **Phone Service** yakni hanya **9%**."
   ]
  },
  {
   "cell_type": "markdown",
   "metadata": {
    "id": "ANR7ZgLiMF40"
   },
   "source": [
    "$\\textbf{Jangan lupa kasih kesimpulan dari visualisasi yang kalian buat! Isi seperti diatas ya}$"
   ]
  },
  {
   "cell_type": "markdown",
   "metadata": {
    "id": "SilttVwvMF40"
   },
   "source": [
    "## Bagaimana Distribusi dari TotalCharge?"
   ]
  },
  {
   "cell_type": "markdown",
   "metadata": {
    "id": "l-l1sJMjMF40"
   },
   "source": [
    "Hint:\n",
    "- Ubah datatype TotalCharge dari object ke int atau float\n",
    "- Buat distribusi plot!"
   ]
  },
  {
   "cell_type": "code",
   "execution_count": 158,
   "metadata": {
    "ExecuteTime": {
     "end_time": "2021-10-23T10:20:52.903045Z",
     "start_time": "2021-10-23T10:20:52.894900Z"
    },
    "id": "l0DtIhgHMF41",
    "scrolled": true
   },
   "outputs": [],
   "source": [
    "df = pd.read_csv('telco_customer.csv')\n",
    "df['TotalCharges'] = df['TotalCharges'].replace(['', ' '], np.nan)\n",
    "df['TotalCharges'] = df['TotalCharges'].astype(float)"
   ]
  },
  {
   "cell_type": "code",
   "execution_count": 159,
   "metadata": {},
   "outputs": [
    {
     "name": "stdout",
     "output_type": "stream",
     "text": [
      "mode: 20.2\n",
      "varian: 5138252.40705357\n"
     ]
    },
    {
     "data": {
      "text/plain": [
       "count    7032.000000\n",
       "mean     2283.300441\n",
       "std      2266.771362\n",
       "min        18.800000\n",
       "25%       401.450000\n",
       "50%      1397.475000\n",
       "75%      3794.737500\n",
       "max      8684.800000\n",
       "Name: TotalCharges, dtype: float64"
      ]
     },
     "execution_count": 159,
     "metadata": {},
     "output_type": "execute_result"
    }
   ],
   "source": [
    "print('mode:',df['TotalCharges'].mode().iloc[0])\n",
    "print('varian:',df['TotalCharges'].var())\n",
    "df['TotalCharges'].describe()"
   ]
  },
  {
   "cell_type": "code",
   "execution_count": 160,
   "metadata": {},
   "outputs": [
    {
     "data": {
      "application/vnd.plotly.v1+json": {
       "config": {
        "plotlyServerURL": "https://plot.ly"
       },
       "data": [
        {
         "bingroup": "x",
         "hovertemplate": "TotalCharges=%{x}<br>count=%{y}<extra></extra>",
         "legendgroup": "",
         "marker": {
          "color": "indianred",
          "pattern": {
           "shape": ""
          }
         },
         "name": "",
         "nbinsx": 50,
         "orientation": "v",
         "showlegend": false,
         "type": "histogram",
         "x": {
          "bdata": "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",
          "dtype": "f8"
         },
         "xaxis": "x",
         "yaxis": "y"
        }
       ],
       "layout": {
        "barmode": "relative",
        "height": 400,
        "legend": {
         "tracegroupgap": 0
        },
        "template": {
         "data": {
          "bar": [
           {
            "error_x": {
             "color": "#2a3f5f"
            },
            "error_y": {
             "color": "#2a3f5f"
            },
            "marker": {
             "line": {
              "color": "#E5ECF6",
              "width": 0.5
             },
             "pattern": {
              "fillmode": "overlay",
              "size": 10,
              "solidity": 0.2
             }
            },
            "type": "bar"
           }
          ],
          "barpolar": [
           {
            "marker": {
             "line": {
              "color": "#E5ECF6",
              "width": 0.5
             },
             "pattern": {
              "fillmode": "overlay",
              "size": 10,
              "solidity": 0.2
             }
            },
            "type": "barpolar"
           }
          ],
          "carpet": [
           {
            "aaxis": {
             "endlinecolor": "#2a3f5f",
             "gridcolor": "white",
             "linecolor": "white",
             "minorgridcolor": "white",
             "startlinecolor": "#2a3f5f"
            },
            "baxis": {
             "endlinecolor": "#2a3f5f",
             "gridcolor": "white",
             "linecolor": "white",
             "minorgridcolor": "white",
             "startlinecolor": "#2a3f5f"
            },
            "type": "carpet"
           }
          ],
          "choropleth": [
           {
            "colorbar": {
             "outlinewidth": 0,
             "ticks": ""
            },
            "type": "choropleth"
           }
          ],
          "contour": [
           {
            "colorbar": {
             "outlinewidth": 0,
             "ticks": ""
            },
            "colorscale": [
             [
              0,
              "#0d0887"
             ],
             [
              0.1111111111111111,
              "#46039f"
             ],
             [
              0.2222222222222222,
              "#7201a8"
             ],
             [
              0.3333333333333333,
              "#9c179e"
             ],
             [
              0.4444444444444444,
              "#bd3786"
             ],
             [
              0.5555555555555556,
              "#d8576b"
             ],
             [
              0.6666666666666666,
              "#ed7953"
             ],
             [
              0.7777777777777778,
              "#fb9f3a"
             ],
             [
              0.8888888888888888,
              "#fdca26"
             ],
             [
              1,
              "#f0f921"
             ]
            ],
            "type": "contour"
           }
          ],
          "contourcarpet": [
           {
            "colorbar": {
             "outlinewidth": 0,
             "ticks": ""
            },
            "type": "contourcarpet"
           }
          ],
          "heatmap": [
           {
            "colorbar": {
             "outlinewidth": 0,
             "ticks": ""
            },
            "colorscale": [
             [
              0,
              "#0d0887"
             ],
             [
              0.1111111111111111,
              "#46039f"
             ],
             [
              0.2222222222222222,
              "#7201a8"
             ],
             [
              0.3333333333333333,
              "#9c179e"
             ],
             [
              0.4444444444444444,
              "#bd3786"
             ],
             [
              0.5555555555555556,
              "#d8576b"
             ],
             [
              0.6666666666666666,
              "#ed7953"
             ],
             [
              0.7777777777777778,
              "#fb9f3a"
             ],
             [
              0.8888888888888888,
              "#fdca26"
             ],
             [
              1,
              "#f0f921"
             ]
            ],
            "type": "heatmap"
           }
          ],
          "histogram": [
           {
            "marker": {
             "pattern": {
              "fillmode": "overlay",
              "size": 10,
              "solidity": 0.2
             }
            },
            "type": "histogram"
           }
          ],
          "histogram2d": [
           {
            "colorbar": {
             "outlinewidth": 0,
             "ticks": ""
            },
            "colorscale": [
             [
              0,
              "#0d0887"
             ],
             [
              0.1111111111111111,
              "#46039f"
             ],
             [
              0.2222222222222222,
              "#7201a8"
             ],
             [
              0.3333333333333333,
              "#9c179e"
             ],
             [
              0.4444444444444444,
              "#bd3786"
             ],
             [
              0.5555555555555556,
              "#d8576b"
             ],
             [
              0.6666666666666666,
              "#ed7953"
             ],
             [
              0.7777777777777778,
              "#fb9f3a"
             ],
             [
              0.8888888888888888,
              "#fdca26"
             ],
             [
              1,
              "#f0f921"
             ]
            ],
            "type": "histogram2d"
           }
          ],
          "histogram2dcontour": [
           {
            "colorbar": {
             "outlinewidth": 0,
             "ticks": ""
            },
            "colorscale": [
             [
              0,
              "#0d0887"
             ],
             [
              0.1111111111111111,
              "#46039f"
             ],
             [
              0.2222222222222222,
              "#7201a8"
             ],
             [
              0.3333333333333333,
              "#9c179e"
             ],
             [
              0.4444444444444444,
              "#bd3786"
             ],
             [
              0.5555555555555556,
              "#d8576b"
             ],
             [
              0.6666666666666666,
              "#ed7953"
             ],
             [
              0.7777777777777778,
              "#fb9f3a"
             ],
             [
              0.8888888888888888,
              "#fdca26"
             ],
             [
              1,
              "#f0f921"
             ]
            ],
            "type": "histogram2dcontour"
           }
          ],
          "mesh3d": [
           {
            "colorbar": {
             "outlinewidth": 0,
             "ticks": ""
            },
            "type": "mesh3d"
           }
          ],
          "parcoords": [
           {
            "line": {
             "colorbar": {
              "outlinewidth": 0,
              "ticks": ""
             }
            },
            "type": "parcoords"
           }
          ],
          "pie": [
           {
            "automargin": true,
            "type": "pie"
           }
          ],
          "scatter": [
           {
            "fillpattern": {
             "fillmode": "overlay",
             "size": 10,
             "solidity": 0.2
            },
            "type": "scatter"
           }
          ],
          "scatter3d": [
           {
            "line": {
             "colorbar": {
              "outlinewidth": 0,
              "ticks": ""
             }
            },
            "marker": {
             "colorbar": {
              "outlinewidth": 0,
              "ticks": ""
             }
            },
            "type": "scatter3d"
           }
          ],
          "scattercarpet": [
           {
            "marker": {
             "colorbar": {
              "outlinewidth": 0,
              "ticks": ""
             }
            },
            "type": "scattercarpet"
           }
          ],
          "scattergeo": [
           {
            "marker": {
             "colorbar": {
              "outlinewidth": 0,
              "ticks": ""
             }
            },
            "type": "scattergeo"
           }
          ],
          "scattergl": [
           {
            "marker": {
             "colorbar": {
              "outlinewidth": 0,
              "ticks": ""
             }
            },
            "type": "scattergl"
           }
          ],
          "scattermap": [
           {
            "marker": {
             "colorbar": {
              "outlinewidth": 0,
              "ticks": ""
             }
            },
            "type": "scattermap"
           }
          ],
          "scattermapbox": [
           {
            "marker": {
             "colorbar": {
              "outlinewidth": 0,
              "ticks": ""
             }
            },
            "type": "scattermapbox"
           }
          ],
          "scatterpolar": [
           {
            "marker": {
             "colorbar": {
              "outlinewidth": 0,
              "ticks": ""
             }
            },
            "type": "scatterpolar"
           }
          ],
          "scatterpolargl": [
           {
            "marker": {
             "colorbar": {
              "outlinewidth": 0,
              "ticks": ""
             }
            },
            "type": "scatterpolargl"
           }
          ],
          "scatterternary": [
           {
            "marker": {
             "colorbar": {
              "outlinewidth": 0,
              "ticks": ""
             }
            },
            "type": "scatterternary"
           }
          ],
          "surface": [
           {
            "colorbar": {
             "outlinewidth": 0,
             "ticks": ""
            },
            "colorscale": [
             [
              0,
              "#0d0887"
             ],
             [
              0.1111111111111111,
              "#46039f"
             ],
             [
              0.2222222222222222,
              "#7201a8"
             ],
             [
              0.3333333333333333,
              "#9c179e"
             ],
             [
              0.4444444444444444,
              "#bd3786"
             ],
             [
              0.5555555555555556,
              "#d8576b"
             ],
             [
              0.6666666666666666,
              "#ed7953"
             ],
             [
              0.7777777777777778,
              "#fb9f3a"
             ],
             [
              0.8888888888888888,
              "#fdca26"
             ],
             [
              1,
              "#f0f921"
             ]
            ],
            "type": "surface"
           }
          ],
          "table": [
           {
            "cells": {
             "fill": {
              "color": "#EBF0F8"
             },
             "line": {
              "color": "white"
             }
            },
            "header": {
             "fill": {
              "color": "#C8D4E3"
             },
             "line": {
              "color": "white"
             }
            },
            "type": "table"
           }
          ]
         },
         "layout": {
          "annotationdefaults": {
           "arrowcolor": "#2a3f5f",
           "arrowhead": 0,
           "arrowwidth": 1
          },
          "autotypenumbers": "strict",
          "coloraxis": {
           "colorbar": {
            "outlinewidth": 0,
            "ticks": ""
           }
          },
          "colorscale": {
           "diverging": [
            [
             0,
             "#8e0152"
            ],
            [
             0.1,
             "#c51b7d"
            ],
            [
             0.2,
             "#de77ae"
            ],
            [
             0.3,
             "#f1b6da"
            ],
            [
             0.4,
             "#fde0ef"
            ],
            [
             0.5,
             "#f7f7f7"
            ],
            [
             0.6,
             "#e6f5d0"
            ],
            [
             0.7,
             "#b8e186"
            ],
            [
             0.8,
             "#7fbc41"
            ],
            [
             0.9,
             "#4d9221"
            ],
            [
             1,
             "#276419"
            ]
           ],
           "sequential": [
            [
             0,
             "#0d0887"
            ],
            [
             0.1111111111111111,
             "#46039f"
            ],
            [
             0.2222222222222222,
             "#7201a8"
            ],
            [
             0.3333333333333333,
             "#9c179e"
            ],
            [
             0.4444444444444444,
             "#bd3786"
            ],
            [
             0.5555555555555556,
             "#d8576b"
            ],
            [
             0.6666666666666666,
             "#ed7953"
            ],
            [
             0.7777777777777778,
             "#fb9f3a"
            ],
            [
             0.8888888888888888,
             "#fdca26"
            ],
            [
             1,
             "#f0f921"
            ]
           ],
           "sequentialminus": [
            [
             0,
             "#0d0887"
            ],
            [
             0.1111111111111111,
             "#46039f"
            ],
            [
             0.2222222222222222,
             "#7201a8"
            ],
            [
             0.3333333333333333,
             "#9c179e"
            ],
            [
             0.4444444444444444,
             "#bd3786"
            ],
            [
             0.5555555555555556,
             "#d8576b"
            ],
            [
             0.6666666666666666,
             "#ed7953"
            ],
            [
             0.7777777777777778,
             "#fb9f3a"
            ],
            [
             0.8888888888888888,
             "#fdca26"
            ],
            [
             1,
             "#f0f921"
            ]
           ]
          },
          "colorway": [
           "#636efa",
           "#EF553B",
           "#00cc96",
           "#ab63fa",
           "#FFA15A",
           "#19d3f3",
           "#FF6692",
           "#B6E880",
           "#FF97FF",
           "#FECB52"
          ],
          "font": {
           "color": "#2a3f5f"
          },
          "geo": {
           "bgcolor": "white",
           "lakecolor": "white",
           "landcolor": "#E5ECF6",
           "showlakes": true,
           "showland": true,
           "subunitcolor": "white"
          },
          "hoverlabel": {
           "align": "left"
          },
          "hovermode": "closest",
          "mapbox": {
           "style": "light"
          },
          "paper_bgcolor": "white",
          "plot_bgcolor": "#E5ECF6",
          "polar": {
           "angularaxis": {
            "gridcolor": "white",
            "linecolor": "white",
            "ticks": ""
           },
           "bgcolor": "#E5ECF6",
           "radialaxis": {
            "gridcolor": "white",
            "linecolor": "white",
            "ticks": ""
           }
          },
          "scene": {
           "xaxis": {
            "backgroundcolor": "#E5ECF6",
            "gridcolor": "white",
            "gridwidth": 2,
            "linecolor": "white",
            "showbackground": true,
            "ticks": "",
            "zerolinecolor": "white"
           },
           "yaxis": {
            "backgroundcolor": "#E5ECF6",
            "gridcolor": "white",
            "gridwidth": 2,
            "linecolor": "white",
            "showbackground": true,
            "ticks": "",
            "zerolinecolor": "white"
           },
           "zaxis": {
            "backgroundcolor": "#E5ECF6",
            "gridcolor": "white",
            "gridwidth": 2,
            "linecolor": "white",
            "showbackground": true,
            "ticks": "",
            "zerolinecolor": "white"
           }
          },
          "shapedefaults": {
           "line": {
            "color": "#2a3f5f"
           }
          },
          "ternary": {
           "aaxis": {
            "gridcolor": "white",
            "linecolor": "white",
            "ticks": ""
           },
           "baxis": {
            "gridcolor": "white",
            "linecolor": "white",
            "ticks": ""
           },
           "bgcolor": "#E5ECF6",
           "caxis": {
            "gridcolor": "white",
            "linecolor": "white",
            "ticks": ""
           }
          },
          "title": {
           "x": 0.05
          },
          "xaxis": {
           "automargin": true,
           "gridcolor": "white",
           "linecolor": "white",
           "ticks": "",
           "title": {
            "standoff": 15
           },
           "zerolinecolor": "white",
           "zerolinewidth": 2
          },
          "yaxis": {
           "automargin": true,
           "gridcolor": "white",
           "linecolor": "white",
           "ticks": "",
           "title": {
            "standoff": 15
           },
           "zerolinecolor": "white",
           "zerolinewidth": 2
          }
         }
        },
        "title": {
         "text": "Distribusi Total Charges"
        },
        "width": 800,
        "xaxis": {
         "anchor": "y",
         "domain": [
          0,
          1
         ],
         "title": {
          "text": "Total Charges"
         }
        },
        "yaxis": {
         "anchor": "x",
         "domain": [
          0,
          1
         ],
         "title": {
          "text": "Jumlah Pelanggan"
         }
        }
       }
      }
     },
     "metadata": {},
     "output_type": "display_data"
    },
    {
     "data": {
      "application/vnd.plotly.v1+json": {
       "config": {
        "plotlyServerURL": "https://plot.ly"
       },
       "data": [
        {
         "alignmentgroup": "True",
         "hovertemplate": "TotalCharges=%{x}<extra></extra>",
         "legendgroup": "",
         "marker": {
          "color": "steelblue"
         },
         "name": "",
         "notched": false,
         "offsetgroup": "",
         "orientation": "h",
         "showlegend": false,
         "type": "box",
         "x": {
          "bdata": "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",
          "dtype": "f8"
         },
         "x0": " ",
         "xaxis": "x",
         "y0": " ",
         "yaxis": "y"
        }
       ],
       "layout": {
        "boxmode": "group",
        "height": 400,
        "legend": {
         "tracegroupgap": 0
        },
        "template": {
         "data": {
          "bar": [
           {
            "error_x": {
             "color": "#2a3f5f"
            },
            "error_y": {
             "color": "#2a3f5f"
            },
            "marker": {
             "line": {
              "color": "#E5ECF6",
              "width": 0.5
             },
             "pattern": {
              "fillmode": "overlay",
              "size": 10,
              "solidity": 0.2
             }
            },
            "type": "bar"
           }
          ],
          "barpolar": [
           {
            "marker": {
             "line": {
              "color": "#E5ECF6",
              "width": 0.5
             },
             "pattern": {
              "fillmode": "overlay",
              "size": 10,
              "solidity": 0.2
             }
            },
            "type": "barpolar"
           }
          ],
          "carpet": [
           {
            "aaxis": {
             "endlinecolor": "#2a3f5f",
             "gridcolor": "white",
             "linecolor": "white",
             "minorgridcolor": "white",
             "startlinecolor": "#2a3f5f"
            },
            "baxis": {
             "endlinecolor": "#2a3f5f",
             "gridcolor": "white",
             "linecolor": "white",
             "minorgridcolor": "white",
             "startlinecolor": "#2a3f5f"
            },
            "type": "carpet"
           }
          ],
          "choropleth": [
           {
            "colorbar": {
             "outlinewidth": 0,
             "ticks": ""
            },
            "type": "choropleth"
           }
          ],
          "contour": [
           {
            "colorbar": {
             "outlinewidth": 0,
             "ticks": ""
            },
            "colorscale": [
             [
              0,
              "#0d0887"
             ],
             [
              0.1111111111111111,
              "#46039f"
             ],
             [
              0.2222222222222222,
              "#7201a8"
             ],
             [
              0.3333333333333333,
              "#9c179e"
             ],
             [
              0.4444444444444444,
              "#bd3786"
             ],
             [
              0.5555555555555556,
              "#d8576b"
             ],
             [
              0.6666666666666666,
              "#ed7953"
             ],
             [
              0.7777777777777778,
              "#fb9f3a"
             ],
             [
              0.8888888888888888,
              "#fdca26"
             ],
             [
              1,
              "#f0f921"
             ]
            ],
            "type": "contour"
           }
          ],
          "contourcarpet": [
           {
            "colorbar": {
             "outlinewidth": 0,
             "ticks": ""
            },
            "type": "contourcarpet"
           }
          ],
          "heatmap": [
           {
            "colorbar": {
             "outlinewidth": 0,
             "ticks": ""
            },
            "colorscale": [
             [
              0,
              "#0d0887"
             ],
             [
              0.1111111111111111,
              "#46039f"
             ],
             [
              0.2222222222222222,
              "#7201a8"
             ],
             [
              0.3333333333333333,
              "#9c179e"
             ],
             [
              0.4444444444444444,
              "#bd3786"
             ],
             [
              0.5555555555555556,
              "#d8576b"
             ],
             [
              0.6666666666666666,
              "#ed7953"
             ],
             [
              0.7777777777777778,
              "#fb9f3a"
             ],
             [
              0.8888888888888888,
              "#fdca26"
             ],
             [
              1,
              "#f0f921"
             ]
            ],
            "type": "heatmap"
           }
          ],
          "histogram": [
           {
            "marker": {
             "pattern": {
              "fillmode": "overlay",
              "size": 10,
              "solidity": 0.2
             }
            },
            "type": "histogram"
           }
          ],
          "histogram2d": [
           {
            "colorbar": {
             "outlinewidth": 0,
             "ticks": ""
            },
            "colorscale": [
             [
              0,
              "#0d0887"
             ],
             [
              0.1111111111111111,
              "#46039f"
             ],
             [
              0.2222222222222222,
              "#7201a8"
             ],
             [
              0.3333333333333333,
              "#9c179e"
             ],
             [
              0.4444444444444444,
              "#bd3786"
             ],
             [
              0.5555555555555556,
              "#d8576b"
             ],
             [
              0.6666666666666666,
              "#ed7953"
             ],
             [
              0.7777777777777778,
              "#fb9f3a"
             ],
             [
              0.8888888888888888,
              "#fdca26"
             ],
             [
              1,
              "#f0f921"
             ]
            ],
            "type": "histogram2d"
           }
          ],
          "histogram2dcontour": [
           {
            "colorbar": {
             "outlinewidth": 0,
             "ticks": ""
            },
            "colorscale": [
             [
              0,
              "#0d0887"
             ],
             [
              0.1111111111111111,
              "#46039f"
             ],
             [
              0.2222222222222222,
              "#7201a8"
             ],
             [
              0.3333333333333333,
              "#9c179e"
             ],
             [
              0.4444444444444444,
              "#bd3786"
             ],
             [
              0.5555555555555556,
              "#d8576b"
             ],
             [
              0.6666666666666666,
              "#ed7953"
             ],
             [
              0.7777777777777778,
              "#fb9f3a"
             ],
             [
              0.8888888888888888,
              "#fdca26"
             ],
             [
              1,
              "#f0f921"
             ]
            ],
            "type": "histogram2dcontour"
           }
          ],
          "mesh3d": [
           {
            "colorbar": {
             "outlinewidth": 0,
             "ticks": ""
            },
            "type": "mesh3d"
           }
          ],
          "parcoords": [
           {
            "line": {
             "colorbar": {
              "outlinewidth": 0,
              "ticks": ""
             }
            },
            "type": "parcoords"
           }
          ],
          "pie": [
           {
            "automargin": true,
            "type": "pie"
           }
          ],
          "scatter": [
           {
            "fillpattern": {
             "fillmode": "overlay",
             "size": 10,
             "solidity": 0.2
            },
            "type": "scatter"
           }
          ],
          "scatter3d": [
           {
            "line": {
             "colorbar": {
              "outlinewidth": 0,
              "ticks": ""
             }
            },
            "marker": {
             "colorbar": {
              "outlinewidth": 0,
              "ticks": ""
             }
            },
            "type": "scatter3d"
           }
          ],
          "scattercarpet": [
           {
            "marker": {
             "colorbar": {
              "outlinewidth": 0,
              "ticks": ""
             }
            },
            "type": "scattercarpet"
           }
          ],
          "scattergeo": [
           {
            "marker": {
             "colorbar": {
              "outlinewidth": 0,
              "ticks": ""
             }
            },
            "type": "scattergeo"
           }
          ],
          "scattergl": [
           {
            "marker": {
             "colorbar": {
              "outlinewidth": 0,
              "ticks": ""
             }
            },
            "type": "scattergl"
           }
          ],
          "scattermap": [
           {
            "marker": {
             "colorbar": {
              "outlinewidth": 0,
              "ticks": ""
             }
            },
            "type": "scattermap"
           }
          ],
          "scattermapbox": [
           {
            "marker": {
             "colorbar": {
              "outlinewidth": 0,
              "ticks": ""
             }
            },
            "type": "scattermapbox"
           }
          ],
          "scatterpolar": [
           {
            "marker": {
             "colorbar": {
              "outlinewidth": 0,
              "ticks": ""
             }
            },
            "type": "scatterpolar"
           }
          ],
          "scatterpolargl": [
           {
            "marker": {
             "colorbar": {
              "outlinewidth": 0,
              "ticks": ""
             }
            },
            "type": "scatterpolargl"
           }
          ],
          "scatterternary": [
           {
            "marker": {
             "colorbar": {
              "outlinewidth": 0,
              "ticks": ""
             }
            },
            "type": "scatterternary"
           }
          ],
          "surface": [
           {
            "colorbar": {
             "outlinewidth": 0,
             "ticks": ""
            },
            "colorscale": [
             [
              0,
              "#0d0887"
             ],
             [
              0.1111111111111111,
              "#46039f"
             ],
             [
              0.2222222222222222,
              "#7201a8"
             ],
             [
              0.3333333333333333,
              "#9c179e"
             ],
             [
              0.4444444444444444,
              "#bd3786"
             ],
             [
              0.5555555555555556,
              "#d8576b"
             ],
             [
              0.6666666666666666,
              "#ed7953"
             ],
             [
              0.7777777777777778,
              "#fb9f3a"
             ],
             [
              0.8888888888888888,
              "#fdca26"
             ],
             [
              1,
              "#f0f921"
             ]
            ],
            "type": "surface"
           }
          ],
          "table": [
           {
            "cells": {
             "fill": {
              "color": "#EBF0F8"
             },
             "line": {
              "color": "white"
             }
            },
            "header": {
             "fill": {
              "color": "#C8D4E3"
             },
             "line": {
              "color": "white"
             }
            },
            "type": "table"
           }
          ]
         },
         "layout": {
          "annotationdefaults": {
           "arrowcolor": "#2a3f5f",
           "arrowhead": 0,
           "arrowwidth": 1
          },
          "autotypenumbers": "strict",
          "coloraxis": {
           "colorbar": {
            "outlinewidth": 0,
            "ticks": ""
           }
          },
          "colorscale": {
           "diverging": [
            [
             0,
             "#8e0152"
            ],
            [
             0.1,
             "#c51b7d"
            ],
            [
             0.2,
             "#de77ae"
            ],
            [
             0.3,
             "#f1b6da"
            ],
            [
             0.4,
             "#fde0ef"
            ],
            [
             0.5,
             "#f7f7f7"
            ],
            [
             0.6,
             "#e6f5d0"
            ],
            [
             0.7,
             "#b8e186"
            ],
            [
             0.8,
             "#7fbc41"
            ],
            [
             0.9,
             "#4d9221"
            ],
            [
             1,
             "#276419"
            ]
           ],
           "sequential": [
            [
             0,
             "#0d0887"
            ],
            [
             0.1111111111111111,
             "#46039f"
            ],
            [
             0.2222222222222222,
             "#7201a8"
            ],
            [
             0.3333333333333333,
             "#9c179e"
            ],
            [
             0.4444444444444444,
             "#bd3786"
            ],
            [
             0.5555555555555556,
             "#d8576b"
            ],
            [
             0.6666666666666666,
             "#ed7953"
            ],
            [
             0.7777777777777778,
             "#fb9f3a"
            ],
            [
             0.8888888888888888,
             "#fdca26"
            ],
            [
             1,
             "#f0f921"
            ]
           ],
           "sequentialminus": [
            [
             0,
             "#0d0887"
            ],
            [
             0.1111111111111111,
             "#46039f"
            ],
            [
             0.2222222222222222,
             "#7201a8"
            ],
            [
             0.3333333333333333,
             "#9c179e"
            ],
            [
             0.4444444444444444,
             "#bd3786"
            ],
            [
             0.5555555555555556,
             "#d8576b"
            ],
            [
             0.6666666666666666,
             "#ed7953"
            ],
            [
             0.7777777777777778,
             "#fb9f3a"
            ],
            [
             0.8888888888888888,
             "#fdca26"
            ],
            [
             1,
             "#f0f921"
            ]
           ]
          },
          "colorway": [
           "#636efa",
           "#EF553B",
           "#00cc96",
           "#ab63fa",
           "#FFA15A",
           "#19d3f3",
           "#FF6692",
           "#B6E880",
           "#FF97FF",
           "#FECB52"
          ],
          "font": {
           "color": "#2a3f5f"
          },
          "geo": {
           "bgcolor": "white",
           "lakecolor": "white",
           "landcolor": "#E5ECF6",
           "showlakes": true,
           "showland": true,
           "subunitcolor": "white"
          },
          "hoverlabel": {
           "align": "left"
          },
          "hovermode": "closest",
          "mapbox": {
           "style": "light"
          },
          "paper_bgcolor": "white",
          "plot_bgcolor": "#E5ECF6",
          "polar": {
           "angularaxis": {
            "gridcolor": "white",
            "linecolor": "white",
            "ticks": ""
           },
           "bgcolor": "#E5ECF6",
           "radialaxis": {
            "gridcolor": "white",
            "linecolor": "white",
            "ticks": ""
           }
          },
          "scene": {
           "xaxis": {
            "backgroundcolor": "#E5ECF6",
            "gridcolor": "white",
            "gridwidth": 2,
            "linecolor": "white",
            "showbackground": true,
            "ticks": "",
            "zerolinecolor": "white"
           },
           "yaxis": {
            "backgroundcolor": "#E5ECF6",
            "gridcolor": "white",
            "gridwidth": 2,
            "linecolor": "white",
            "showbackground": true,
            "ticks": "",
            "zerolinecolor": "white"
           },
           "zaxis": {
            "backgroundcolor": "#E5ECF6",
            "gridcolor": "white",
            "gridwidth": 2,
            "linecolor": "white",
            "showbackground": true,
            "ticks": "",
            "zerolinecolor": "white"
           }
          },
          "shapedefaults": {
           "line": {
            "color": "#2a3f5f"
           }
          },
          "ternary": {
           "aaxis": {
            "gridcolor": "white",
            "linecolor": "white",
            "ticks": ""
           },
           "baxis": {
            "gridcolor": "white",
            "linecolor": "white",
            "ticks": ""
           },
           "bgcolor": "#E5ECF6",
           "caxis": {
            "gridcolor": "white",
            "linecolor": "white",
            "ticks": ""
           }
          },
          "title": {
           "x": 0.05
          },
          "xaxis": {
           "automargin": true,
           "gridcolor": "white",
           "linecolor": "white",
           "ticks": "",
           "title": {
            "standoff": 15
           },
           "zerolinecolor": "white",
           "zerolinewidth": 2
          },
          "yaxis": {
           "automargin": true,
           "gridcolor": "white",
           "linecolor": "white",
           "ticks": "",
           "title": {
            "standoff": 15
           },
           "zerolinecolor": "white",
           "zerolinewidth": 2
          }
         }
        },
        "title": {
         "text": "Boxplot Total Charges"
        },
        "width": 800,
        "xaxis": {
         "anchor": "y",
         "domain": [
          0,
          1
         ],
         "title": {
          "text": "Total Charges"
         }
        },
        "yaxis": {
         "anchor": "x",
         "domain": [
          0,
          1
         ]
        }
       }
      }
     },
     "metadata": {},
     "output_type": "display_data"
    }
   ],
   "source": [
    "# 1. Histogram TotalCharges\n",
    "fig_hist = px.histogram(\n",
    "    df,\n",
    "    x=\"TotalCharges\",\n",
    "    nbins=50,\n",
    "    title=\"Distribusi Total Charges\",\n",
    "    width=800,\n",
    "    height=400,\n",
    "    color_discrete_sequence=[\"indianred\"]\n",
    ")\n",
    "fig_hist.update_layout(xaxis_title=\"Total Charges\", yaxis_title=\"Jumlah Pelanggan\")\n",
    "fig_hist.show()\n",
    "\n",
    "# 2. Boxplot TotalCharges\n",
    "fig_box = px.box(\n",
    "    df,\n",
    "    x=\"TotalCharges\",\n",
    "    title=\"Boxplot Total Charges\",\n",
    "    width=800,\n",
    "    height=400,\n",
    "    color_discrete_sequence=[\"steelblue\"]\n",
    ")\n",
    "fig_box.update_layout(xaxis_title=\"Total Charges\")\n",
    "fig_box.show()\n"
   ]
  },
  {
   "cell_type": "markdown",
   "metadata": {
    "id": "LEHImj5bMF41"
   },
   "source": [
    "Jadi, dari plot di atas, dapat disimpulkan bahwa dari sebaran datanya tersebar cukup jauh dan cenderung menumpuk disebelah kiri **skew posotif**. <br>\n",
    "apalagi jika dilihat dari **standardeviasi** sebesar **2266.7** dari cukup jauh tersebar dari mean yang bernilai **2283.3** dan varian yang bernilai **5138252** cukup tinggi yang artinya datanya sangat beragam.<br>Rentang sebaran datanya menumpuk diarea dengan **total charge 401 sampai 3794**. <br><br>\n",
    "\n",
    "Dapat disimpulkan bahwa nilai **total charge** yang dibayar user cukup beragam, dan  kebanyakan user memiliki **total charge** di rentang  **401 sampai 3794**. dimana kemampuan rata-rata yang biasa dibayar user ada direntang area tersebut. hal ini menjadi bahan pertimbangan terhadap segmentasi yang akan dilakukan oleh perusahaan dimana bisa menekankan promosi penjualan dengan titik nilai diarea tersebut."
   ]
  },
  {
   "cell_type": "markdown",
   "metadata": {
    "id": "1k_31-KdMF41"
   },
   "source": [
    "$\\textbf{Jangan lupa kasih kesimpulan dari visualisasi yang kalian buat! Isi seperti diatas ya}$"
   ]
  },
  {
   "cell_type": "markdown",
   "metadata": {
    "id": "2Xd285QNMF41"
   },
   "source": [
    "# Intermediate"
   ]
  },
  {
   "cell_type": "markdown",
   "metadata": {
    "id": "kqnD9vmaMF41"
   },
   "source": [
    "## Apakah customer yang memiliki monthly charges yang tinggi cenderung churn?\n",
    "\n",
    "Hint: dapat ditunjukan melalui distribusi data"
   ]
  },
  {
   "cell_type": "code",
   "execution_count": 161,
   "metadata": {},
   "outputs": [
    {
     "data": {
      "application/vnd.plotly.v1+json": {
       "config": {
        "plotlyServerURL": "https://plot.ly"
       },
       "data": [
        {
         "alignmentgroup": "True",
         "hovertemplate": "Churn=%{x}<br>MonthlyCharges=%{y}<extra></extra>",
         "legendgroup": "",
         "marker": {
          "color": "steelblue"
         },
         "name": "",
         "notched": false,
         "offsetgroup": "",
         "orientation": "v",
         "showlegend": false,
         "type": "box",
         "x": [
          "No",
          "No",
          "Yes",
          "No",
          "Yes",
          "Yes",
          "No",
          "No",
          "Yes",
          "No",
          "No",
          "No",
          "No",
          "Yes",
          "No",
          "No",
          "No",
          "No",
          "Yes",
          "No",
          "Yes",
          "No",
          "Yes",
          "No",
          "No",
          "No",
          "Yes",
          "Yes",
          "No",
          "Yes",
          "No",
          "No",
          "No",
          "No",
          "No",
          "No",
          "Yes",
          "No",
          "Yes",
          "Yes",
          "No",
          "No",
          "No",
          "No",
          "No",
          "No",
          "No",
          "Yes",
          "No",
          "No",
          "No",
          "Yes",
          "No",
          "Yes",
          "No",
          "Yes",
          "No",
          "No",
          "No",
          "No",
          "No",
          "No",
          "No",
          "No",
          "Yes",
          "No",
          "No",
          "No",
          "No",
          "No",
          "No",
          "No",
          "No",
          "No",
          "No",
          "No",
          "No",
          "No",
          "No",
          "No",
          "Yes",
          "No",
          "Yes",
          "No",
          "No",
          "No",
          "No",
          "No",
          "No",
          "No",
          "No",
          "No",
          "No",
          "No",
          "No",
          "Yes",
          "No",
          "Yes",
          "No",
          "Yes",
          "No",
          "No",
          "No",
          "No",
          "Yes",
          "No",
          "No",
          "No",
          "No",
          "No",
          "Yes",
          "No",
          "No",
          "Yes",
          "No",
          "No",
          "No",
          "Yes",
          "No",
          "No",
          "No",
          "No",
          "Yes",
          "No",
          "No",
          "No",
          "Yes",
          "No",
          "No",
          "No",
          "No",
          "Yes",
          "No",
          "Yes",
          "Yes",
          "No",
          "No",
          "No",
          "No",
          "Yes",
          "No",
          "Yes",
          "No",
          "No",
          "No",
          "No",
          "No",
          "Yes",
          "No",
          "No",
          "No",
          "Yes",
          "No",
          "No",
          "No",
          "No",
          "No",
          "No",
          "No",
          "No",
          "No",
          "Yes",
          "No",
          "No",
          "No",
          "No",
          "Yes",
          "No",
          "Yes",
          "No",
          "No",
          "Yes",
          "No",
          "Yes",
          "No",
          "No",
          "Yes",
          "Yes",
          "No",
          "No",
          "Yes",
          "No",
          "Yes",
          "No",
          "Yes",
          "Yes",
          "No",
          "No",
          "No",
          "No",
          "No",
          "Yes",
          "No",
          "No",
          "No",
          "No",
          "No",
          "No",
          "No",
          "No",
          "No",
          "No",
          "No",
          "No",
          "No",
          "No",
          "No",
          "Yes",
          "Yes",
          "No",
          "Yes",
          "No",
          "No",
          "No",
          "No",
          "No",
          "No",
          "No",
          "No",
          "No",
          "Yes",
          "No",
          "No",
          "Yes",
          "No",
          "No",
          "No",
          "Yes",
          "No",
          "No",
          "No",
          "No",
          "Yes",
          "No",
          "No",
          "Yes",
          "No",
          "No",
          "Yes",
          "No",
          "No",
          "No",
          "No",
          "No",
          "No",
          "No",
          "No",
          "Yes",
          "Yes",
          "No",
          "No",
          "Yes",
          "Yes",
          "No",
          "No",
          "No",
          "No",
          "No",
          "Yes",
          "No",
          "Yes",
          "Yes",
          "No",
          "No",
          "No",
          "No",
          "No",
          "No",
          "Yes",
          "No",
          "Yes",
          "No",
          "Yes",
          "No",
          "Yes",
          "Yes",
          "Yes",
          "No",
          "No",
          "No",
          "No",
          "No",
          "No",
          "No",
          "Yes",
          "No",
          "No",
          "Yes",
          "Yes",
          "Yes",
          "Yes",
          "No",
          "No",
          "No",
          "No",
          "No",
          "No",
          "No",
          "No",
          "Yes",
          "No",
          "Yes",
          "No",
          "No",
          "No",
          "No",
          "Yes",
          "No",
          "No",
          "No",
          "No",
          "No",
          "No",
          "No",
          "Yes",
          "No",
          "No",
          "Yes",
          "Yes",
          "No",
          "Yes",
          "No",
          "No",
          "No",
          "No",
          "No",
          "No",
          "Yes",
          "No",
          "No",
          "No",
          "No",
          "No",
          "Yes",
          "Yes",
          "Yes",
          "Yes",
          "No",
          "No",
          "Yes",
          "No",
          "No",
          "No",
          "No",
          "No",
          "No",
          "Yes",
          "No",
          "No",
          "No",
          "No",
          "No",
          "No",
          "Yes",
          "Yes",
          "Yes",
          "No",
          "No",
          "Yes",
          "No",
          "No",
          "No",
          "No",
          "No",
          "No",
          "Yes",
          "No",
          "No",
          "No",
          "No",
          "No",
          "Yes",
          "No",
          "No",
          "No",
          "No",
          "No",
          "Yes",
          "No",
          "No",
          "No",
          "Yes",
          "No",
          "Yes",
          "No",
          "Yes",
          "Yes",
          "No",
          "No",
          "No",
          "No",
          "No",
          "No",
          "No",
          "No",
          "No",
          "No",
          "Yes",
          "No",
          "No",
          "No",
          "No",
          "Yes",
          "No",
          "No",
          "No",
          "No",
          "No",
          "Yes",
          "Yes",
          "Yes",
          "No",
          "No",
          "No",
          "No",
          "No",
          "No",
          "No",
          "Yes",
          "Yes",
          "No",
          "No",
          "No",
          "No",
          "No",
          "No",
          "No",
          "No",
          "No",
          "No",
          "Yes",
          "No",
          "No",
          "Yes",
          "No",
          "No",
          "No",
          "No",
          "No",
          "No",
          "No",
          "No",
          "No",
          "No",
          "No",
          "Yes",
          "Yes",
          "No",
          "No",
          "No",
          "No",
          "No",
          "No",
          "Yes",
          "No",
          "No",
          "No",
          "No",
          "No",
          "No",
          "No",
          "No",
          "Yes",
          "Yes",
          "No",
          "No",
          "No",
          "No",
          "No",
          "Yes",
          "No",
          "Yes",
          "No",
          "No",
          "Yes",
          "Yes",
          "No",
          "No",
          "Yes",
          "Yes",
          "No",
          "Yes",
          "No",
          "No",
          "Yes",
          "No",
          "No",
          "No",
          "No",
          "Yes",
          "No",
          "No",
          "Yes",
          "No",
          "No",
          "Yes",
          "No",
          "No",
          "Yes",
          "Yes",
          "No",
          "No",
          "No",
          "No",
          "No",
          "Yes",
          "No",
          "Yes",
          "Yes",
          "No",
          "No",
          "No",
          "Yes",
          "No",
          "No",
          "Yes",
          "No",
          "No",
          "Yes",
          "No",
          "No",
          "No",
          "No",
          "Yes",
          "Yes",
          "No",
          "No",
          "No",
          "No",
          "No",
          "No",
          "No",
          "No",
          "No",
          "Yes",
          "No",
          "No",
          "No",
          "No",
          "No",
          "No",
          "No",
          "No",
          "Yes",
          "Yes",
          "No",
          "Yes",
          "No",
          "No",
          "No",
          "No",
          "No",
          "No",
          "No",
          "Yes",
          "No",
          "No",
          "No",
          "No",
          "No",
          "No",
          "No",
          "No",
          "No",
          "No",
          "No",
          "No",
          "No",
          "Yes",
          "No",
          "No",
          "No",
          "No",
          "Yes",
          "No",
          "No",
          "No",
          "No",
          "No",
          "No",
          "Yes",
          "Yes",
          "Yes",
          "No",
          "No",
          "Yes",
          "No",
          "No",
          "No",
          "No",
          "No",
          "No",
          "No",
          "No",
          "No",
          "Yes",
          "No",
          "No",
          "No",
          "No",
          "No",
          "No",
          "No",
          "No",
          "No",
          "No",
          "No",
          "No",
          "No",
          "Yes",
          "Yes",
          "Yes",
          "No",
          "No",
          "No",
          "No",
          "No",
          "No",
          "No",
          "No",
          "No",
          "No",
          "No",
          "No",
          "Yes",
          "No",
          "No",
          "No",
          "No",
          "Yes",
          "Yes",
          "No",
          "No",
          "No",
          "No",
          "Yes",
          "No",
          "No",
          "Yes",
          "Yes",
          "No",
          "Yes",
          "Yes",
          "No",
          "No",
          "Yes",
          "Yes",
          "No",
          "Yes",
          "No",
          "Yes",
          "Yes",
          "No",
          "No",
          "Yes",
          "No",
          "No",
          "No",
          "Yes",
          "No",
          "Yes",
          "No",
          "No",
          "No",
          "No",
          "No",
          "Yes",
          "No",
          "Yes",
          "No",
          "No",
          "No",
          "Yes",
          "No",
          "Yes",
          "No",
          "No",
          "Yes",
          "No",
          "No",
          "Yes",
          "No",
          "No",
          "No",
          "No",
          "No",
          "No",
          "Yes",
          "No",
          "No",
          "No",
          "No",
          "No",
          "Yes",
          "No",
          "No",
          "No",
          "Yes",
          "No",
          "No",
          "No",
          "No",
          "No",
          "No",
          "No",
          "Yes",
          "No",
          "No",
          "No",
          "No",
          "Yes",
          "No",
          "No",
          "No",
          "No",
          "No",
          "No",
          "No",
          "No",
          "No",
          "No",
          "No",
          "Yes",
          "Yes",
          "Yes",
          "No",
          "No",
          "No",
          "Yes",
          "No",
          "Yes",
          "No",
          "No",
          "No",
          "No",
          "No",
          "No",
          "No",
          "No",
          "No",
          "No",
          "No",
          "Yes",
          "No",
          "No",
          "No",
          "No",
          "No",
          "No",
          "No",
          "No",
          "No",
          "No",
          "No",
          "No",
          "Yes",
          "No",
          "No",
          "Yes",
          "No",
          "No",
          "Yes",
          "Yes",
          "No",
          "No",
          "No",
          "No",
          "No",
          "No",
          "No",
          "No",
          "Yes",
          "Yes",
          "Yes",
          "Yes",
          "No",
          "No",
          "Yes",
          "No",
          "Yes",
          "No",
          "No",
          "No",
          "Yes",
          "No",
          "Yes",
          "No",
          "No",
          "No",
          "No",
          "No",
          "No",
          "No",
          "No",
          "No",
          "No",
          "No",
          "No",
          "No",
          "Yes",
          "No",
          "Yes",
          "No",
          "No",
          "Yes",
          "No",
          "No",
          "No",
          "Yes",
          "Yes",
          "Yes",
          "Yes",
          "No",
          "No",
          "No",
          "No",
          "Yes",
          "No",
          "Yes",
          "No",
          "No",
          "No",
          "No",
          "No",
          "No",
          "Yes",
          "Yes",
          "No",
          "Yes",
          "No",
          "Yes",
          "No",
          "No",
          "No",
          "Yes",
          "No",
          "No",
          "Yes",
          "No",
          "No",
          "Yes",
          "No",
          "Yes",
          "No",
          "Yes",
          "No",
          "No",
          "No",
          "No",
          "No",
          "No",
          "No",
          "No",
          "No",
          "No",
          "Yes",
          "No",
          "Yes",
          "No",
          "No",
          "No",
          "No",
          "Yes",
          "Yes",
          "Yes",
          "Yes",
          "No",
          "No",
          "Yes",
          "No",
          "No",
          "No",
          "No",
          "Yes",
          "No",
          "No",
          "Yes",
          "No",
          "No",
          "No",
          "Yes",
          "No",
          "Yes",
          "No",
          "No",
          "No",
          "No",
          "No",
          "No",
          "Yes",
          "No",
          "Yes",
          "No",
          "Yes",
          "No",
          "No",
          "No",
          "No",
          "Yes",
          "No",
          "No",
          "Yes",
          "Yes",
          "No",
          "No",
          "Yes",
          "No",
          "No",
          "No",
          "No",
          "Yes",
          "No",
          "No",
          "No",
          "No",
          "Yes",
          "No",
          "No",
          "No",
          "No",
          "No",
          "No",
          "No",
          "No",
          "No",
          "No",
          "Yes",
          "Yes",
          "No",
          "No",
          "No",
          "No",
          "No",
          "Yes",
          "No",
          "No",
          "No",
          "Yes",
          "No",
          "No",
          "No",
          "No",
          "No",
          "No",
          "No",
          "Yes",
          "No",
          "No",
          "Yes",
          "No",
          "Yes",
          "No",
          "No",
          "No",
          "No",
          "Yes",
          "No",
          "No",
          "No",
          "No",
          "No",
          "No",
          "No",
          "No",
          "Yes",
          "Yes",
          "Yes",
          "No",
          "No",
          "Yes",
          "Yes",
          "No",
          "No",
          "Yes",
          "No",
          "Yes",
          "Yes",
          "No",
          "Yes",
          "No",
          "No",
          "No",
          "No",
          "Yes",
          "No",
          "Yes",
          "No",
          "No",
          "No",
          "No",
          "No",
          "No",
          "No",
          "No",
          "No",
          "Yes",
          "Yes",
          "Yes",
          "No",
          "No",
          "Yes",
          "Yes",
          "No",
          "No",
          "No",
          "No",
          "Yes",
          "Yes",
          "Yes",
          "No",
          "No",
          "No",
          "No",
          "No",
          "Yes",
          "Yes",
          "No",
          "No",
          "No",
          "No",
          "No",
          "No",
          "No",
          "No",
          "No",
          "No",
          "Yes",
          "No",
          "Yes",
          "Yes",
          "No",
          "No",
          "Yes",
          "No",
          "No",
          "No",
          "No",
          "No",
          "No",
          "Yes",
          "Yes",
          "No",
          "No",
          "Yes",
          "No",
          "No",
          "No",
          "No",
          "No",
          "Yes",
          "Yes",
          "No",
          "No",
          "Yes",
          "Yes",
          "No",
          "Yes",
          "Yes",
          "Yes",
          "Yes",
          "No",
          "No",
          "No",
          "No",
          "No",
          "Yes",
          "No",
          "No",
          "Yes",
          "No",
          "Yes",
          "Yes",
          "No",
          "Yes",
          "No",
          "No",
          "No",
          "Yes",
          "No",
          "No",
          "No",
          "No",
          "No",
          "Yes",
          "No",
          "Yes",
          "Yes",
          "No",
          "Yes",
          "No",
          "No",
          "No",
          "No",
          "No",
          "No",
          "No",
          "No",
          "Yes",
          "No",
          "No",
          "No",
          "No",
          "Yes",
          "No",
          "No",
          "No",
          "No",
          "No",
          "No",
          "No",
          "No",
          "Yes",
          "No",
          "Yes",
          "No",
          "No",
          "No",
          "No",
          "No",
          "No",
          "No",
          "No",
          "Yes",
          "No",
          "No",
          "Yes",
          "Yes",
          "No",
          "No",
          "No",
          "No",
          "Yes",
          "Yes",
          "No",
          "No",
          "No",
          "No",
          "No",
          "No",
          "No",
          "No",
          "No",
          "No",
          "No",
          "Yes",
          "No",
          "No",
          "No",
          "Yes",
          "Yes",
          "No",
          "No",
          "No",
          "No",
          "No",
          "No",
          "No",
          "No",
          "No",
          "Yes",
          "No",
          "Yes",
          "No",
          "Yes",
          "No",
          "No",
          "No",
          "No",
          "No",
          "No",
          "No",
          "Yes",
          "No",
          "Yes",
          "No",
          "No",
          "Yes",
          "No",
          "Yes",
          "No",
          "No",
          "Yes",
          "No",
          "No",
          "No",
          "Yes",
          "No",
          "No",
          "No",
          "No",
          "No",
          "No",
          "Yes",
          "No",
          "No",
          "No",
          "No",
          "No",
          "No",
          "No",
          "No",
          "No",
          "Yes",
          "No",
          "No",
          "Yes",
          "No",
          "No",
          "Yes",
          "No",
          "Yes",
          "Yes",
          "No",
          "No",
          "Yes",
          "Yes",
          "No",
          "No",
          "Yes",
          "No",
          "No",
          "No",
          "No",
          "Yes",
          "Yes",
          "Yes",
          "No",
          "No",
          "No",
          "No",
          "No",
          "No",
          "Yes",
          "No",
          "No",
          "No",
          "Yes",
          "No",
          "Yes",
          "No",
          "No",
          "No",
          "No",
          "Yes",
          "Yes",
          "No",
          "No",
          "No",
          "Yes",
          "Yes",
          "No",
          "Yes",
          "No",
          "Yes",
          "No",
          "Yes",
          "No",
          "No",
          "No",
          "Yes",
          "No",
          "No",
          "No",
          "Yes",
          "No",
          "No",
          "No",
          "No",
          "Yes",
          "No",
          "No",
          "No",
          "No",
          "No",
          "No",
          "No",
          "No",
          "No",
          "No",
          "No",
          "No",
          "No",
          "No",
          "No",
          "No",
          "Yes",
          "No",
          "No",
          "No",
          "No",
          "No",
          "Yes",
          "No",
          "No",
          "Yes",
          "No",
          "No",
          "No",
          "No",
          "Yes",
          "No",
          "No",
          "No",
          "No",
          "Yes",
          "No",
          "Yes",
          "No",
          "Yes",
          "Yes",
          "Yes",
          "No",
          "No",
          "Yes",
          "Yes",
          "No",
          "No",
          "No",
          "No",
          "Yes",
          "No",
          "No",
          "No",
          "No",
          "Yes",
          "Yes",
          "No",
          "Yes",
          "No",
          "No",
          "No",
          "No",
          "No",
          "No",
          "Yes",
          "Yes",
          "No",
          "No",
          "Yes",
          "Yes",
          "No",
          "Yes",
          "No",
          "No",
          "No",
          "No",
          "Yes",
          "No",
          "Yes",
          "No",
          "No",
          "No",
          "No",
          "No",
          "Yes",
          "No",
          "No",
          "No",
          "No",
          "Yes",
          "Yes",
          "Yes",
          "Yes",
          "No",
          "No",
          "Yes",
          "Yes",
          "No",
          "No",
          "No",
          "No",
          "Yes",
          "No",
          "No",
          "No",
          "No",
          "Yes",
          "No",
          "No",
          "No",
          "No",
          "No",
          "No",
          "Yes",
          "Yes",
          "No",
          "No",
          "No",
          "No",
          "Yes",
          "No",
          "No",
          "No",
          "No",
          "No",
          "Yes",
          "Yes",
          "No",
          "No",
          "No",
          "No",
          "Yes",
          "Yes",
          "No",
          "No",
          "Yes",
          "No",
          "No",
          "No",
          "No",
          "Yes",
          "No",
          "Yes",
          "No",
          "No",
          "No",
          "No",
          "No",
          "No",
          "No",
          "No",
          "Yes",
          "No",
          "Yes",
          "No",
          "No",
          "No",
          "No",
          "Yes",
          "No",
          "No",
          "No",
          "No",
          "No",
          "Yes",
          "No",
          "Yes",
          "No",
          "No",
          "Yes",
          "No",
          "No",
          "No",
          "No",
          "No",
          "No",
          "No",
          "Yes",
          "No",
          "No",
          "No",
          "No",
          "No",
          "No",
          "No",
          "No",
          "Yes",
          "No",
          "Yes",
          "No",
          "Yes",
          "No",
          "No",
          "Yes",
          "No",
          "No",
          "No",
          "No",
          "No",
          "Yes",
          "No",
          "No",
          "Yes",
          "Yes",
          "No",
          "No",
          "No",
          "Yes",
          "Yes",
          "No",
          "No",
          "No",
          "No",
          "No",
          "No",
          "Yes",
          "Yes",
          "No",
          "No",
          "No",
          "No",
          "No",
          "Yes",
          "No",
          "Yes",
          "No",
          "No",
          "No",
          "Yes",
          "No",
          "No",
          "No",
          "No",
          "No",
          "No",
          "Yes",
          "No",
          "No",
          "No",
          "Yes",
          "No",
          "No",
          "No",
          "Yes",
          "No",
          "No",
          "No",
          "No",
          "No",
          "Yes",
          "No",
          "No",
          "Yes",
          "No",
          "No",
          "No",
          "No",
          "No",
          "No",
          "No",
          "Yes",
          "No",
          "No",
          "Yes",
          "No",
          "No",
          "No",
          "No",
          "Yes",
          "No",
          "No",
          "No",
          "No",
          "Yes",
          "No",
          "No",
          "No",
          "Yes",
          "No",
          "Yes",
          "No",
          "No",
          "No",
          "No",
          "No",
          "Yes",
          "Yes",
          "No",
          "Yes",
          "No",
          "No",
          "Yes",
          "No",
          "No",
          "Yes",
          "No",
          "No",
          "No",
          "No",
          "No",
          "No",
          "No",
          "Yes",
          "No",
          "No",
          "Yes",
          "No",
          "Yes",
          "Yes",
          "Yes",
          "No",
          "No",
          "No",
          "No",
          "No",
          "No",
          "No",
          "No",
          "No",
          "No",
          "No",
          "No",
          "Yes",
          "No",
          "No",
          "Yes",
          "No",
          "No",
          "No",
          "No",
          "Yes",
          "No",
          "Yes",
          "Yes",
          "No",
          "No",
          "No",
          "Yes",
          "No",
          "No",
          "No",
          "No",
          "Yes",
          "No",
          "No",
          "No",
          "No",
          "No",
          "Yes",
          "No",
          "No",
          "Yes",
          "No",
          "No",
          "Yes",
          "Yes",
          "No",
          "No",
          "No",
          "No",
          "No",
          "Yes",
          "Yes",
          "No",
          "No",
          "No",
          "No",
          "No",
          "No",
          "Yes",
          "No",
          "No",
          "No",
          "No",
          "Yes",
          "Yes",
          "No",
          "Yes",
          "No",
          "No",
          "Yes",
          "Yes",
          "No",
          "No",
          "No",
          "Yes",
          "No",
          "No",
          "Yes",
          "No",
          "No",
          "No",
          "Yes",
          "Yes",
          "Yes",
          "No",
          "No",
          "No",
          "No",
          "No",
          "Yes",
          "No",
          "No",
          "Yes",
          "No",
          "Yes",
          "No",
          "No",
          "No",
          "No",
          "No",
          "No",
          "No",
          "No",
          "No",
          "No",
          "Yes",
          "No",
          "No",
          "No",
          "No",
          "No",
          "No",
          "No",
          "Yes",
          "No",
          "Yes",
          "No",
          "No",
          "No",
          "No",
          "Yes",
          "Yes",
          "No",
          "Yes",
          "No",
          "No",
          "No",
          "Yes",
          "No",
          "No",
          "No",
          "No",
          "No",
          "No",
          "No",
          "No",
          "No",
          "No",
          "No",
          "No",
          "Yes",
          "No",
          "No",
          "No",
          "No",
          "No",
          "No",
          "No",
          "No",
          "Yes",
          "Yes",
          "No",
          "No",
          "Yes",
          "No",
          "Yes",
          "No",
          "No",
          "Yes",
          "No",
          "No",
          "Yes",
          "No",
          "No",
          "No",
          "No",
          "Yes",
          "No",
          "No",
          "No",
          "Yes",
          "No",
          "No",
          "No",
          "No",
          "No",
          "No",
          "No",
          "No",
          "No",
          "No",
          "No",
          "No",
          "No",
          "No",
          "No",
          "No",
          "No",
          "No",
          "Yes",
          "Yes",
          "Yes",
          "No",
          "No",
          "No",
          "No",
          "No",
          "No",
          "No",
          "Yes",
          "No",
          "No",
          "Yes",
          "Yes",
          "No",
          "Yes",
          "No",
          "No",
          "No",
          "Yes",
          "No",
          "No",
          "No",
          "No",
          "Yes",
          "No",
          "No",
          "No",
          "Yes",
          "No",
          "No",
          "No",
          "No",
          "No",
          "No",
          "No",
          "Yes",
          "Yes",
          "Yes",
          "No",
          "No",
          "No",
          "No",
          "No",
          "No",
          "No",
          "No",
          "No",
          "No",
          "No",
          "Yes",
          "Yes",
          "Yes",
          "No",
          "No",
          "No",
          "No",
          "No",
          "No",
          "No",
          "No",
          "Yes",
          "No",
          "Yes",
          "No",
          "Yes",
          "Yes",
          "No",
          "No",
          "Yes",
          "No",
          "No",
          "No",
          "No",
          "No",
          "No",
          "No",
          "No",
          "Yes",
          "No",
          "Yes",
          "Yes",
          "Yes",
          "Yes",
          "No",
          "Yes",
          "No",
          "Yes",
          "Yes",
          "No",
          "Yes",
          "No",
          "No",
          "No",
          "No",
          "No",
          "Yes",
          "No",
          "No",
          "No",
          "No",
          "No",
          "No",
          "No",
          "No",
          "No",
          "No",
          "No",
          "Yes",
          "Yes",
          "No",
          "No",
          "Yes",
          "No",
          "No",
          "No",
          "Yes",
          "No",
          "No",
          "Yes",
          "Yes",
          "No",
          "No",
          "No",
          "No",
          "No",
          "Yes",
          "Yes",
          "No",
          "No",
          "No",
          "No",
          "No",
          "Yes",
          "No",
          "No",
          "No",
          "No",
          "No",
          "No",
          "No",
          "No",
          "No",
          "No",
          "No",
          "Yes",
          "No",
          "No",
          "Yes",
          "No",
          "No",
          "No",
          "No",
          "No",
          "No",
          "Yes",
          "Yes",
          "Yes",
          "No",
          "No",
          "No",
          "No",
          "No",
          "Yes",
          "No",
          "No",
          "No",
          "No",
          "No",
          "No",
          "No",
          "No",
          "No",
          "Yes",
          "No",
          "No",
          "No",
          "Yes",
          "No",
          "Yes",
          "No",
          "No",
          "Yes",
          "Yes",
          "No",
          "No",
          "No",
          "No",
          "No",
          "No",
          "No",
          "No",
          "No",
          "No",
          "Yes",
          "No",
          "Yes",
          "No",
          "No",
          "Yes",
          "No",
          "No",
          "No",
          "Yes",
          "No",
          "Yes",
          "No",
          "No",
          "No",
          "No",
          "Yes",
          "No",
          "No",
          "Yes",
          "Yes",
          "No",
          "Yes",
          "Yes",
          "No",
          "Yes",
          "No",
          "No",
          "Yes",
          "No",
          "Yes",
          "No",
          "No",
          "Yes",
          "Yes",
          "No",
          "No",
          "No",
          "Yes",
          "Yes",
          "Yes",
          "Yes",
          "Yes",
          "Yes",
          "No",
          "Yes",
          "No",
          "Yes",
          "No",
          "No",
          "No",
          "Yes",
          "No",
          "Yes",
          "Yes",
          "No",
          "No",
          "No",
          "Yes",
          "No",
          "No",
          "No",
          "No",
          "No",
          "Yes",
          "No",
          "No",
          "Yes",
          "Yes",
          "No",
          "No",
          "No",
          "No",
          "Yes",
          "Yes",
          "No",
          "No",
          "No",
          "No",
          "No",
          "No",
          "No",
          "No",
          "Yes",
          "No",
          "No",
          "No",
          "No",
          "Yes",
          "Yes",
          "No",
          "No",
          "Yes",
          "No",
          "No",
          "No",
          "Yes",
          "No",
          "No",
          "No",
          "No",
          "No",
          "No",
          "No",
          "Yes",
          "Yes",
          "No",
          "No",
          "No",
          "Yes",
          "No",
          "No",
          "Yes",
          "No",
          "No",
          "No",
          "No",
          "No",
          "Yes",
          "Yes",
          "Yes",
          "Yes",
          "Yes",
          "No",
          "No",
          "No",
          "No",
          "No",
          "No",
          "No",
          "Yes",
          "Yes",
          "No",
          "No",
          "No",
          "No",
          "Yes",
          "No",
          "No",
          "Yes",
          "Yes",
          "No",
          "No",
          "No",
          "No",
          "No",
          "No",
          "No",
          "No",
          "No",
          "No",
          "Yes",
          "No",
          "No",
          "No",
          "No",
          "No",
          "No",
          "No",
          "Yes",
          "No",
          "No",
          "Yes",
          "No",
          "Yes",
          "Yes",
          "No",
          "No",
          "Yes",
          "No",
          "No",
          "No",
          "No",
          "No",
          "No",
          "Yes",
          "No",
          "No",
          "No",
          "No",
          "No",
          "No",
          "No",
          "No",
          "No",
          "No",
          "No",
          "No",
          "No",
          "No",
          "Yes",
          "Yes",
          "No",
          "No",
          "No",
          "No",
          "Yes",
          "No",
          "Yes",
          "No",
          "No",
          "No",
          "Yes",
          "Yes",
          "No",
          "No",
          "No",
          "No",
          "No",
          "No",
          "Yes",
          "No",
          "No",
          "No",
          "No",
          "No",
          "No",
          "No",
          "No",
          "Yes",
          "Yes",
          "No",
          "No",
          "No",
          "No",
          "No",
          "Yes",
          "No",
          "No",
          "Yes",
          "No",
          "No",
          "No",
          "No",
          "No",
          "No",
          "No",
          "Yes",
          "No",
          "Yes",
          "No",
          "Yes",
          "Yes",
          "Yes",
          "No",
          "No",
          "No",
          "No",
          "No",
          "Yes",
          "No",
          "No",
          "No",
          "No",
          "No",
          "No",
          "No",
          "No",
          "Yes",
          "Yes",
          "No",
          "No",
          "No",
          "No",
          "No",
          "No",
          "Yes",
          "No",
          "No",
          "No",
          "No",
          "No",
          "No",
          "No",
          "No",
          "No",
          "No",
          "No",
          "No",
          "Yes",
          "No",
          "Yes",
          "No",
          "No",
          "No",
          "No",
          "No",
          "No",
          "No",
          "No",
          "No",
          "No",
          "No",
          "No",
          "No",
          "Yes",
          "No",
          "Yes",
          "Yes",
          "No",
          "Yes",
          "No",
          "No",
          "No",
          "Yes",
          "Yes",
          "No",
          "No",
          "No",
          "Yes",
          "Yes",
          "No",
          "Yes",
          "No",
          "No",
          "No",
          "Yes",
          "Yes",
          "Yes",
          "No",
          "Yes",
          "No",
          "Yes",
          "No",
          "No",
          "Yes",
          "Yes",
          "No",
          "No",
          "Yes",
          "Yes",
          "No",
          "Yes",
          "No",
          "No",
          "Yes",
          "No",
          "No",
          "Yes",
          "No",
          "No",
          "No",
          "No",
          "No",
          "No",
          "No",
          "No",
          "No",
          "No",
          "No",
          "No",
          "No",
          "No",
          "No",
          "No",
          "No",
          "No",
          "No",
          "Yes",
          "Yes",
          "No",
          "No",
          "No",
          "No",
          "No",
          "No",
          "No",
          "No",
          "No",
          "No",
          "No",
          "Yes",
          "Yes",
          "No",
          "Yes",
          "No",
          "No",
          "No",
          "No",
          "No",
          "No",
          "No",
          "No",
          "No",
          "No",
          "No",
          "No",
          "No",
          "No",
          "No",
          "No",
          "No",
          "No",
          "No",
          "No",
          "No",
          "Yes",
          "No",
          "No",
          "No",
          "No",
          "Yes",
          "Yes",
          "No",
          "No",
          "No",
          "No",
          "No",
          "No",
          "No",
          "No",
          "No",
          "No",
          "Yes",
          "Yes",
          "No",
          "No",
          "No",
          "No",
          "No",
          "No",
          "No",
          "No",
          "No",
          "No",
          "No",
          "No",
          "No",
          "Yes",
          "No",
          "No",
          "No",
          "Yes",
          "No",
          "No",
          "No",
          "No",
          "No",
          "No",
          "No",
          "Yes",
          "Yes",
          "Yes",
          "No",
          "No",
          "No",
          "No",
          "Yes",
          "No",
          "No",
          "Yes",
          "No",
          "No",
          "No",
          "No",
          "No",
          "No",
          "No",
          "No",
          "Yes",
          "No",
          "No",
          "Yes",
          "Yes",
          "No",
          "No",
          "Yes",
          "No",
          "No",
          "No",
          "No",
          "No",
          "No",
          "Yes",
          "No",
          "No",
          "No",
          "Yes",
          "No",
          "Yes",
          "No",
          "Yes",
          "No",
          "Yes",
          "No",
          "No",
          "Yes",
          "Yes",
          "No",
          "No",
          "Yes",
          "No",
          "No",
          "No",
          "No",
          "No",
          "No",
          "No",
          "No",
          "Yes",
          "Yes",
          "No",
          "No",
          "Yes",
          "No",
          "No",
          "Yes",
          "No",
          "No",
          "No",
          "No",
          "No",
          "No",
          "No",
          "No",
          "Yes",
          "No",
          "No",
          "Yes",
          "No",
          "Yes",
          "No",
          "No",
          "Yes",
          "No",
          "No",
          "No",
          "Yes",
          "No",
          "Yes",
          "No",
          "No",
          "No",
          "No",
          "No",
          "No",
          "No",
          "No",
          "No",
          "Yes",
          "No",
          "No",
          "No",
          "No",
          "No",
          "Yes",
          "No",
          "No",
          "No",
          "Yes",
          "No",
          "Yes",
          "Yes",
          "No",
          "No",
          "No",
          "Yes",
          "No",
          "No",
          "No",
          "No",
          "Yes",
          "Yes",
          "Yes",
          "Yes",
          "No",
          "No",
          "No",
          "No",
          "No",
          "No",
          "Yes",
          "No",
          "No",
          "No",
          "No",
          "No",
          "No",
          "Yes",
          "No",
          "No",
          "No",
          "No",
          "No",
          "No",
          "No",
          "No",
          "No",
          "No",
          "No",
          "No",
          "No",
          "No",
          "No",
          "No",
          "Yes",
          "No",
          "No",
          "Yes",
          "Yes",
          "No",
          "No",
          "Yes",
          "No",
          "No",
          "Yes",
          "No",
          "No",
          "Yes",
          "Yes",
          "No",
          "No",
          "Yes",
          "Yes",
          "No",
          "No",
          "No",
          "No",
          "No",
          "No",
          "No",
          "No",
          "No",
          "No",
          "Yes",
          "No",
          "No",
          "No",
          "No",
          "No",
          "No",
          "No",
          "No",
          "No",
          "No",
          "No",
          "No",
          "No",
          "No",
          "No",
          "No",
          "No",
          "Yes",
          "Yes",
          "Yes",
          "Yes",
          "Yes",
          "No",
          "Yes",
          "Yes",
          "No",
          "Yes",
          "Yes",
          "No",
          "Yes",
          "No",
          "No",
          "No",
          "No",
          "No",
          "No",
          "No",
          "No",
          "No",
          "Yes",
          "No",
          "Yes",
          "No",
          "No",
          "Yes",
          "No",
          "No",
          "No",
          "Yes",
          "Yes",
          "No",
          "No",
          "Yes",
          "Yes",
          "Yes",
          "No",
          "No",
          "No",
          "No",
          "No",
          "No",
          "Yes",
          "No",
          "No",
          "Yes",
          "Yes",
          "No",
          "No",
          "No",
          "No",
          "No",
          "No",
          "Yes",
          "No",
          "No",
          "No",
          "No",
          "No",
          "Yes",
          "Yes",
          "No",
          "No",
          "No",
          "Yes",
          "No",
          "No",
          "No",
          "Yes",
          "No",
          "Yes",
          "No",
          "No",
          "Yes",
          "Yes",
          "No",
          "No",
          "Yes",
          "No",
          "Yes",
          "No",
          "Yes",
          "No",
          "No",
          "No",
          "No",
          "No",
          "No",
          "No",
          "No",
          "No",
          "No",
          "No",
          "No",
          "Yes",
          "No",
          "No",
          "Yes",
          "Yes",
          "Yes",
          "No",
          "No",
          "Yes",
          "No",
          "No",
          "No",
          "No",
          "No",
          "No",
          "No",
          "No",
          "Yes",
          "Yes",
          "No",
          "No",
          "No",
          "No",
          "No",
          "Yes",
          "No",
          "Yes",
          "No",
          "No",
          "No",
          "No",
          "No",
          "No",
          "No",
          "No",
          "No",
          "No",
          "Yes",
          "Yes",
          "No",
          "No",
          "No",
          "Yes",
          "No",
          "No",
          "Yes",
          "No",
          "No",
          "No",
          "Yes",
          "Yes",
          "No",
          "No",
          "Yes",
          "No",
          "No",
          "No",
          "No",
          "Yes",
          "No",
          "No",
          "No",
          "No",
          "No",
          "No",
          "No",
          "Yes",
          "Yes",
          "No",
          "No",
          "No",
          "No",
          "Yes",
          "Yes",
          "No",
          "No",
          "Yes",
          "Yes",
          "No",
          "No",
          "No",
          "Yes",
          "No",
          "No",
          "No",
          "No",
          "No",
          "Yes",
          "No",
          "No",
          "No",
          "No",
          "Yes",
          "No",
          "Yes",
          "Yes",
          "No",
          "No",
          "No",
          "Yes",
          "No",
          "Yes",
          "No",
          "No",
          "No",
          "No",
          "No",
          "No",
          "No",
          "Yes",
          "No",
          "No",
          "Yes",
          "No",
          "No",
          "Yes",
          "No",
          "No",
          "Yes",
          "Yes",
          "No",
          "No",
          "No",
          "No",
          "No",
          "No",
          "Yes",
          "No",
          "Yes",
          "No",
          "No",
          "No",
          "No",
          "No",
          "Yes",
          "No",
          "No",
          "No",
          "No",
          "No",
          "No",
          "Yes",
          "No",
          "No",
          "No",
          "No",
          "No",
          "No",
          "No",
          "No",
          "No",
          "No",
          "No",
          "No",
          "No",
          "No",
          "No",
          "No",
          "Yes",
          "Yes",
          "No",
          "No",
          "No",
          "No",
          "No",
          "No",
          "Yes",
          "No",
          "Yes",
          "No",
          "Yes",
          "No",
          "Yes",
          "No",
          "Yes",
          "No",
          "Yes",
          "No",
          "No",
          "No",
          "No",
          "No",
          "No",
          "No",
          "Yes",
          "Yes",
          "No",
          "Yes",
          "Yes",
          "No",
          "Yes",
          "Yes",
          "No",
          "No",
          "No",
          "No",
          "No",
          "Yes",
          "No",
          "No",
          "No",
          "Yes",
          "No",
          "No",
          "Yes",
          "Yes",
          "No",
          "No",
          "Yes",
          "No",
          "No",
          "No",
          "No",
          "No",
          "No",
          "No",
          "No",
          "No",
          "Yes",
          "Yes",
          "No",
          "Yes",
          "No",
          "No",
          "No",
          "No",
          "No",
          "No",
          "No",
          "No",
          "No",
          "No",
          "No",
          "No",
          "No",
          "No",
          "Yes",
          "Yes",
          "No",
          "No",
          "No",
          "No",
          "No",
          "No",
          "No",
          "Yes",
          "No",
          "No",
          "No",
          "No",
          "Yes",
          "Yes",
          "Yes",
          "No",
          "No",
          "No",
          "No",
          "Yes",
          "No",
          "Yes",
          "No",
          "No",
          "Yes",
          "No",
          "No",
          "No",
          "No",
          "Yes",
          "No",
          "No",
          "Yes",
          "Yes",
          "No",
          "No",
          "No",
          "No",
          "No",
          "No",
          "No",
          "No",
          "No",
          "No",
          "No",
          "No",
          "No",
          "No",
          "No",
          "Yes",
          "No",
          "No",
          "No",
          "No",
          "No",
          "No",
          "Yes",
          "No",
          "No",
          "Yes",
          "No",
          "No",
          "Yes",
          "Yes",
          "No",
          "Yes",
          "Yes",
          "No",
          "No",
          "No",
          "No",
          "No",
          "No",
          "No",
          "No",
          "Yes",
          "No",
          "No",
          "Yes",
          "No",
          "No",
          "No",
          "No",
          "No",
          "No",
          "Yes",
          "No",
          "Yes",
          "Yes",
          "Yes",
          "Yes",
          "No",
          "No",
          "Yes",
          "No",
          "No",
          "No",
          "No",
          "No",
          "Yes",
          "No",
          "Yes",
          "Yes",
          "Yes",
          "No",
          "No",
          "Yes",
          "No",
          "Yes",
          "Yes",
          "No",
          "No",
          "No",
          "No",
          "Yes",
          "No",
          "No",
          "Yes",
          "No",
          "No",
          "Yes",
          "No",
          "No",
          "No",
          "No",
          "No",
          "Yes",
          "No",
          "No",
          "No",
          "No",
          "No",
          "No",
          "No",
          "No",
          "Yes",
          "No",
          "Yes",
          "Yes",
          "No",
          "Yes",
          "No",
          "No",
          "No",
          "Yes",
          "No",
          "Yes",
          "No",
          "No",
          "Yes",
          "No",
          "Yes",
          "No",
          "No",
          "No",
          "No",
          "No",
          "Yes",
          "No",
          "No",
          "No",
          "Yes",
          "Yes",
          "No",
          "No",
          "No",
          "No",
          "No",
          "No",
          "No",
          "Yes",
          "No",
          "No",
          "No",
          "Yes",
          "No",
          "No",
          "No",
          "Yes",
          "No",
          "Yes",
          "No",
          "No",
          "No",
          "No",
          "No",
          "Yes",
          "No",
          "No",
          "No",
          "No",
          "No",
          "No",
          "No",
          "Yes",
          "Yes",
          "No",
          "Yes",
          "Yes",
          "No",
          "Yes",
          "Yes",
          "No",
          "No",
          "Yes",
          "Yes",
          "No",
          "No",
          "No",
          "No",
          "No",
          "No",
          "No",
          "No",
          "No",
          "No",
          "Yes",
          "Yes",
          "No",
          "No",
          "No",
          "No",
          "No",
          "No",
          "No",
          "No",
          "No",
          "No",
          "No",
          "No",
          "No",
          "Yes",
          "No",
          "No",
          "Yes",
          "No",
          "No",
          "Yes",
          "No",
          "No",
          "No",
          "No",
          "Yes",
          "No",
          "Yes",
          "No",
          "No",
          "Yes",
          "No",
          "No",
          "No",
          "No",
          "No",
          "Yes",
          "No",
          "No",
          "Yes",
          "No",
          "No",
          "Yes",
          "No",
          "No",
          "No",
          "No",
          "No",
          "No",
          "No",
          "No",
          "Yes",
          "No",
          "No",
          "No",
          "No",
          "No",
          "No",
          "Yes",
          "No",
          "No",
          "No",
          "No",
          "No",
          "No",
          "No",
          "Yes",
          "No",
          "No",
          "No",
          "No",
          "Yes",
          "No",
          "No",
          "No",
          "No",
          "No",
          "No",
          "No",
          "No",
          "No",
          "No",
          "Yes",
          "Yes",
          "No",
          "No",
          "No",
          "Yes",
          "Yes",
          "No",
          "Yes",
          "No",
          "No",
          "Yes",
          "No",
          "No",
          "No",
          "No",
          "No",
          "No",
          "No",
          "No",
          "Yes",
          "No",
          "Yes",
          "No",
          "No",
          "Yes",
          "No",
          "No",
          "No",
          "No",
          "No",
          "Yes",
          "Yes",
          "Yes",
          "No",
          "No",
          "Yes",
          "No",
          "No",
          "No",
          "No",
          "No",
          "No",
          "No",
          "No",
          "No",
          "Yes",
          "Yes",
          "No",
          "No",
          "No",
          "No",
          "No",
          "No",
          "Yes",
          "No",
          "No",
          "No",
          "No",
          "No",
          "No",
          "Yes",
          "Yes",
          "Yes",
          "No",
          "No",
          "No",
          "No",
          "No",
          "No",
          "Yes",
          "No",
          "No",
          "No",
          "No",
          "No",
          "No",
          "No",
          "Yes",
          "Yes",
          "No",
          "No",
          "Yes",
          "No",
          "No",
          "Yes",
          "Yes",
          "No",
          "No",
          "No",
          "Yes",
          "No",
          "Yes",
          "No",
          "Yes",
          "No",
          "No",
          "No",
          "Yes",
          "No",
          "Yes",
          "No",
          "No",
          "No",
          "Yes",
          "No",
          "No",
          "No",
          "No",
          "Yes",
          "Yes",
          "Yes",
          "Yes",
          "No",
          "No",
          "No",
          "Yes",
          "Yes",
          "No",
          "No",
          "Yes",
          "No",
          "Yes",
          "No",
          "Yes",
          "No",
          "No",
          "No",
          "No",
          "No",
          "No",
          "Yes",
          "No",
          "Yes",
          "Yes",
          "No",
          "No",
          "No",
          "No",
          "No",
          "Yes",
          "No",
          "No",
          "Yes",
          "Yes",
          "Yes",
          "No",
          "No",
          "No",
          "No",
          "No",
          "No",
          "No",
          "No",
          "No",
          "No",
          "No",
          "No",
          "No",
          "No",
          "No",
          "No",
          "Yes",
          "No",
          "No",
          "No",
          "No",
          "No",
          "Yes",
          "No",
          "Yes",
          "Yes",
          "No",
          "No",
          "No",
          "Yes",
          "No",
          "No",
          "No",
          "No",
          "No",
          "No",
          "No",
          "Yes",
          "Yes",
          "No",
          "Yes",
          "No",
          "Yes",
          "No",
          "No",
          "Yes",
          "No",
          "No",
          "No",
          "No",
          "No",
          "No",
          "Yes",
          "Yes",
          "No",
          "No",
          "No",
          "No",
          "No",
          "No",
          "No",
          "No",
          "Yes",
          "No",
          "No",
          "No",
          "No",
          "No",
          "No",
          "Yes",
          "No",
          "No",
          "Yes",
          "No",
          "No",
          "No",
          "Yes",
          "No",
          "No",
          "No",
          "No",
          "Yes",
          "No",
          "No",
          "No",
          "No",
          "No",
          "Yes",
          "No",
          "No",
          "No",
          "No",
          "No",
          "Yes",
          "No",
          "No",
          "No",
          "No",
          "No",
          "Yes",
          "No",
          "No",
          "No",
          "No",
          "Yes",
          "No",
          "No",
          "No",
          "Yes",
          "Yes",
          "No",
          "No",
          "Yes",
          "Yes",
          "No",
          "No",
          "No",
          "No",
          "No",
          "No",
          "No",
          "No",
          "No",
          "No",
          "No",
          "No",
          "No",
          "No",
          "No",
          "No",
          "Yes",
          "Yes",
          "No",
          "No",
          "No",
          "No",
          "No",
          "No",
          "Yes",
          "Yes",
          "Yes",
          "Yes",
          "Yes",
          "No",
          "No",
          "No",
          "Yes",
          "No",
          "Yes",
          "No",
          "No",
          "No",
          "No",
          "Yes",
          "No",
          "No",
          "No",
          "No",
          "Yes",
          "No",
          "No",
          "No",
          "No",
          "No",
          "Yes",
          "Yes",
          "No",
          "No",
          "No",
          "Yes",
          "No",
          "No",
          "No",
          "No",
          "No",
          "Yes",
          "Yes",
          "No",
          "No",
          "Yes",
          "No",
          "Yes",
          "No",
          "No",
          "No",
          "No",
          "No",
          "No",
          "No",
          "No",
          "No",
          "Yes",
          "No",
          "No",
          "Yes",
          "No",
          "No",
          "No",
          "No",
          "No",
          "Yes",
          "Yes",
          "No",
          "No",
          "No",
          "Yes",
          "Yes",
          "Yes",
          "No",
          "Yes",
          "Yes",
          "No",
          "No",
          "No",
          "Yes",
          "No",
          "No",
          "Yes",
          "No",
          "No",
          "No",
          "No",
          "Yes",
          "No",
          "Yes",
          "No",
          "No",
          "No",
          "No",
          "Yes",
          "No",
          "Yes",
          "No",
          "No",
          "No",
          "Yes",
          "No",
          "No",
          "No",
          "No",
          "No",
          "No",
          "No",
          "No",
          "Yes",
          "Yes",
          "No",
          "No",
          "No",
          "No",
          "No",
          "Yes",
          "Yes",
          "No",
          "Yes",
          "No",
          "No",
          "No",
          "No",
          "No",
          "No",
          "No",
          "No",
          "No",
          "No",
          "No",
          "Yes",
          "No",
          "No",
          "No",
          "No",
          "No",
          "No",
          "No",
          "No",
          "No",
          "Yes",
          "No",
          "No",
          "No",
          "Yes",
          "No",
          "No",
          "No",
          "No",
          "Yes",
          "Yes",
          "Yes",
          "Yes",
          "No",
          "No",
          "No",
          "No",
          "Yes",
          "Yes",
          "Yes",
          "Yes",
          "No",
          "No",
          "No",
          "Yes",
          "Yes",
          "No",
          "Yes",
          "Yes",
          "No",
          "No",
          "No",
          "Yes",
          "No",
          "Yes",
          "No",
          "No",
          "No",
          "Yes",
          "No",
          "Yes",
          "No",
          "No",
          "No",
          "No",
          "No",
          "No",
          "No",
          "No",
          "No",
          "No",
          "Yes",
          "No",
          "No",
          "Yes",
          "No",
          "No",
          "No",
          "No",
          "Yes",
          "No",
          "No",
          "No",
          "Yes",
          "Yes",
          "Yes",
          "No",
          "No",
          "Yes",
          "No",
          "No",
          "No",
          "No",
          "No",
          "No",
          "Yes",
          "No",
          "No",
          "No",
          "No",
          "No",
          "Yes",
          "No",
          "Yes",
          "Yes",
          "No",
          "No",
          "Yes",
          "No",
          "No",
          "No",
          "No",
          "No",
          "Yes",
          "Yes",
          "No",
          "No",
          "Yes",
          "No",
          "No",
          "No",
          "Yes",
          "No",
          "No",
          "Yes",
          "No",
          "No",
          "No",
          "No",
          "Yes",
          "Yes",
          "Yes",
          "No",
          "Yes",
          "No",
          "No",
          "No",
          "Yes",
          "No",
          "No",
          "No",
          "No",
          "Yes",
          "Yes",
          "No",
          "No",
          "Yes",
          "No",
          "Yes",
          "No",
          "Yes",
          "No",
          "No",
          "No",
          "Yes",
          "No",
          "No",
          "Yes",
          "No",
          "Yes",
          "No",
          "Yes",
          "No",
          "Yes",
          "No",
          "Yes",
          "No",
          "No",
          "No",
          "No",
          "No",
          "No",
          "No",
          "Yes",
          "No",
          "No",
          "No",
          "No",
          "No",
          "Yes",
          "No",
          "No",
          "No",
          "No",
          "No",
          "No",
          "No",
          "Yes",
          "Yes",
          "Yes",
          "No",
          "No",
          "Yes",
          "No",
          "No",
          "Yes",
          "No",
          "No",
          "No",
          "Yes",
          "No",
          "Yes",
          "Yes",
          "Yes",
          "No",
          "No",
          "No",
          "Yes",
          "No",
          "No",
          "No",
          "No",
          "No",
          "No",
          "No",
          "No",
          "No",
          "No",
          "No",
          "No",
          "No",
          "No",
          "Yes",
          "No",
          "No",
          "No",
          "Yes",
          "No",
          "No",
          "Yes",
          "No",
          "No",
          "No",
          "Yes",
          "No",
          "Yes",
          "No",
          "Yes",
          "No",
          "No",
          "No",
          "No",
          "No",
          "No",
          "No",
          "Yes",
          "Yes",
          "No",
          "Yes",
          "No",
          "No",
          "No",
          "No",
          "No",
          "No",
          "No",
          "No",
          "No",
          "No",
          "No",
          "No",
          "No",
          "No",
          "Yes",
          "Yes",
          "No",
          "No",
          "No",
          "Yes",
          "Yes",
          "No",
          "No",
          "No",
          "No",
          "No",
          "Yes",
          "Yes",
          "Yes",
          "No",
          "No",
          "No",
          "Yes",
          "Yes",
          "No",
          "No",
          "Yes",
          "No",
          "No",
          "No",
          "No",
          "Yes",
          "No",
          "No",
          "No",
          "No",
          "No",
          "No",
          "Yes",
          "No",
          "No",
          "Yes",
          "No",
          "No",
          "Yes",
          "Yes",
          "No",
          "No",
          "No",
          "Yes",
          "No",
          "No",
          "Yes",
          "No",
          "No",
          "Yes",
          "No",
          "Yes",
          "No",
          "No",
          "No",
          "Yes",
          "No",
          "No",
          "No",
          "No",
          "No",
          "No",
          "No",
          "No",
          "Yes",
          "No",
          "No",
          "No",
          "Yes",
          "Yes",
          "No",
          "No",
          "No",
          "Yes",
          "No",
          "No",
          "Yes",
          "No",
          "No",
          "No",
          "Yes",
          "No",
          "No",
          "No",
          "Yes",
          "No",
          "No",
          "Yes",
          "Yes",
          "No",
          "No",
          "No",
          "Yes",
          "No",
          "No",
          "No",
          "No",
          "No",
          "Yes",
          "No",
          "No",
          "No",
          "No",
          "No",
          "No",
          "Yes",
          "No",
          "No",
          "No",
          "No",
          "No",
          "No",
          "Yes",
          "No",
          "Yes",
          "No",
          "No",
          "No",
          "Yes",
          "No",
          "Yes",
          "No",
          "No",
          "No",
          "No",
          "No",
          "No",
          "No",
          "No",
          "No",
          "No",
          "No",
          "No",
          "No",
          "No",
          "No",
          "No",
          "No",
          "Yes",
          "No",
          "No",
          "No",
          "No",
          "No",
          "No",
          "Yes",
          "No",
          "No",
          "No",
          "Yes",
          "No",
          "Yes",
          "Yes",
          "No",
          "No",
          "Yes",
          "Yes",
          "No",
          "Yes",
          "No",
          "No",
          "No",
          "No",
          "No",
          "No",
          "No",
          "Yes",
          "Yes",
          "No",
          "No",
          "No",
          "Yes",
          "No",
          "No",
          "Yes",
          "Yes",
          "Yes",
          "Yes",
          "No",
          "No",
          "No",
          "Yes",
          "Yes",
          "No",
          "No",
          "No",
          "No",
          "No",
          "No",
          "No",
          "No",
          "Yes",
          "No",
          "No",
          "No",
          "No",
          "No",
          "No",
          "No",
          "Yes",
          "No",
          "No",
          "Yes",
          "No",
          "No",
          "No",
          "No",
          "No",
          "No",
          "No",
          "No",
          "No",
          "No",
          "No",
          "Yes",
          "No",
          "No",
          "No",
          "No",
          "No",
          "No",
          "Yes",
          "No",
          "No",
          "Yes",
          "Yes",
          "No",
          "No",
          "No",
          "No",
          "No",
          "Yes",
          "No",
          "Yes",
          "No",
          "No",
          "Yes",
          "No",
          "No",
          "Yes",
          "No",
          "No",
          "Yes",
          "No",
          "No",
          "No",
          "No",
          "Yes",
          "No",
          "No",
          "No",
          "No",
          "No",
          "No",
          "No",
          "No",
          "No",
          "No",
          "No",
          "No",
          "No",
          "No",
          "Yes",
          "No",
          "Yes",
          "No",
          "No",
          "Yes",
          "No",
          "No",
          "No",
          "No",
          "No",
          "Yes",
          "No",
          "Yes",
          "No",
          "Yes",
          "No",
          "No",
          "No",
          "Yes",
          "No",
          "Yes",
          "No",
          "No",
          "No",
          "No",
          "No",
          "No",
          "No",
          "No",
          "Yes",
          "No",
          "No",
          "No",
          "No",
          "No",
          "No",
          "No",
          "No",
          "No",
          "No",
          "No",
          "Yes",
          "Yes",
          "Yes",
          "Yes",
          "No",
          "No",
          "No",
          "No",
          "No",
          "No",
          "No",
          "No",
          "No",
          "No",
          "No",
          "Yes",
          "No",
          "Yes",
          "No",
          "Yes",
          "No",
          "Yes",
          "No",
          "No",
          "No",
          "No",
          "Yes",
          "No",
          "No",
          "Yes",
          "Yes",
          "No",
          "No",
          "No",
          "No",
          "No",
          "No",
          "No",
          "No",
          "No",
          "No",
          "No",
          "No",
          "Yes",
          "Yes",
          "No",
          "No",
          "Yes",
          "Yes",
          "No",
          "No",
          "Yes",
          "No",
          "No",
          "Yes",
          "Yes",
          "No",
          "No",
          "Yes",
          "No",
          "No",
          "Yes",
          "Yes",
          "No",
          "No",
          "Yes",
          "No",
          "No",
          "No",
          "No",
          "No",
          "No",
          "No",
          "No",
          "No",
          "No",
          "Yes",
          "Yes",
          "No",
          "Yes",
          "No",
          "Yes",
          "Yes",
          "No",
          "No",
          "Yes",
          "No",
          "No",
          "No",
          "No",
          "No",
          "No",
          "No",
          "No",
          "No",
          "No",
          "Yes",
          "No",
          "No",
          "No",
          "Yes",
          "No",
          "No",
          "Yes",
          "Yes",
          "No",
          "No",
          "No",
          "No",
          "No",
          "No",
          "No",
          "Yes",
          "No",
          "No",
          "Yes",
          "No",
          "No",
          "Yes",
          "Yes",
          "No",
          "No",
          "No",
          "No",
          "No",
          "No",
          "No",
          "No",
          "No",
          "No",
          "Yes",
          "No",
          "Yes",
          "No",
          "No",
          "No",
          "No",
          "Yes",
          "Yes",
          "No",
          "No",
          "No",
          "Yes",
          "No",
          "No",
          "No",
          "No",
          "No",
          "No",
          "No",
          "No",
          "No",
          "No",
          "No",
          "No",
          "No",
          "No",
          "Yes",
          "Yes",
          "No",
          "No",
          "No",
          "No",
          "No",
          "No",
          "No",
          "No",
          "No",
          "No",
          "No",
          "Yes",
          "No",
          "No",
          "Yes",
          "No",
          "Yes",
          "No",
          "No",
          "No",
          "No",
          "No",
          "No",
          "Yes",
          "No",
          "Yes",
          "Yes",
          "No",
          "No",
          "No",
          "No",
          "No",
          "Yes",
          "No",
          "No",
          "Yes",
          "No",
          "No",
          "No",
          "No",
          "No",
          "No",
          "No",
          "Yes",
          "No",
          "No",
          "No",
          "Yes",
          "Yes",
          "No",
          "No",
          "No",
          "No",
          "No",
          "Yes",
          "No",
          "No",
          "No",
          "Yes",
          "No",
          "No",
          "No",
          "No",
          "No",
          "No",
          "No",
          "No",
          "No",
          "No",
          "No",
          "No",
          "No",
          "Yes",
          "No",
          "Yes",
          "No",
          "Yes",
          "No",
          "Yes",
          "No",
          "Yes",
          "No",
          "No",
          "Yes",
          "No",
          "Yes",
          "No",
          "No",
          "Yes",
          "Yes",
          "No",
          "No",
          "Yes",
          "Yes",
          "Yes",
          "No",
          "Yes",
          "No",
          "Yes",
          "No",
          "No",
          "Yes",
          "No",
          "No",
          "No",
          "No",
          "Yes",
          "No",
          "No",
          "No",
          "Yes",
          "No",
          "Yes",
          "No",
          "No",
          "No",
          "No",
          "No",
          "Yes",
          "No",
          "No",
          "No",
          "No",
          "No",
          "No",
          "Yes",
          "No",
          "No",
          "No",
          "Yes",
          "No",
          "No",
          "Yes",
          "Yes",
          "No",
          "No",
          "No",
          "No",
          "No",
          "Yes",
          "No",
          "No",
          "No",
          "Yes",
          "No",
          "No",
          "No",
          "Yes",
          "Yes",
          "No",
          "Yes",
          "No",
          "No",
          "No",
          "Yes",
          "No",
          "No",
          "Yes",
          "No",
          "No",
          "No",
          "Yes",
          "Yes",
          "No",
          "No",
          "Yes",
          "Yes",
          "No",
          "Yes",
          "Yes",
          "No",
          "Yes",
          "No",
          "No",
          "Yes",
          "No",
          "Yes",
          "No",
          "Yes",
          "No",
          "No",
          "No",
          "No",
          "No",
          "No",
          "No",
          "Yes",
          "No",
          "Yes",
          "No",
          "No",
          "No",
          "No",
          "Yes",
          "Yes",
          "No",
          "No",
          "No",
          "No",
          "Yes",
          "No",
          "No",
          "No",
          "No",
          "No",
          "No",
          "No",
          "No",
          "No",
          "No",
          "No",
          "No",
          "No",
          "No",
          "No",
          "Yes",
          "No",
          "No",
          "No",
          "No",
          "No",
          "No",
          "No",
          "No",
          "Yes",
          "No",
          "No",
          "Yes",
          "No",
          "No",
          "No",
          "No",
          "No",
          "No",
          "No",
          "No",
          "No",
          "No",
          "No",
          "No",
          "Yes",
          "No",
          "No",
          "Yes",
          "No",
          "No",
          "No",
          "No",
          "No",
          "Yes",
          "No",
          "No",
          "No",
          "No",
          "Yes",
          "No",
          "No",
          "No",
          "No",
          "No",
          "No",
          "Yes",
          "Yes",
          "No",
          "No",
          "No",
          "No",
          "No",
          "Yes",
          "No",
          "Yes",
          "No",
          "Yes",
          "No",
          "No",
          "Yes",
          "No",
          "No",
          "No",
          "No",
          "No",
          "Yes",
          "No",
          "Yes",
          "No",
          "No",
          "No",
          "No",
          "No",
          "No",
          "Yes",
          "No",
          "No",
          "Yes",
          "Yes",
          "No",
          "No",
          "No",
          "No",
          "No",
          "No",
          "Yes",
          "No",
          "Yes",
          "No",
          "Yes",
          "No",
          "Yes",
          "Yes",
          "No",
          "No",
          "Yes",
          "Yes",
          "No",
          "Yes",
          "No",
          "No",
          "Yes",
          "No",
          "No",
          "No",
          "Yes",
          "No",
          "No",
          "No",
          "No",
          "No",
          "No",
          "Yes",
          "No",
          "No",
          "No",
          "No",
          "Yes",
          "No",
          "No",
          "Yes",
          "No",
          "No",
          "No",
          "No",
          "No",
          "No",
          "No",
          "No",
          "No",
          "No",
          "No",
          "No",
          "Yes",
          "No",
          "Yes",
          "No",
          "Yes",
          "No",
          "Yes",
          "No",
          "No",
          "No",
          "No",
          "No",
          "No",
          "No",
          "No",
          "Yes",
          "No",
          "No",
          "No",
          "Yes",
          "No",
          "Yes",
          "No",
          "No",
          "No",
          "No",
          "No",
          "Yes",
          "No",
          "No",
          "Yes",
          "No",
          "Yes",
          "No",
          "Yes",
          "No",
          "No",
          "No",
          "Yes",
          "No",
          "Yes",
          "No",
          "No",
          "No",
          "No",
          "Yes",
          "No",
          "No",
          "No",
          "No",
          "No",
          "No",
          "Yes",
          "No",
          "Yes",
          "No",
          "Yes",
          "No",
          "No",
          "No",
          "No",
          "No",
          "No",
          "No",
          "No",
          "No",
          "Yes",
          "No",
          "No",
          "No",
          "Yes",
          "No",
          "No",
          "Yes",
          "No",
          "No",
          "Yes",
          "No",
          "No",
          "No",
          "No",
          "Yes",
          "No",
          "No",
          "No",
          "No",
          "No",
          "No",
          "No",
          "No",
          "No",
          "Yes",
          "Yes",
          "Yes",
          "No",
          "Yes",
          "Yes",
          "No",
          "No",
          "No",
          "Yes",
          "No",
          "No",
          "No",
          "Yes",
          "No",
          "No",
          "Yes",
          "Yes",
          "No",
          "No",
          "No",
          "No",
          "No",
          "No",
          "No",
          "No",
          "No",
          "Yes",
          "No",
          "Yes",
          "No",
          "No",
          "Yes",
          "No",
          "No",
          "No",
          "No",
          "Yes",
          "Yes",
          "No",
          "No",
          "Yes",
          "No",
          "No",
          "No",
          "No",
          "Yes",
          "No",
          "No",
          "No",
          "No",
          "No",
          "Yes",
          "No",
          "No",
          "No",
          "No",
          "No",
          "Yes",
          "No",
          "No",
          "No",
          "No",
          "No",
          "Yes",
          "Yes",
          "Yes",
          "No",
          "No",
          "No",
          "No",
          "No",
          "No",
          "Yes",
          "No",
          "No",
          "No",
          "No",
          "No",
          "No",
          "No",
          "No",
          "No",
          "Yes",
          "No",
          "No",
          "No",
          "No",
          "Yes",
          "Yes",
          "Yes",
          "Yes",
          "No",
          "Yes",
          "No",
          "No",
          "No",
          "No",
          "Yes",
          "No",
          "Yes",
          "No",
          "Yes",
          "No",
          "No",
          "No",
          "No",
          "No",
          "No",
          "No",
          "No",
          "No",
          "No",
          "No",
          "Yes",
          "No",
          "No",
          "No",
          "Yes",
          "No",
          "No",
          "No",
          "No",
          "No",
          "No",
          "No",
          "No",
          "No",
          "Yes",
          "No",
          "No",
          "Yes",
          "Yes",
          "No",
          "No",
          "No",
          "Yes",
          "Yes",
          "No",
          "Yes",
          "Yes",
          "No",
          "No",
          "No",
          "Yes",
          "Yes",
          "Yes",
          "No",
          "No",
          "Yes",
          "Yes",
          "No",
          "No",
          "No",
          "Yes",
          "Yes",
          "No",
          "Yes",
          "No",
          "No",
          "No",
          "No",
          "No",
          "No",
          "Yes",
          "No",
          "No",
          "No",
          "Yes",
          "No",
          "No",
          "Yes",
          "Yes",
          "Yes",
          "No",
          "No",
          "No",
          "No",
          "No",
          "No",
          "No",
          "Yes",
          "No",
          "No",
          "Yes",
          "Yes",
          "No",
          "Yes",
          "No",
          "No",
          "No",
          "Yes",
          "No",
          "Yes",
          "No",
          "Yes",
          "Yes",
          "No",
          "No",
          "No",
          "No",
          "No",
          "No",
          "No",
          "No",
          "No",
          "Yes",
          "No",
          "No",
          "No",
          "No",
          "No",
          "No",
          "Yes",
          "No",
          "No",
          "No",
          "Yes",
          "No",
          "No",
          "Yes",
          "No",
          "No",
          "No",
          "No",
          "No",
          "Yes",
          "Yes",
          "No",
          "Yes",
          "No",
          "No",
          "No",
          "Yes",
          "No",
          "No",
          "No",
          "No",
          "No",
          "Yes",
          "Yes",
          "No",
          "No",
          "No",
          "No",
          "No",
          "No",
          "No",
          "No",
          "Yes",
          "No",
          "No",
          "Yes",
          "Yes",
          "Yes",
          "No",
          "No",
          "No",
          "No",
          "Yes",
          "Yes",
          "No",
          "No",
          "No",
          "No",
          "No",
          "Yes",
          "No",
          "No",
          "No",
          "No",
          "No",
          "No",
          "No",
          "No",
          "No",
          "Yes",
          "No",
          "No",
          "No",
          "Yes",
          "Yes",
          "No",
          "No",
          "No",
          "No",
          "No",
          "No",
          "Yes",
          "Yes",
          "Yes",
          "No",
          "No",
          "No",
          "No",
          "Yes",
          "No",
          "No",
          "No",
          "No",
          "No",
          "Yes",
          "Yes",
          "No",
          "No",
          "No",
          "Yes",
          "No",
          "No",
          "No",
          "Yes",
          "No",
          "No",
          "Yes",
          "No",
          "Yes",
          "No",
          "Yes",
          "No",
          "No",
          "Yes",
          "Yes",
          "No",
          "Yes",
          "Yes",
          "No",
          "No",
          "No",
          "No",
          "No",
          "No",
          "No",
          "No",
          "No",
          "No",
          "No",
          "No",
          "No",
          "No",
          "No",
          "No",
          "No",
          "No",
          "No",
          "Yes",
          "No",
          "No",
          "No",
          "No",
          "No",
          "No",
          "No",
          "No",
          "No",
          "No",
          "Yes",
          "No",
          "No",
          "Yes",
          "No",
          "No",
          "No",
          "No",
          "No",
          "Yes",
          "No",
          "No",
          "Yes",
          "No",
          "Yes",
          "No",
          "No",
          "No",
          "Yes",
          "No",
          "No",
          "Yes",
          "No",
          "No",
          "No",
          "No",
          "No",
          "No",
          "No",
          "Yes",
          "No",
          "No",
          "No",
          "Yes",
          "No",
          "No",
          "No",
          "No",
          "No",
          "No",
          "No",
          "No",
          "Yes",
          "No",
          "No",
          "Yes",
          "Yes",
          "No",
          "No",
          "Yes",
          "Yes",
          "Yes",
          "No",
          "No",
          "No",
          "No",
          "No",
          "No",
          "No",
          "No",
          "No",
          "No",
          "No",
          "No",
          "Yes",
          "No",
          "Yes",
          "No",
          "Yes",
          "No",
          "No",
          "No",
          "No",
          "No",
          "No",
          "No",
          "No",
          "Yes",
          "No",
          "No",
          "No",
          "Yes",
          "Yes",
          "No",
          "No",
          "No",
          "Yes",
          "No",
          "No",
          "No",
          "No",
          "Yes",
          "Yes",
          "Yes",
          "No",
          "No",
          "No",
          "No",
          "No",
          "No",
          "No",
          "No",
          "No",
          "No",
          "No",
          "Yes",
          "No",
          "Yes",
          "No",
          "No",
          "Yes",
          "No",
          "Yes",
          "No",
          "No",
          "No",
          "No",
          "Yes",
          "No",
          "Yes",
          "No",
          "Yes",
          "No",
          "Yes",
          "No",
          "No",
          "No",
          "No",
          "No",
          "No",
          "No",
          "No",
          "No",
          "No",
          "Yes",
          "Yes",
          "Yes",
          "No",
          "No",
          "No",
          "No",
          "Yes",
          "No",
          "No",
          "No",
          "No",
          "Yes",
          "Yes",
          "No",
          "No",
          "Yes",
          "No",
          "Yes",
          "No",
          "No",
          "No",
          "No",
          "No",
          "No",
          "No",
          "No",
          "Yes",
          "No",
          "No",
          "Yes",
          "Yes",
          "No",
          "No",
          "Yes",
          "Yes",
          "No",
          "No",
          "No",
          "No",
          "No",
          "No",
          "Yes",
          "Yes",
          "No",
          "No",
          "Yes",
          "No",
          "No",
          "No",
          "No",
          "No",
          "Yes",
          "No",
          "No",
          "No",
          "No",
          "No",
          "No",
          "No",
          "Yes",
          "Yes",
          "No",
          "No",
          "No",
          "Yes",
          "No",
          "No",
          "No",
          "Yes",
          "No",
          "No",
          "Yes",
          "No",
          "No",
          "Yes",
          "Yes",
          "No",
          "No",
          "No",
          "No",
          "Yes",
          "Yes",
          "No",
          "Yes",
          "No",
          "Yes",
          "No",
          "No",
          "Yes",
          "No",
          "Yes",
          "No",
          "No",
          "Yes",
          "No",
          "Yes",
          "No",
          "Yes",
          "No",
          "No",
          "No",
          "No",
          "No",
          "No",
          "No",
          "No",
          "No",
          "No",
          "No",
          "Yes",
          "No",
          "Yes",
          "No",
          "No",
          "Yes",
          "No",
          "No",
          "No",
          "No",
          "No",
          "No",
          "No",
          "No",
          "Yes",
          "No",
          "No",
          "No",
          "No",
          "Yes",
          "No",
          "Yes",
          "No",
          "Yes",
          "No",
          "No",
          "No",
          "No",
          "Yes",
          "Yes",
          "Yes",
          "No",
          "Yes",
          "No",
          "No",
          "No",
          "No",
          "Yes",
          "No",
          "No",
          "No",
          "Yes",
          "No",
          "No",
          "No",
          "Yes",
          "No",
          "Yes",
          "No",
          "Yes",
          "No",
          "No",
          "No",
          "No",
          "Yes",
          "No",
          "No",
          "No",
          "No",
          "Yes",
          "No",
          "No",
          "No",
          "No",
          "No",
          "No",
          "Yes",
          "Yes",
          "No",
          "No",
          "No",
          "No",
          "Yes",
          "Yes",
          "Yes",
          "No",
          "No",
          "No",
          "No",
          "No",
          "No",
          "No",
          "No",
          "No",
          "Yes",
          "Yes",
          "Yes",
          "No",
          "Yes",
          "Yes",
          "Yes",
          "No",
          "No",
          "Yes",
          "No",
          "Yes",
          "No",
          "No",
          "No",
          "No",
          "Yes",
          "No",
          "No",
          "No",
          "No",
          "No",
          "No",
          "Yes",
          "No",
          "Yes",
          "No",
          "No",
          "No",
          "Yes",
          "No",
          "No",
          "No",
          "No",
          "No",
          "No",
          "No",
          "No",
          "No",
          "No",
          "No",
          "No",
          "No",
          "Yes",
          "No",
          "Yes",
          "No",
          "Yes",
          "Yes",
          "No",
          "No",
          "Yes",
          "No",
          "No",
          "Yes",
          "No",
          "Yes",
          "No",
          "No",
          "No",
          "Yes",
          "No",
          "No",
          "Yes",
          "No",
          "No",
          "No",
          "No",
          "No",
          "No",
          "No",
          "No",
          "Yes",
          "No",
          "No",
          "No",
          "Yes",
          "No",
          "No",
          "No",
          "Yes",
          "No",
          "No",
          "Yes",
          "No",
          "No",
          "Yes",
          "No",
          "Yes",
          "No",
          "Yes",
          "Yes",
          "Yes",
          "No",
          "No",
          "Yes",
          "Yes",
          "No",
          "Yes",
          "No",
          "No",
          "No",
          "No",
          "No",
          "Yes",
          "No",
          "Yes",
          "Yes",
          "No",
          "No",
          "Yes",
          "No",
          "No",
          "No",
          "Yes",
          "No",
          "Yes",
          "Yes",
          "No",
          "No",
          "No",
          "No",
          "Yes",
          "No",
          "No",
          "No",
          "No",
          "No",
          "Yes",
          "Yes",
          "No",
          "No",
          "No",
          "No",
          "No",
          "Yes",
          "Yes",
          "Yes",
          "No",
          "No",
          "No",
          "Yes",
          "No",
          "Yes",
          "No",
          "Yes",
          "No",
          "Yes",
          "No",
          "No",
          "Yes",
          "Yes",
          "No",
          "Yes",
          "No",
          "No",
          "No",
          "No",
          "Yes",
          "No",
          "Yes",
          "No",
          "No",
          "No",
          "No",
          "No",
          "No",
          "No",
          "No",
          "Yes",
          "No",
          "Yes",
          "No",
          "No",
          "No",
          "No",
          "No",
          "Yes",
          "No",
          "No",
          "No",
          "No",
          "No",
          "No",
          "No",
          "Yes",
          "Yes",
          "Yes",
          "No",
          "No",
          "Yes",
          "Yes",
          "No",
          "Yes",
          "No",
          "No",
          "No",
          "No",
          "No",
          "No",
          "No",
          "No",
          "No",
          "Yes",
          "Yes",
          "Yes",
          "No",
          "No",
          "No",
          "Yes",
          "No",
          "No",
          "No",
          "Yes",
          "No",
          "No",
          "No",
          "No",
          "Yes",
          "No",
          "No",
          "Yes",
          "Yes",
          "No",
          "No",
          "Yes",
          "No",
          "No",
          "No",
          "Yes",
          "No",
          "Yes",
          "No",
          "No",
          "No",
          "Yes",
          "No",
          "No",
          "No",
          "No",
          "No",
          "No",
          "No",
          "No",
          "No",
          "Yes",
          "No",
          "No",
          "Yes",
          "No",
          "No",
          "No",
          "No",
          "Yes",
          "No",
          "No",
          "No",
          "Yes",
          "No",
          "No",
          "No",
          "No",
          "No",
          "No",
          "No",
          "No",
          "Yes",
          "No",
          "No",
          "No",
          "No",
          "No",
          "Yes",
          "No",
          "No",
          "No",
          "No",
          "No",
          "No",
          "No",
          "No",
          "No",
          "No",
          "No",
          "No",
          "No",
          "Yes",
          "No",
          "No",
          "Yes",
          "Yes",
          "No",
          "No",
          "No",
          "Yes",
          "No",
          "No",
          "No",
          "No",
          "Yes",
          "No",
          "No",
          "No",
          "No",
          "No",
          "Yes",
          "Yes",
          "No",
          "No",
          "No",
          "Yes",
          "No",
          "No",
          "Yes",
          "No",
          "No",
          "No",
          "Yes",
          "No",
          "Yes",
          "No",
          "No",
          "Yes",
          "No",
          "Yes",
          "No",
          "No",
          "No",
          "No",
          "No",
          "No",
          "No",
          "Yes",
          "Yes",
          "No",
          "No",
          "No",
          "No",
          "Yes",
          "Yes",
          "No",
          "No",
          "No",
          "No",
          "No",
          "No",
          "No",
          "No",
          "Yes",
          "No",
          "No",
          "No",
          "Yes",
          "No",
          "No",
          "No",
          "No",
          "Yes",
          "No",
          "Yes",
          "No",
          "No",
          "No",
          "No",
          "Yes",
          "No",
          "No",
          "Yes",
          "No",
          "No",
          "Yes",
          "No",
          "No",
          "No",
          "No",
          "No",
          "No",
          "Yes",
          "Yes",
          "Yes",
          "No",
          "Yes",
          "No",
          "Yes",
          "Yes",
          "No",
          "No",
          "Yes",
          "No",
          "No",
          "No",
          "Yes",
          "No",
          "No",
          "No",
          "Yes",
          "No",
          "No",
          "Yes",
          "No",
          "No",
          "Yes",
          "No",
          "No",
          "No",
          "No",
          "No",
          "Yes",
          "Yes",
          "No",
          "No",
          "No",
          "No",
          "Yes",
          "No",
          "Yes",
          "No",
          "No",
          "No",
          "Yes",
          "No",
          "No",
          "No",
          "No",
          "No",
          "No",
          "No",
          "No",
          "No",
          "No",
          "No",
          "No",
          "No",
          "No",
          "No",
          "No",
          "No",
          "No",
          "Yes",
          "Yes",
          "Yes",
          "Yes",
          "No",
          "No",
          "Yes",
          "No",
          "No",
          "No",
          "No",
          "Yes",
          "Yes",
          "Yes",
          "No",
          "Yes",
          "Yes",
          "No",
          "No",
          "No",
          "No",
          "No",
          "No",
          "No",
          "No",
          "Yes",
          "Yes",
          "No",
          "No",
          "No",
          "No",
          "No",
          "No",
          "No",
          "No",
          "Yes",
          "Yes",
          "Yes",
          "No",
          "No",
          "No",
          "Yes",
          "No",
          "No",
          "Yes",
          "No",
          "No",
          "No",
          "No",
          "No",
          "No",
          "No",
          "No",
          "Yes",
          "No",
          "No",
          "No",
          "No",
          "Yes",
          "No",
          "Yes",
          "Yes",
          "No",
          "Yes",
          "No",
          "No",
          "No",
          "No",
          "No",
          "No",
          "No",
          "Yes",
          "No",
          "No",
          "No",
          "No",
          "No",
          "No",
          "Yes",
          "No",
          "No",
          "Yes",
          "No",
          "No",
          "No",
          "Yes",
          "No",
          "No",
          "No",
          "No",
          "No",
          "No",
          "No",
          "Yes",
          "No",
          "No",
          "No",
          "Yes",
          "No",
          "Yes",
          "No",
          "Yes",
          "Yes",
          "No",
          "Yes",
          "No",
          "No",
          "Yes",
          "Yes",
          "Yes",
          "No",
          "No",
          "Yes",
          "No",
          "No",
          "No",
          "No",
          "Yes",
          "No",
          "No",
          "No",
          "No",
          "No",
          "Yes",
          "No",
          "No",
          "No",
          "No",
          "No",
          "No",
          "No",
          "No",
          "No",
          "Yes",
          "No",
          "Yes",
          "No",
          "Yes",
          "No",
          "No",
          "No",
          "No",
          "No",
          "Yes",
          "No",
          "No",
          "No",
          "No",
          "No",
          "Yes",
          "No",
          "Yes",
          "No",
          "No",
          "Yes",
          "No",
          "No",
          "Yes",
          "Yes",
          "No",
          "Yes",
          "No",
          "No",
          "No",
          "No",
          "No",
          "No",
          "No",
          "No",
          "Yes",
          "No",
          "No",
          "No",
          "No",
          "Yes",
          "Yes",
          "No",
          "No",
          "No",
          "No",
          "No",
          "No",
          "No",
          "No",
          "No",
          "No",
          "No",
          "No",
          "No",
          "No",
          "No",
          "No",
          "No",
          "No",
          "Yes",
          "Yes",
          "No",
          "No",
          "No",
          "No",
          "Yes",
          "No",
          "No",
          "No",
          "No",
          "No",
          "Yes",
          "No",
          "No",
          "No",
          "Yes",
          "Yes",
          "No",
          "No",
          "No",
          "Yes",
          "No",
          "No",
          "No",
          "No",
          "Yes",
          "Yes",
          "No",
          "No",
          "Yes",
          "No",
          "Yes",
          "No",
          "No",
          "No",
          "No",
          "No",
          "No",
          "No",
          "No",
          "Yes",
          "No",
          "Yes",
          "Yes",
          "No",
          "No",
          "Yes",
          "No",
          "Yes",
          "No",
          "Yes",
          "Yes",
          "No",
          "Yes",
          "No",
          "No",
          "No",
          "No",
          "No",
          "No",
          "Yes",
          "No",
          "No",
          "No",
          "Yes",
          "No",
          "No",
          "No",
          "No",
          "Yes",
          "No",
          "Yes",
          "No",
          "Yes",
          "No",
          "No",
          "Yes",
          "No",
          "No",
          "Yes",
          "No",
          "Yes",
          "No",
          "No",
          "No",
          "Yes",
          "No",
          "No",
          "No",
          "Yes",
          "No",
          "No",
          "No",
          "Yes",
          "No",
          "No",
          "No",
          "Yes",
          "No",
          "No",
          "No",
          "Yes",
          "No",
          "No",
          "No",
          "Yes",
          "Yes",
          "No",
          "No",
          "Yes",
          "No",
          "Yes",
          "No",
          "No",
          "Yes",
          "Yes",
          "No",
          "No",
          "No",
          "No",
          "No",
          "No",
          "No",
          "No",
          "No",
          "No",
          "No",
          "No",
          "No",
          "No",
          "Yes",
          "Yes",
          "No",
          "No",
          "No",
          "No",
          "No",
          "No",
          "No",
          "No",
          "Yes",
          "Yes",
          "No",
          "No",
          "No",
          "No",
          "No",
          "Yes",
          "No",
          "No",
          "No",
          "Yes",
          "No",
          "No",
          "No",
          "No",
          "No",
          "Yes",
          "No",
          "No",
          "No",
          "Yes",
          "No",
          "Yes",
          "Yes",
          "No",
          "No",
          "No",
          "Yes",
          "No",
          "No",
          "No",
          "No",
          "No",
          "No",
          "No",
          "Yes",
          "No",
          "Yes",
          "Yes",
          "No",
          "No",
          "No",
          "No",
          "No",
          "No",
          "Yes",
          "Yes",
          "No",
          "No",
          "No",
          "Yes",
          "No",
          "No",
          "No",
          "Yes",
          "Yes",
          "No",
          "No",
          "Yes",
          "No",
          "No",
          "No",
          "No",
          "No",
          "No",
          "No",
          "Yes",
          "No",
          "No",
          "No",
          "No",
          "No",
          "Yes",
          "No",
          "Yes",
          "No",
          "No",
          "Yes",
          "No",
          "Yes",
          "No",
          "No",
          "No",
          "No",
          "Yes",
          "No",
          "No",
          "No",
          "No",
          "No",
          "Yes",
          "No",
          "No",
          "Yes",
          "No",
          "No",
          "No",
          "No",
          "Yes",
          "No",
          "No",
          "Yes",
          "No",
          "Yes",
          "No",
          "No",
          "No",
          "No",
          "Yes",
          "No",
          "Yes",
          "Yes",
          "Yes",
          "No",
          "No",
          "No",
          "No",
          "No",
          "Yes",
          "No",
          "No",
          "Yes",
          "No",
          "No",
          "No",
          "No",
          "No",
          "No",
          "Yes",
          "No",
          "No",
          "Yes",
          "No",
          "No",
          "Yes",
          "No",
          "No",
          "No",
          "No",
          "No",
          "No",
          "Yes",
          "No",
          "No",
          "No",
          "No",
          "Yes",
          "No",
          "No",
          "No",
          "Yes",
          "No",
          "No",
          "No",
          "No",
          "No",
          "No",
          "Yes",
          "No",
          "No",
          "No",
          "Yes",
          "No",
          "No",
          "No",
          "No",
          "No",
          "Yes",
          "No",
          "No",
          "No",
          "Yes",
          "No",
          "No",
          "No",
          "No",
          "No",
          "Yes",
          "No",
          "No",
          "No",
          "Yes",
          "No",
          "No",
          "No",
          "No",
          "Yes",
          "No",
          "No",
          "No",
          "No",
          "No",
          "No",
          "Yes",
          "No",
          "Yes",
          "No",
          "No",
          "No",
          "No",
          "No",
          "No",
          "No",
          "No",
          "No",
          "No",
          "Yes",
          "No",
          "No",
          "No",
          "No",
          "No",
          "Yes",
          "No",
          "No",
          "Yes",
          "No",
          "No",
          "No",
          "Yes",
          "No",
          "Yes",
          "Yes",
          "No",
          "Yes",
          "No",
          "No",
          "No",
          "Yes",
          "Yes",
          "No",
          "Yes",
          "No",
          "No",
          "No",
          "No",
          "No",
          "Yes",
          "No",
          "Yes",
          "Yes",
          "Yes",
          "Yes",
          "No",
          "No",
          "No",
          "No",
          "No",
          "Yes",
          "Yes",
          "No",
          "Yes",
          "No",
          "Yes",
          "No",
          "No",
          "No",
          "Yes",
          "No",
          "Yes",
          "Yes",
          "No",
          "Yes",
          "No",
          "No",
          "No",
          "No",
          "No",
          "Yes",
          "No",
          "Yes",
          "Yes",
          "No",
          "No",
          "No",
          "Yes",
          "No",
          "Yes",
          "Yes",
          "No",
          "No",
          "No",
          "Yes",
          "Yes",
          "No",
          "Yes",
          "No",
          "Yes",
          "No",
          "No",
          "No",
          "Yes",
          "No",
          "No",
          "No",
          "Yes",
          "Yes",
          "No",
          "No",
          "No",
          "No",
          "No",
          "No",
          "No",
          "No",
          "No",
          "No",
          "No",
          "No",
          "No",
          "No",
          "No",
          "No",
          "No",
          "No",
          "No",
          "No",
          "No",
          "No",
          "No",
          "No",
          "No",
          "No",
          "Yes",
          "Yes",
          "No",
          "Yes",
          "No",
          "No",
          "No",
          "Yes",
          "No",
          "Yes",
          "Yes",
          "No",
          "No",
          "No",
          "No",
          "Yes",
          "Yes",
          "Yes",
          "Yes",
          "Yes",
          "No",
          "No",
          "Yes",
          "No",
          "No",
          "No",
          "Yes",
          "No",
          "No",
          "No",
          "Yes",
          "No",
          "Yes",
          "Yes",
          "No",
          "Yes",
          "Yes",
          "No",
          "No",
          "No",
          "No",
          "No",
          "Yes",
          "Yes",
          "Yes",
          "No",
          "No",
          "No",
          "No",
          "No",
          "No",
          "Yes",
          "No",
          "No",
          "No",
          "No",
          "No",
          "No",
          "No",
          "No",
          "No",
          "No",
          "No",
          "No",
          "Yes",
          "No",
          "No",
          "No",
          "Yes",
          "No",
          "Yes",
          "No",
          "No",
          "No",
          "No",
          "No",
          "No",
          "Yes",
          "No",
          "No",
          "No",
          "No",
          "No",
          "No",
          "No",
          "No",
          "No",
          "No",
          "No",
          "No",
          "Yes",
          "Yes",
          "No",
          "No",
          "No",
          "No",
          "No",
          "Yes",
          "No",
          "No",
          "No",
          "No",
          "No",
          "No",
          "No",
          "No",
          "No",
          "No",
          "No",
          "No",
          "No",
          "No",
          "No",
          "Yes",
          "No",
          "No",
          "No",
          "No",
          "Yes",
          "No",
          "No",
          "No",
          "No",
          "No",
          "No",
          "No",
          "Yes",
          "Yes",
          "Yes",
          "No",
          "No",
          "No",
          "No",
          "No",
          "Yes",
          "No",
          "Yes",
          "No",
          "No",
          "No",
          "No",
          "No",
          "No",
          "No",
          "Yes",
          "No",
          "No",
          "No",
          "No",
          "No",
          "Yes",
          "Yes",
          "No",
          "No",
          "No",
          "Yes",
          "Yes",
          "No",
          "Yes",
          "No",
          "No",
          "No",
          "No",
          "No",
          "No",
          "No",
          "No",
          "Yes",
          "No",
          "No",
          "Yes",
          "No",
          "Yes",
          "No",
          "Yes",
          "No",
          "No",
          "No",
          "No",
          "No",
          "No",
          "No",
          "Yes",
          "Yes",
          "No",
          "No",
          "No",
          "No",
          "No",
          "No",
          "No",
          "Yes",
          "No",
          "No",
          "No",
          "Yes",
          "Yes",
          "No",
          "No",
          "Yes",
          "No",
          "Yes",
          "Yes",
          "No",
          "No",
          "No",
          "Yes",
          "No",
          "No",
          "No",
          "Yes",
          "No",
          "No",
          "No",
          "No",
          "No",
          "No",
          "No",
          "No",
          "Yes",
          "Yes",
          "Yes",
          "No",
          "Yes",
          "No",
          "No",
          "Yes",
          "No",
          "No",
          "Yes",
          "No",
          "Yes",
          "Yes",
          "No",
          "Yes",
          "No",
          "No",
          "No",
          "No",
          "No",
          "No",
          "Yes",
          "No",
          "No",
          "No",
          "No",
          "Yes",
          "No",
          "Yes",
          "Yes",
          "No",
          "No",
          "No",
          "Yes",
          "No",
          "No",
          "Yes",
          "No",
          "No",
          "No",
          "No",
          "No",
          "No",
          "Yes",
          "No",
          "No",
          "No",
          "No",
          "Yes",
          "No",
          "Yes",
          "Yes",
          "Yes",
          "No",
          "Yes",
          "No",
          "Yes",
          "No",
          "Yes",
          "Yes",
          "No",
          "No",
          "No",
          "No",
          "No",
          "No",
          "No",
          "Yes",
          "Yes",
          "No",
          "No",
          "No",
          "No",
          "No",
          "Yes",
          "Yes",
          "Yes",
          "No",
          "No",
          "No",
          "No",
          "No",
          "No",
          "Yes",
          "Yes",
          "No",
          "Yes",
          "No",
          "No",
          "Yes",
          "No",
          "No",
          "No",
          "No",
          "No",
          "No",
          "No",
          "Yes",
          "Yes",
          "No",
          "No",
          "No",
          "No",
          "No",
          "Yes",
          "No",
          "No",
          "No",
          "Yes",
          "No",
          "No",
          "No",
          "No",
          "No",
          "Yes",
          "No",
          "Yes",
          "No",
          "No",
          "No",
          "Yes",
          "No",
          "No",
          "Yes",
          "No",
          "No",
          "Yes",
          "No",
          "No",
          "No",
          "No",
          "No",
          "No",
          "Yes",
          "No",
          "Yes",
          "No",
          "No",
          "No",
          "No",
          "No",
          "No",
          "Yes",
          "Yes",
          "No",
          "No",
          "No",
          "No",
          "No",
          "No",
          "No",
          "Yes",
          "Yes",
          "No",
          "No",
          "No",
          "No",
          "Yes",
          "Yes",
          "Yes",
          "Yes",
          "Yes",
          "Yes",
          "No",
          "No",
          "No",
          "No",
          "No",
          "No",
          "No",
          "Yes",
          "No",
          "No",
          "No",
          "No",
          "No",
          "Yes",
          "No",
          "No",
          "No",
          "No",
          "Yes",
          "No",
          "Yes",
          "No",
          "No",
          "Yes",
          "No",
          "No",
          "Yes",
          "No",
          "Yes",
          "No",
          "No",
          "No",
          "No",
          "Yes",
          "No",
          "Yes",
          "Yes",
          "Yes",
          "Yes",
          "No",
          "No",
          "No",
          "No",
          "No",
          "No",
          "Yes",
          "No",
          "No",
          "Yes",
          "No",
          "No",
          "No",
          "No",
          "Yes",
          "No",
          "No",
          "No",
          "No",
          "No",
          "Yes",
          "No",
          "Yes",
          "No",
          "No",
          "No",
          "No",
          "No",
          "No",
          "Yes",
          "No"
         ],
         "x0": " ",
         "xaxis": "x",
         "y": {
          "bdata": "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",
          "dtype": "f8"
         },
         "y0": " ",
         "yaxis": "y"
        }
       ],
       "layout": {
        "boxmode": "group",
        "height": 400,
        "legend": {
         "tracegroupgap": 0
        },
        "template": {
         "data": {
          "bar": [
           {
            "error_x": {
             "color": "#2a3f5f"
            },
            "error_y": {
             "color": "#2a3f5f"
            },
            "marker": {
             "line": {
              "color": "#E5ECF6",
              "width": 0.5
             },
             "pattern": {
              "fillmode": "overlay",
              "size": 10,
              "solidity": 0.2
             }
            },
            "type": "bar"
           }
          ],
          "barpolar": [
           {
            "marker": {
             "line": {
              "color": "#E5ECF6",
              "width": 0.5
             },
             "pattern": {
              "fillmode": "overlay",
              "size": 10,
              "solidity": 0.2
             }
            },
            "type": "barpolar"
           }
          ],
          "carpet": [
           {
            "aaxis": {
             "endlinecolor": "#2a3f5f",
             "gridcolor": "white",
             "linecolor": "white",
             "minorgridcolor": "white",
             "startlinecolor": "#2a3f5f"
            },
            "baxis": {
             "endlinecolor": "#2a3f5f",
             "gridcolor": "white",
             "linecolor": "white",
             "minorgridcolor": "white",
             "startlinecolor": "#2a3f5f"
            },
            "type": "carpet"
           }
          ],
          "choropleth": [
           {
            "colorbar": {
             "outlinewidth": 0,
             "ticks": ""
            },
            "type": "choropleth"
           }
          ],
          "contour": [
           {
            "colorbar": {
             "outlinewidth": 0,
             "ticks": ""
            },
            "colorscale": [
             [
              0,
              "#0d0887"
             ],
             [
              0.1111111111111111,
              "#46039f"
             ],
             [
              0.2222222222222222,
              "#7201a8"
             ],
             [
              0.3333333333333333,
              "#9c179e"
             ],
             [
              0.4444444444444444,
              "#bd3786"
             ],
             [
              0.5555555555555556,
              "#d8576b"
             ],
             [
              0.6666666666666666,
              "#ed7953"
             ],
             [
              0.7777777777777778,
              "#fb9f3a"
             ],
             [
              0.8888888888888888,
              "#fdca26"
             ],
             [
              1,
              "#f0f921"
             ]
            ],
            "type": "contour"
           }
          ],
          "contourcarpet": [
           {
            "colorbar": {
             "outlinewidth": 0,
             "ticks": ""
            },
            "type": "contourcarpet"
           }
          ],
          "heatmap": [
           {
            "colorbar": {
             "outlinewidth": 0,
             "ticks": ""
            },
            "colorscale": [
             [
              0,
              "#0d0887"
             ],
             [
              0.1111111111111111,
              "#46039f"
             ],
             [
              0.2222222222222222,
              "#7201a8"
             ],
             [
              0.3333333333333333,
              "#9c179e"
             ],
             [
              0.4444444444444444,
              "#bd3786"
             ],
             [
              0.5555555555555556,
              "#d8576b"
             ],
             [
              0.6666666666666666,
              "#ed7953"
             ],
             [
              0.7777777777777778,
              "#fb9f3a"
             ],
             [
              0.8888888888888888,
              "#fdca26"
             ],
             [
              1,
              "#f0f921"
             ]
            ],
            "type": "heatmap"
           }
          ],
          "histogram": [
           {
            "marker": {
             "pattern": {
              "fillmode": "overlay",
              "size": 10,
              "solidity": 0.2
             }
            },
            "type": "histogram"
           }
          ],
          "histogram2d": [
           {
            "colorbar": {
             "outlinewidth": 0,
             "ticks": ""
            },
            "colorscale": [
             [
              0,
              "#0d0887"
             ],
             [
              0.1111111111111111,
              "#46039f"
             ],
             [
              0.2222222222222222,
              "#7201a8"
             ],
             [
              0.3333333333333333,
              "#9c179e"
             ],
             [
              0.4444444444444444,
              "#bd3786"
             ],
             [
              0.5555555555555556,
              "#d8576b"
             ],
             [
              0.6666666666666666,
              "#ed7953"
             ],
             [
              0.7777777777777778,
              "#fb9f3a"
             ],
             [
              0.8888888888888888,
              "#fdca26"
             ],
             [
              1,
              "#f0f921"
             ]
            ],
            "type": "histogram2d"
           }
          ],
          "histogram2dcontour": [
           {
            "colorbar": {
             "outlinewidth": 0,
             "ticks": ""
            },
            "colorscale": [
             [
              0,
              "#0d0887"
             ],
             [
              0.1111111111111111,
              "#46039f"
             ],
             [
              0.2222222222222222,
              "#7201a8"
             ],
             [
              0.3333333333333333,
              "#9c179e"
             ],
             [
              0.4444444444444444,
              "#bd3786"
             ],
             [
              0.5555555555555556,
              "#d8576b"
             ],
             [
              0.6666666666666666,
              "#ed7953"
             ],
             [
              0.7777777777777778,
              "#fb9f3a"
             ],
             [
              0.8888888888888888,
              "#fdca26"
             ],
             [
              1,
              "#f0f921"
             ]
            ],
            "type": "histogram2dcontour"
           }
          ],
          "mesh3d": [
           {
            "colorbar": {
             "outlinewidth": 0,
             "ticks": ""
            },
            "type": "mesh3d"
           }
          ],
          "parcoords": [
           {
            "line": {
             "colorbar": {
              "outlinewidth": 0,
              "ticks": ""
             }
            },
            "type": "parcoords"
           }
          ],
          "pie": [
           {
            "automargin": true,
            "type": "pie"
           }
          ],
          "scatter": [
           {
            "fillpattern": {
             "fillmode": "overlay",
             "size": 10,
             "solidity": 0.2
            },
            "type": "scatter"
           }
          ],
          "scatter3d": [
           {
            "line": {
             "colorbar": {
              "outlinewidth": 0,
              "ticks": ""
             }
            },
            "marker": {
             "colorbar": {
              "outlinewidth": 0,
              "ticks": ""
             }
            },
            "type": "scatter3d"
           }
          ],
          "scattercarpet": [
           {
            "marker": {
             "colorbar": {
              "outlinewidth": 0,
              "ticks": ""
             }
            },
            "type": "scattercarpet"
           }
          ],
          "scattergeo": [
           {
            "marker": {
             "colorbar": {
              "outlinewidth": 0,
              "ticks": ""
             }
            },
            "type": "scattergeo"
           }
          ],
          "scattergl": [
           {
            "marker": {
             "colorbar": {
              "outlinewidth": 0,
              "ticks": ""
             }
            },
            "type": "scattergl"
           }
          ],
          "scattermap": [
           {
            "marker": {
             "colorbar": {
              "outlinewidth": 0,
              "ticks": ""
             }
            },
            "type": "scattermap"
           }
          ],
          "scattermapbox": [
           {
            "marker": {
             "colorbar": {
              "outlinewidth": 0,
              "ticks": ""
             }
            },
            "type": "scattermapbox"
           }
          ],
          "scatterpolar": [
           {
            "marker": {
             "colorbar": {
              "outlinewidth": 0,
              "ticks": ""
             }
            },
            "type": "scatterpolar"
           }
          ],
          "scatterpolargl": [
           {
            "marker": {
             "colorbar": {
              "outlinewidth": 0,
              "ticks": ""
             }
            },
            "type": "scatterpolargl"
           }
          ],
          "scatterternary": [
           {
            "marker": {
             "colorbar": {
              "outlinewidth": 0,
              "ticks": ""
             }
            },
            "type": "scatterternary"
           }
          ],
          "surface": [
           {
            "colorbar": {
             "outlinewidth": 0,
             "ticks": ""
            },
            "colorscale": [
             [
              0,
              "#0d0887"
             ],
             [
              0.1111111111111111,
              "#46039f"
             ],
             [
              0.2222222222222222,
              "#7201a8"
             ],
             [
              0.3333333333333333,
              "#9c179e"
             ],
             [
              0.4444444444444444,
              "#bd3786"
             ],
             [
              0.5555555555555556,
              "#d8576b"
             ],
             [
              0.6666666666666666,
              "#ed7953"
             ],
             [
              0.7777777777777778,
              "#fb9f3a"
             ],
             [
              0.8888888888888888,
              "#fdca26"
             ],
             [
              1,
              "#f0f921"
             ]
            ],
            "type": "surface"
           }
          ],
          "table": [
           {
            "cells": {
             "fill": {
              "color": "#EBF0F8"
             },
             "line": {
              "color": "white"
             }
            },
            "header": {
             "fill": {
              "color": "#C8D4E3"
             },
             "line": {
              "color": "white"
             }
            },
            "type": "table"
           }
          ]
         },
         "layout": {
          "annotationdefaults": {
           "arrowcolor": "#2a3f5f",
           "arrowhead": 0,
           "arrowwidth": 1
          },
          "autotypenumbers": "strict",
          "coloraxis": {
           "colorbar": {
            "outlinewidth": 0,
            "ticks": ""
           }
          },
          "colorscale": {
           "diverging": [
            [
             0,
             "#8e0152"
            ],
            [
             0.1,
             "#c51b7d"
            ],
            [
             0.2,
             "#de77ae"
            ],
            [
             0.3,
             "#f1b6da"
            ],
            [
             0.4,
             "#fde0ef"
            ],
            [
             0.5,
             "#f7f7f7"
            ],
            [
             0.6,
             "#e6f5d0"
            ],
            [
             0.7,
             "#b8e186"
            ],
            [
             0.8,
             "#7fbc41"
            ],
            [
             0.9,
             "#4d9221"
            ],
            [
             1,
             "#276419"
            ]
           ],
           "sequential": [
            [
             0,
             "#0d0887"
            ],
            [
             0.1111111111111111,
             "#46039f"
            ],
            [
             0.2222222222222222,
             "#7201a8"
            ],
            [
             0.3333333333333333,
             "#9c179e"
            ],
            [
             0.4444444444444444,
             "#bd3786"
            ],
            [
             0.5555555555555556,
             "#d8576b"
            ],
            [
             0.6666666666666666,
             "#ed7953"
            ],
            [
             0.7777777777777778,
             "#fb9f3a"
            ],
            [
             0.8888888888888888,
             "#fdca26"
            ],
            [
             1,
             "#f0f921"
            ]
           ],
           "sequentialminus": [
            [
             0,
             "#0d0887"
            ],
            [
             0.1111111111111111,
             "#46039f"
            ],
            [
             0.2222222222222222,
             "#7201a8"
            ],
            [
             0.3333333333333333,
             "#9c179e"
            ],
            [
             0.4444444444444444,
             "#bd3786"
            ],
            [
             0.5555555555555556,
             "#d8576b"
            ],
            [
             0.6666666666666666,
             "#ed7953"
            ],
            [
             0.7777777777777778,
             "#fb9f3a"
            ],
            [
             0.8888888888888888,
             "#fdca26"
            ],
            [
             1,
             "#f0f921"
            ]
           ]
          },
          "colorway": [
           "#636efa",
           "#EF553B",
           "#00cc96",
           "#ab63fa",
           "#FFA15A",
           "#19d3f3",
           "#FF6692",
           "#B6E880",
           "#FF97FF",
           "#FECB52"
          ],
          "font": {
           "color": "#2a3f5f"
          },
          "geo": {
           "bgcolor": "white",
           "lakecolor": "white",
           "landcolor": "#E5ECF6",
           "showlakes": true,
           "showland": true,
           "subunitcolor": "white"
          },
          "hoverlabel": {
           "align": "left"
          },
          "hovermode": "closest",
          "mapbox": {
           "style": "light"
          },
          "paper_bgcolor": "white",
          "plot_bgcolor": "#E5ECF6",
          "polar": {
           "angularaxis": {
            "gridcolor": "white",
            "linecolor": "white",
            "ticks": ""
           },
           "bgcolor": "#E5ECF6",
           "radialaxis": {
            "gridcolor": "white",
            "linecolor": "white",
            "ticks": ""
           }
          },
          "scene": {
           "xaxis": {
            "backgroundcolor": "#E5ECF6",
            "gridcolor": "white",
            "gridwidth": 2,
            "linecolor": "white",
            "showbackground": true,
            "ticks": "",
            "zerolinecolor": "white"
           },
           "yaxis": {
            "backgroundcolor": "#E5ECF6",
            "gridcolor": "white",
            "gridwidth": 2,
            "linecolor": "white",
            "showbackground": true,
            "ticks": "",
            "zerolinecolor": "white"
           },
           "zaxis": {
            "backgroundcolor": "#E5ECF6",
            "gridcolor": "white",
            "gridwidth": 2,
            "linecolor": "white",
            "showbackground": true,
            "ticks": "",
            "zerolinecolor": "white"
           }
          },
          "shapedefaults": {
           "line": {
            "color": "#2a3f5f"
           }
          },
          "ternary": {
           "aaxis": {
            "gridcolor": "white",
            "linecolor": "white",
            "ticks": ""
           },
           "baxis": {
            "gridcolor": "white",
            "linecolor": "white",
            "ticks": ""
           },
           "bgcolor": "#E5ECF6",
           "caxis": {
            "gridcolor": "white",
            "linecolor": "white",
            "ticks": ""
           }
          },
          "title": {
           "x": 0.05
          },
          "xaxis": {
           "automargin": true,
           "gridcolor": "white",
           "linecolor": "white",
           "ticks": "",
           "title": {
            "standoff": 15
           },
           "zerolinecolor": "white",
           "zerolinewidth": 2
          },
          "yaxis": {
           "automargin": true,
           "gridcolor": "white",
           "linecolor": "white",
           "ticks": "",
           "title": {
            "standoff": 15
           },
           "zerolinecolor": "white",
           "zerolinewidth": 2
          }
         }
        },
        "title": {
         "text": "Boxplot MonthlyCharges berdasarkan Churn"
        },
        "width": 500,
        "xaxis": {
         "anchor": "y",
         "domain": [
          0,
          1
         ],
         "title": {
          "text": "Churn"
         }
        },
        "yaxis": {
         "anchor": "x",
         "domain": [
          0,
          1
         ],
         "title": {
          "text": "MonthlyCharges"
         }
        }
       }
      }
     },
     "metadata": {},
     "output_type": "display_data"
    }
   ],
   "source": [
    "fig_box = px.box(\n",
    "    df,\n",
    "    x='Churn', \n",
    "    y='MonthlyCharges',\n",
    "    title=\"Boxplot MonthlyCharges berdasarkan Churn\",\n",
    "    width=500,\n",
    "    height=400,\n",
    "    color_discrete_sequence=[\"steelblue\"]\n",
    ")\n",
    "fig_box.show()"
   ]
  },
  {
   "cell_type": "markdown",
   "metadata": {
    "id": "4gSr4LWSMF42"
   },
   "source": [
    "Jadi, dari plot di atas, dapat disimpulkan bahwa dari data diatas dengan melihat sebaran data pelanggan dengan yang biaya bulanan tinggi lebih memilih churn/berhenti berlangganan, ada beberapa faktor yang perlu dikaji lebih dalam mengenai hal ini, bisa berkaitan dengan kepuasan pelanggan, dimana bisa ditelaah lagi apakah pelanggan dengan yang memebayar biaya bulan lebih tinggi merasa tidak puas dengan layanan tersebut."
   ]
  },
  {
   "cell_type": "markdown",
   "metadata": {
    "id": "P4nqbP0KMF42"
   },
   "source": [
    "$\\textbf{Jangan lupa kasih kesimpulan dari visualisasi yang kalian buat! Isi seperti diatas ya}$"
   ]
  },
  {
   "cell_type": "markdown",
   "metadata": {
    "id": "kBdadkv5MF42"
   },
   "source": [
    "## Bagaimana pengaruh memiliki partner & dependents terhadap tingkat churn customer?\n",
    "\n",
    "Hint: concat partner dan dependents, gunakan parameter 'hue' pada seaborn untuk mempermudah"
   ]
  },
  {
   "cell_type": "code",
   "execution_count": 162,
   "metadata": {},
   "outputs": [],
   "source": [
    "df = pd.read_csv('telco_customer.csv')"
   ]
  },
  {
   "cell_type": "code",
   "execution_count": 163,
   "metadata": {},
   "outputs": [],
   "source": [
    "def combine_status (row):\n",
    "    if (row['Partner']=='Yes' and row['Dependents']=='Yes') :\n",
    "        return 'Partner & Dependents' \n",
    "    elif (row['Partner']=='Yes' and row['Dependents']=='No') :\n",
    "        return 'Partner Only' \n",
    "    elif (row['Partner']=='No' and row['Dependents']=='Yes') :\n",
    "        return 'Dependents Only' \n",
    "    else:\n",
    "        return 'No Partner & No Dependents'"
   ]
  },
  {
   "cell_type": "code",
   "execution_count": 164,
   "metadata": {},
   "outputs": [],
   "source": [
    "df['fam_stat']= df.apply(combine_status, axis=1)"
   ]
  },
  {
   "cell_type": "code",
   "execution_count": 165,
   "metadata": {},
   "outputs": [
    {
     "data": {
      "text/html": [
       "<div>\n",
       "<style scoped>\n",
       "    .dataframe tbody tr th:only-of-type {\n",
       "        vertical-align: middle;\n",
       "    }\n",
       "\n",
       "    .dataframe tbody tr th {\n",
       "        vertical-align: top;\n",
       "    }\n",
       "\n",
       "    .dataframe thead th {\n",
       "        text-align: right;\n",
       "    }\n",
       "</style>\n",
       "<table border=\"1\" class=\"dataframe\">\n",
       "  <thead>\n",
       "    <tr style=\"text-align: right;\">\n",
       "      <th></th>\n",
       "      <th>fam_stat</th>\n",
       "      <th>Churn</th>\n",
       "      <th>Total_cust</th>\n",
       "      <th>Percentage_total</th>\n",
       "    </tr>\n",
       "  </thead>\n",
       "  <tbody>\n",
       "    <tr>\n",
       "      <th>0</th>\n",
       "      <td>Dependents Only</td>\n",
       "      <td>Yes</td>\n",
       "      <td>77</td>\n",
       "      <td>4.12</td>\n",
       "    </tr>\n",
       "    <tr>\n",
       "      <th>2</th>\n",
       "      <td>Partner &amp; Dependents</td>\n",
       "      <td>Yes</td>\n",
       "      <td>249</td>\n",
       "      <td>13.32</td>\n",
       "    </tr>\n",
       "    <tr>\n",
       "      <th>3</th>\n",
       "      <td>Partner Only</td>\n",
       "      <td>Yes</td>\n",
       "      <td>420</td>\n",
       "      <td>22.47</td>\n",
       "    </tr>\n",
       "    <tr>\n",
       "      <th>1</th>\n",
       "      <td>No Partner &amp; No Dependents</td>\n",
       "      <td>Yes</td>\n",
       "      <td>1123</td>\n",
       "      <td>60.09</td>\n",
       "    </tr>\n",
       "  </tbody>\n",
       "</table>\n",
       "</div>"
      ],
      "text/plain": [
       "                     fam_stat Churn  Total_cust  Percentage_total\n",
       "0             Dependents Only   Yes          77              4.12\n",
       "2        Partner & Dependents   Yes         249             13.32\n",
       "3                Partner Only   Yes         420             22.47\n",
       "1  No Partner & No Dependents   Yes        1123             60.09"
      ]
     },
     "execution_count": 165,
     "metadata": {},
     "output_type": "execute_result"
    }
   ],
   "source": [
    "\n",
    "df_group =  (df[df['Churn'] == 'Yes']\n",
    "             .groupby(['fam_stat','Churn'])\n",
    "             .agg(Total_cust=('customerID','nunique'))\n",
    "             .reset_index()\n",
    "             .assign(Percentage_total=lambda x: (\n",
    "                 x['Total_cust'] / x['Total_cust'].sum() * 100).round(2))\n",
    "                .sort_values('Percentage_total', ascending=True)\n",
    "        \n",
    ")\n",
    "     \n",
    "df_group"
   ]
  },
  {
   "cell_type": "code",
   "execution_count": 166,
   "metadata": {},
   "outputs": [
    {
     "data": {
      "application/vnd.plotly.v1+json": {
       "config": {
        "plotlyServerURL": "https://plot.ly"
       },
       "data": [
        {
         "alignmentgroup": "True",
         "hovertemplate": "Churn=Yes<br>Percentage_total=%{x}<br>fam_stat=%{y}<extra></extra>",
         "legendgroup": "Yes",
         "marker": {
          "color": "#636efa",
          "pattern": {
           "shape": ""
          }
         },
         "name": "Yes",
         "offsetgroup": "Yes",
         "orientation": "h",
         "showlegend": true,
         "textposition": "auto",
         "type": "bar",
         "x": {
          "bdata": "exSuR+F6EECkcD0K16MqQLgehetReDZA7FG4HoULTkA=",
          "dtype": "f8"
         },
         "xaxis": "x",
         "y": [
          "Dependents Only",
          "Partner & Dependents",
          "Partner Only",
          "No Partner & No Dependents"
         ],
         "yaxis": "y"
        }
       ],
       "layout": {
        "barmode": "group",
        "height": 500,
        "legend": {
         "title": {
          "text": "Churn"
         },
         "tracegroupgap": 0
        },
        "template": {
         "data": {
          "bar": [
           {
            "error_x": {
             "color": "#2a3f5f"
            },
            "error_y": {
             "color": "#2a3f5f"
            },
            "marker": {
             "line": {
              "color": "#E5ECF6",
              "width": 0.5
             },
             "pattern": {
              "fillmode": "overlay",
              "size": 10,
              "solidity": 0.2
             }
            },
            "type": "bar"
           }
          ],
          "barpolar": [
           {
            "marker": {
             "line": {
              "color": "#E5ECF6",
              "width": 0.5
             },
             "pattern": {
              "fillmode": "overlay",
              "size": 10,
              "solidity": 0.2
             }
            },
            "type": "barpolar"
           }
          ],
          "carpet": [
           {
            "aaxis": {
             "endlinecolor": "#2a3f5f",
             "gridcolor": "white",
             "linecolor": "white",
             "minorgridcolor": "white",
             "startlinecolor": "#2a3f5f"
            },
            "baxis": {
             "endlinecolor": "#2a3f5f",
             "gridcolor": "white",
             "linecolor": "white",
             "minorgridcolor": "white",
             "startlinecolor": "#2a3f5f"
            },
            "type": "carpet"
           }
          ],
          "choropleth": [
           {
            "colorbar": {
             "outlinewidth": 0,
             "ticks": ""
            },
            "type": "choropleth"
           }
          ],
          "contour": [
           {
            "colorbar": {
             "outlinewidth": 0,
             "ticks": ""
            },
            "colorscale": [
             [
              0,
              "#0d0887"
             ],
             [
              0.1111111111111111,
              "#46039f"
             ],
             [
              0.2222222222222222,
              "#7201a8"
             ],
             [
              0.3333333333333333,
              "#9c179e"
             ],
             [
              0.4444444444444444,
              "#bd3786"
             ],
             [
              0.5555555555555556,
              "#d8576b"
             ],
             [
              0.6666666666666666,
              "#ed7953"
             ],
             [
              0.7777777777777778,
              "#fb9f3a"
             ],
             [
              0.8888888888888888,
              "#fdca26"
             ],
             [
              1,
              "#f0f921"
             ]
            ],
            "type": "contour"
           }
          ],
          "contourcarpet": [
           {
            "colorbar": {
             "outlinewidth": 0,
             "ticks": ""
            },
            "type": "contourcarpet"
           }
          ],
          "heatmap": [
           {
            "colorbar": {
             "outlinewidth": 0,
             "ticks": ""
            },
            "colorscale": [
             [
              0,
              "#0d0887"
             ],
             [
              0.1111111111111111,
              "#46039f"
             ],
             [
              0.2222222222222222,
              "#7201a8"
             ],
             [
              0.3333333333333333,
              "#9c179e"
             ],
             [
              0.4444444444444444,
              "#bd3786"
             ],
             [
              0.5555555555555556,
              "#d8576b"
             ],
             [
              0.6666666666666666,
              "#ed7953"
             ],
             [
              0.7777777777777778,
              "#fb9f3a"
             ],
             [
              0.8888888888888888,
              "#fdca26"
             ],
             [
              1,
              "#f0f921"
             ]
            ],
            "type": "heatmap"
           }
          ],
          "histogram": [
           {
            "marker": {
             "pattern": {
              "fillmode": "overlay",
              "size": 10,
              "solidity": 0.2
             }
            },
            "type": "histogram"
           }
          ],
          "histogram2d": [
           {
            "colorbar": {
             "outlinewidth": 0,
             "ticks": ""
            },
            "colorscale": [
             [
              0,
              "#0d0887"
             ],
             [
              0.1111111111111111,
              "#46039f"
             ],
             [
              0.2222222222222222,
              "#7201a8"
             ],
             [
              0.3333333333333333,
              "#9c179e"
             ],
             [
              0.4444444444444444,
              "#bd3786"
             ],
             [
              0.5555555555555556,
              "#d8576b"
             ],
             [
              0.6666666666666666,
              "#ed7953"
             ],
             [
              0.7777777777777778,
              "#fb9f3a"
             ],
             [
              0.8888888888888888,
              "#fdca26"
             ],
             [
              1,
              "#f0f921"
             ]
            ],
            "type": "histogram2d"
           }
          ],
          "histogram2dcontour": [
           {
            "colorbar": {
             "outlinewidth": 0,
             "ticks": ""
            },
            "colorscale": [
             [
              0,
              "#0d0887"
             ],
             [
              0.1111111111111111,
              "#46039f"
             ],
             [
              0.2222222222222222,
              "#7201a8"
             ],
             [
              0.3333333333333333,
              "#9c179e"
             ],
             [
              0.4444444444444444,
              "#bd3786"
             ],
             [
              0.5555555555555556,
              "#d8576b"
             ],
             [
              0.6666666666666666,
              "#ed7953"
             ],
             [
              0.7777777777777778,
              "#fb9f3a"
             ],
             [
              0.8888888888888888,
              "#fdca26"
             ],
             [
              1,
              "#f0f921"
             ]
            ],
            "type": "histogram2dcontour"
           }
          ],
          "mesh3d": [
           {
            "colorbar": {
             "outlinewidth": 0,
             "ticks": ""
            },
            "type": "mesh3d"
           }
          ],
          "parcoords": [
           {
            "line": {
             "colorbar": {
              "outlinewidth": 0,
              "ticks": ""
             }
            },
            "type": "parcoords"
           }
          ],
          "pie": [
           {
            "automargin": true,
            "type": "pie"
           }
          ],
          "scatter": [
           {
            "fillpattern": {
             "fillmode": "overlay",
             "size": 10,
             "solidity": 0.2
            },
            "type": "scatter"
           }
          ],
          "scatter3d": [
           {
            "line": {
             "colorbar": {
              "outlinewidth": 0,
              "ticks": ""
             }
            },
            "marker": {
             "colorbar": {
              "outlinewidth": 0,
              "ticks": ""
             }
            },
            "type": "scatter3d"
           }
          ],
          "scattercarpet": [
           {
            "marker": {
             "colorbar": {
              "outlinewidth": 0,
              "ticks": ""
             }
            },
            "type": "scattercarpet"
           }
          ],
          "scattergeo": [
           {
            "marker": {
             "colorbar": {
              "outlinewidth": 0,
              "ticks": ""
             }
            },
            "type": "scattergeo"
           }
          ],
          "scattergl": [
           {
            "marker": {
             "colorbar": {
              "outlinewidth": 0,
              "ticks": ""
             }
            },
            "type": "scattergl"
           }
          ],
          "scattermap": [
           {
            "marker": {
             "colorbar": {
              "outlinewidth": 0,
              "ticks": ""
             }
            },
            "type": "scattermap"
           }
          ],
          "scattermapbox": [
           {
            "marker": {
             "colorbar": {
              "outlinewidth": 0,
              "ticks": ""
             }
            },
            "type": "scattermapbox"
           }
          ],
          "scatterpolar": [
           {
            "marker": {
             "colorbar": {
              "outlinewidth": 0,
              "ticks": ""
             }
            },
            "type": "scatterpolar"
           }
          ],
          "scatterpolargl": [
           {
            "marker": {
             "colorbar": {
              "outlinewidth": 0,
              "ticks": ""
             }
            },
            "type": "scatterpolargl"
           }
          ],
          "scatterternary": [
           {
            "marker": {
             "colorbar": {
              "outlinewidth": 0,
              "ticks": ""
             }
            },
            "type": "scatterternary"
           }
          ],
          "surface": [
           {
            "colorbar": {
             "outlinewidth": 0,
             "ticks": ""
            },
            "colorscale": [
             [
              0,
              "#0d0887"
             ],
             [
              0.1111111111111111,
              "#46039f"
             ],
             [
              0.2222222222222222,
              "#7201a8"
             ],
             [
              0.3333333333333333,
              "#9c179e"
             ],
             [
              0.4444444444444444,
              "#bd3786"
             ],
             [
              0.5555555555555556,
              "#d8576b"
             ],
             [
              0.6666666666666666,
              "#ed7953"
             ],
             [
              0.7777777777777778,
              "#fb9f3a"
             ],
             [
              0.8888888888888888,
              "#fdca26"
             ],
             [
              1,
              "#f0f921"
             ]
            ],
            "type": "surface"
           }
          ],
          "table": [
           {
            "cells": {
             "fill": {
              "color": "#EBF0F8"
             },
             "line": {
              "color": "white"
             }
            },
            "header": {
             "fill": {
              "color": "#C8D4E3"
             },
             "line": {
              "color": "white"
             }
            },
            "type": "table"
           }
          ]
         },
         "layout": {
          "annotationdefaults": {
           "arrowcolor": "#2a3f5f",
           "arrowhead": 0,
           "arrowwidth": 1
          },
          "autotypenumbers": "strict",
          "coloraxis": {
           "colorbar": {
            "outlinewidth": 0,
            "ticks": ""
           }
          },
          "colorscale": {
           "diverging": [
            [
             0,
             "#8e0152"
            ],
            [
             0.1,
             "#c51b7d"
            ],
            [
             0.2,
             "#de77ae"
            ],
            [
             0.3,
             "#f1b6da"
            ],
            [
             0.4,
             "#fde0ef"
            ],
            [
             0.5,
             "#f7f7f7"
            ],
            [
             0.6,
             "#e6f5d0"
            ],
            [
             0.7,
             "#b8e186"
            ],
            [
             0.8,
             "#7fbc41"
            ],
            [
             0.9,
             "#4d9221"
            ],
            [
             1,
             "#276419"
            ]
           ],
           "sequential": [
            [
             0,
             "#0d0887"
            ],
            [
             0.1111111111111111,
             "#46039f"
            ],
            [
             0.2222222222222222,
             "#7201a8"
            ],
            [
             0.3333333333333333,
             "#9c179e"
            ],
            [
             0.4444444444444444,
             "#bd3786"
            ],
            [
             0.5555555555555556,
             "#d8576b"
            ],
            [
             0.6666666666666666,
             "#ed7953"
            ],
            [
             0.7777777777777778,
             "#fb9f3a"
            ],
            [
             0.8888888888888888,
             "#fdca26"
            ],
            [
             1,
             "#f0f921"
            ]
           ],
           "sequentialminus": [
            [
             0,
             "#0d0887"
            ],
            [
             0.1111111111111111,
             "#46039f"
            ],
            [
             0.2222222222222222,
             "#7201a8"
            ],
            [
             0.3333333333333333,
             "#9c179e"
            ],
            [
             0.4444444444444444,
             "#bd3786"
            ],
            [
             0.5555555555555556,
             "#d8576b"
            ],
            [
             0.6666666666666666,
             "#ed7953"
            ],
            [
             0.7777777777777778,
             "#fb9f3a"
            ],
            [
             0.8888888888888888,
             "#fdca26"
            ],
            [
             1,
             "#f0f921"
            ]
           ]
          },
          "colorway": [
           "#636efa",
           "#EF553B",
           "#00cc96",
           "#ab63fa",
           "#FFA15A",
           "#19d3f3",
           "#FF6692",
           "#B6E880",
           "#FF97FF",
           "#FECB52"
          ],
          "font": {
           "color": "#2a3f5f"
          },
          "geo": {
           "bgcolor": "white",
           "lakecolor": "white",
           "landcolor": "#E5ECF6",
           "showlakes": true,
           "showland": true,
           "subunitcolor": "white"
          },
          "hoverlabel": {
           "align": "left"
          },
          "hovermode": "closest",
          "mapbox": {
           "style": "light"
          },
          "paper_bgcolor": "white",
          "plot_bgcolor": "#E5ECF6",
          "polar": {
           "angularaxis": {
            "gridcolor": "white",
            "linecolor": "white",
            "ticks": ""
           },
           "bgcolor": "#E5ECF6",
           "radialaxis": {
            "gridcolor": "white",
            "linecolor": "white",
            "ticks": ""
           }
          },
          "scene": {
           "xaxis": {
            "backgroundcolor": "#E5ECF6",
            "gridcolor": "white",
            "gridwidth": 2,
            "linecolor": "white",
            "showbackground": true,
            "ticks": "",
            "zerolinecolor": "white"
           },
           "yaxis": {
            "backgroundcolor": "#E5ECF6",
            "gridcolor": "white",
            "gridwidth": 2,
            "linecolor": "white",
            "showbackground": true,
            "ticks": "",
            "zerolinecolor": "white"
           },
           "zaxis": {
            "backgroundcolor": "#E5ECF6",
            "gridcolor": "white",
            "gridwidth": 2,
            "linecolor": "white",
            "showbackground": true,
            "ticks": "",
            "zerolinecolor": "white"
           }
          },
          "shapedefaults": {
           "line": {
            "color": "#2a3f5f"
           }
          },
          "ternary": {
           "aaxis": {
            "gridcolor": "white",
            "linecolor": "white",
            "ticks": ""
           },
           "baxis": {
            "gridcolor": "white",
            "linecolor": "white",
            "ticks": ""
           },
           "bgcolor": "#E5ECF6",
           "caxis": {
            "gridcolor": "white",
            "linecolor": "white",
            "ticks": ""
           }
          },
          "title": {
           "x": 0.05
          },
          "xaxis": {
           "automargin": true,
           "gridcolor": "white",
           "linecolor": "white",
           "ticks": "",
           "title": {
            "standoff": 15
           },
           "zerolinecolor": "white",
           "zerolinewidth": 2
          },
          "yaxis": {
           "automargin": true,
           "gridcolor": "white",
           "linecolor": "white",
           "ticks": "",
           "title": {
            "standoff": 15
           },
           "zerolinecolor": "white",
           "zerolinewidth": 2
          }
         }
        },
        "title": {
         "text": "Persentase Churn berdasarkan Status Keluarga"
        },
        "width": 800,
        "xaxis": {
         "anchor": "y",
         "domain": [
          0,
          1
         ],
         "tickformat": ".1f",
         "title": {
          "text": "Persentase (%)"
         }
        },
        "yaxis": {
         "anchor": "x",
         "domain": [
          0,
          1
         ],
         "title": {
          "text": "Status Keluarga"
         }
        }
       }
      }
     },
     "metadata": {},
     "output_type": "display_data"
    }
   ],
   "source": [
    "fig = px.bar(\n",
    "    df_group,\n",
    "    x='Percentage_total',\n",
    "    y='fam_stat',\n",
    "    color='Churn',\n",
    "    barmode='group',\n",
    "    title='Persentase Churn berdasarkan Status Keluarga',\n",
    "    width=800,\n",
    "    height=500\n",
    ")\n",
    "\n",
    "fig.update_layout(\n",
    "    xaxis_title='Persentase (%)',\n",
    "    yaxis_title='Status Keluarga',\n",
    "    xaxis_tickformat='.1f'\n",
    ")\n",
    "\n",
    "fig.show()"
   ]
  },
  {
   "cell_type": "markdown",
   "metadata": {
    "id": "iPfHjW_qMF43"
   },
   "source": [
    "Jadi, dari plot di atas, dapat disimpulkan bahwa pada kategori **No Partner & No Dependents** memiliki tingkat churn paling tinggi sebesar **60%**, dan yang paling sedikit memiliki tingkat Churn yaitu pada kategori **Dependents Only** sebesar **4%**. <br>\n",
    "Pada **No Partner & No Dependents** yang memiliki nilai **Churn** paling tinggi bisa disebabkan karena mereka masih bebas, masih bisa punya waktu luang yang banyak dan bebas menentukan pilihan mencari perusahaan telekomunikasi lain yang lebih mereka suka.<br>\n",
    "lalu ada yang menarik disini apabila melihat kenapa **Dependent Only** malah lebih sedikit melakukan Chur dibanding yang lain, bisa digali kenapa ini bisa terjadi. bisa jadi user dengan **Dependent Only** karena hanya fokus pada yang dihadapi diri sendiri, dan tentunya tidak ada Parner diskusi untuk mentukan pilihan lain, menjadi kan pada kategori ini memiliki tingkat churn yang rendah dibanding kategori lain."
   ]
  },
  {
   "cell_type": "markdown",
   "metadata": {
    "id": "13eya3TGMF43"
   },
   "source": [
    "$\\textbf{Jangan lupa kasih kesimpulan dari visualisasi yang kalian buat! Isi seperti diatas ya}$"
   ]
  },
  {
   "cell_type": "markdown",
   "metadata": {
    "id": "V2enNx4MMF43"
   },
   "source": [
    "# Soal Hard"
   ]
  },
  {
   "cell_type": "markdown",
   "metadata": {
    "id": "Ck-r5pzMMF44"
   },
   "source": [
    "## . Buatlah insight dari data telco customer, dan sertakan storyline <br> pada visualisasi tersebut dengan memanfaatkan atribut tenure,contract, monthly charges, status*, jumlah pelanggan, dan churn! "
   ]
  },
  {
   "cell_type": "code",
   "execution_count": 109,
   "metadata": {},
   "outputs": [
    {
     "data": {
      "text/plain": [
       "count    7043.000000\n",
       "mean       64.761692\n",
       "std        30.090047\n",
       "min        18.250000\n",
       "25%        35.500000\n",
       "50%        70.350000\n",
       "75%        89.850000\n",
       "max       118.750000\n",
       "Name: MonthlyCharges, dtype: float64"
      ]
     },
     "execution_count": 109,
     "metadata": {},
     "output_type": "execute_result"
    }
   ],
   "source": [
    "df = pd.read_csv('telco_customer.csv')\n",
    "df['MonthlyCharges'].describe()"
   ]
  },
  {
   "cell_type": "code",
   "execution_count": 146,
   "metadata": {},
   "outputs": [
    {
     "data": {
      "image/png": "[encoded data removed]",
      "text/plain": [
       "<Figure size 1200x600 with 1 Axes>"
      ]
     },
     "metadata": {},
     "output_type": "display_data"
    },
    {
     "data": {
      "text/html": [
       "<div>\n",
       "<style scoped>\n",
       "    .dataframe tbody tr th:only-of-type {\n",
       "        vertical-align: middle;\n",
       "    }\n",
       "\n",
       "    .dataframe tbody tr th {\n",
       "        vertical-align: top;\n",
       "    }\n",
       "\n",
       "    .dataframe thead th {\n",
       "        text-align: right;\n",
       "    }\n",
       "</style>\n",
       "<table border=\"1\" class=\"dataframe\">\n",
       "  <thead>\n",
       "    <tr style=\"text-align: right;\">\n",
       "      <th></th>\n",
       "      <th>min</th>\n",
       "      <th>max</th>\n",
       "    </tr>\n",
       "    <tr>\n",
       "      <th>tenure_group</th>\n",
       "      <th></th>\n",
       "      <th></th>\n",
       "    </tr>\n",
       "  </thead>\n",
       "  <tbody>\n",
       "    <tr>\n",
       "      <th>0-12</th>\n",
       "      <td>1</td>\n",
       "      <td>12</td>\n",
       "    </tr>\n",
       "    <tr>\n",
       "      <th>13-24</th>\n",
       "      <td>13</td>\n",
       "      <td>24</td>\n",
       "    </tr>\n",
       "    <tr>\n",
       "      <th>25-36</th>\n",
       "      <td>25</td>\n",
       "      <td>36</td>\n",
       "    </tr>\n",
       "    <tr>\n",
       "      <th>37-48</th>\n",
       "      <td>37</td>\n",
       "      <td>48</td>\n",
       "    </tr>\n",
       "    <tr>\n",
       "      <th>49-60</th>\n",
       "      <td>49</td>\n",
       "      <td>60</td>\n",
       "    </tr>\n",
       "    <tr>\n",
       "      <th>61-73</th>\n",
       "      <td>61</td>\n",
       "      <td>72</td>\n",
       "    </tr>\n",
       "  </tbody>\n",
       "</table>\n",
       "</div>"
      ],
      "text/plain": [
       "              min  max\n",
       "tenure_group          \n",
       "0-12            1   12\n",
       "13-24          13   24\n",
       "25-36          25   36\n",
       "37-48          37   48\n",
       "49-60          49   60\n",
       "61-73          61   72"
      ]
     },
     "execution_count": 146,
     "metadata": {},
     "output_type": "execute_result"
    }
   ],
   "source": [
    "\n",
    "\n",
    "# Buat kolom status\n",
    "df['status'] = df.apply(\n",
    "    lambda x: 'Married' if x['SeniorCitizen'] == 1 or x['Partner'] == 'Yes' or x['Dependents'] == 'Yes' else 'Single',\n",
    "    axis=1\n",
    ")\n",
    "\n",
    "# Kelompokkan tenure\n",
    "df['tenure_group'] = pd.cut(df['tenure'], bins=[0, 12, 24, 36, 48, 60, 72],\n",
    "                            labels=['0-12', '13-24', '25-36', '37-48', '49-60', '61-73'])\n",
    "\n",
    "# Filter churn == 'Yes' dan hitung jumlah customer churn unik\n",
    "plot1_data = df[df['Churn'] == 'Yes'].groupby(['tenure_group', 'Contract'], observed=True)['customerID'].nunique().reset_index()\n",
    "plot1_data.rename(columns={'customerID': 'churn_count'}, inplace=True)\n",
    "\n",
    "# Plot visualisasi\n",
    "plt.figure(figsize=(12, 6))\n",
    "sns.lineplot(data=plot1_data, x='tenure_group', y='churn_count', hue='Contract', marker='o', linewidth=2.5)\n",
    "\n",
    "# Judul dan keterangan sesuai isi data\n",
    "plt.title(\"Tinggkat Churn \\nPada Jenis Contract dan Masa berlangganan (tenure) \", y=1.07,fontsize=24, fontweight='bold', loc='left')\n",
    "plt.text(x=0, y=1.03, s=\"Jenis Contract Month-to-Month dan tenure 0 sampai 24 bulan cenderung lebih mudah melakukan churn\",\n",
    "         fontsize=11, transform=plt.gca().transAxes, ha='left')\n",
    "\n",
    "plt.xlabel(\"Kelompok Tenure (bulan)\")\n",
    "plt.ylabel(\"Jumlah Pelanggan Churn\")\n",
    "plt.legend(title=\"Jenis Kontrak\")\n",
    "plt.tight_layout()\n",
    "plt.show()\n",
    "df.groupby('tenure_group',observed=True)['tenure'].agg(['min', 'max'])"
   ]
  },
  {
   "cell_type": "markdown",
   "metadata": {},
   "source": [
    "Dari data diatas kita bisa melihat bahwa pada saat **masa berlanggana/tenure** 0 sampai dengan 24 bulan dan dengan jenis **contract** Month to Month** <br>memiliki tingkat Churn paling tinggi dan semakin tinggi **tenure** semakin rendah tingkat churn pelanggannya, dan pada jenis **contract** one-year dan two-year tidak terlihat begitu signifikan perubahan churn dari pelanggannya. <br><br>\n",
    "\n",
    "Dari sini bisa disimpulkan bahwa perlu adanya evaluasi dan antisipasi terhadap churn di tingkat **tenure rendah** dan pada **contract Month-to Mont**, adanya indikasi pelanggan yang tidak puas terhadap layanan yang ada, sehingga harus adanya evaluasi akan apa yang terjadi ini."
   ]
  },
  {
   "cell_type": "code",
   "execution_count": 149,
   "metadata": {},
   "outputs": [
    {
     "data": {
      "image/png": "[encoded data removed]",
      "text/plain": [
       "<Figure size 1300x700 with 1 Axes>"
      ]
     },
     "metadata": {},
     "output_type": "display_data"
    },
    {
     "data": {
      "text/html": [
       "<div>\n",
       "<style scoped>\n",
       "    .dataframe tbody tr th:only-of-type {\n",
       "        vertical-align: middle;\n",
       "    }\n",
       "\n",
       "    .dataframe tbody tr th {\n",
       "        vertical-align: top;\n",
       "    }\n",
       "\n",
       "    .dataframe thead th {\n",
       "        text-align: right;\n",
       "    }\n",
       "</style>\n",
       "<table border=\"1\" class=\"dataframe\">\n",
       "  <thead>\n",
       "    <tr style=\"text-align: right;\">\n",
       "      <th></th>\n",
       "      <th>min</th>\n",
       "      <th>max</th>\n",
       "    </tr>\n",
       "    <tr>\n",
       "      <th>charge_group</th>\n",
       "      <th></th>\n",
       "      <th></th>\n",
       "    </tr>\n",
       "  </thead>\n",
       "  <tbody>\n",
       "    <tr>\n",
       "      <th>Low</th>\n",
       "      <td>18.25</td>\n",
       "      <td>42.90</td>\n",
       "    </tr>\n",
       "    <tr>\n",
       "      <th>Medium</th>\n",
       "      <td>43.05</td>\n",
       "      <td>69.00</td>\n",
       "    </tr>\n",
       "    <tr>\n",
       "      <th>High</th>\n",
       "      <td>69.05</td>\n",
       "      <td>94.00</td>\n",
       "    </tr>\n",
       "    <tr>\n",
       "      <th>Veri high</th>\n",
       "      <td>94.05</td>\n",
       "      <td>118.75</td>\n",
       "    </tr>\n",
       "  </tbody>\n",
       "</table>\n",
       "</div>"
      ],
      "text/plain": [
       "                min     max\n",
       "charge_group               \n",
       "Low           18.25   42.90\n",
       "Medium        43.05   69.00\n",
       "High          69.05   94.00\n",
       "Veri high     94.05  118.75"
      ]
     },
     "execution_count": 149,
     "metadata": {},
     "output_type": "execute_result"
    }
   ],
   "source": [
    "df['charge_group'] = pd.cut(df['MonthlyCharges'], bins=[17, 43, 69, 94, 120],\n",
    "                            labels=['Low', 'Medium', 'High','Veri high'])\n",
    "\n",
    "plt.figure(figsize=(13, 7))\n",
    "plot2_data = df[df['Churn'] == 'Yes'].groupby(['charge_group', 'status'], observed=True)['customerID'].nunique().reset_index()\n",
    "sns.lineplot(data=plot2_data, x='charge_group', y='customerID', hue='status', marker='o', linewidth=2.5)\n",
    "\n",
    "plt.title(\"Tinggkat Churn \\n Pada kelompok Monthly charges dan Status\", y=1.07,fontsize=24, fontweight='bold', loc='left')\n",
    "plt.text(x=0, y=1.03, s=\"Pelanggan dengan Status Maried dan Montly charge High cenderung lebih mudah melakukan churn.\",\n",
    "         fontsize=11, transform=plt.gca().transAxes, ha='left')\n",
    "plt.xlabel(\"Kelompok Monthly Charges\")\n",
    "plt.ylabel(\"Jumlah Pelanggan Churn \")\n",
    "plt.legend(title=\"Status\")\n",
    "plt.tight_layout()\n",
    "plt.show()\n",
    "df.groupby('charge_group',observed=True)['MonthlyCharges'].agg(['min', 'max'])\n",
    "# df['MonthlyCharges'].describe()"
   ]
  },
  {
   "cell_type": "markdown",
   "metadata": {},
   "source": [
    "Dari data diatas dengan kelompok **Monthly Charge yang tinggi 69 sampai 94** memiliki tingkat **churn yang cukup tinggi**, begitu pun dengan status **Maried** dan **Single** pada area tersebut memiliki tingkat churn yang cukup tinggi. awal kenaikan tingkat churn berada dikelompok **Monthly charger Medium** di area 43 sampai 69. <br> Kemudian untuk status **Married** memiliki tingkat Churn lebih tinggi dibanding **single**. <br> Indikasi seperti ini menjadi perhatian kenapa pelanggan melakukan churn dengan **Montly Chargr** yang tinggi, apakah pelanggan memang merasa terbebani dengan biaya tersebut, merasa kemahalan bila dibandingkan dengan layanan dari perusahaan lain, perlu perhatian terhadap hal ini. kemudian dari status mengapa **status singgle** lebih sedikit melakukan **churn** hal ini juga merupakan bahan evaluasi, apakah tingkat decision making pelanggan dengan **status Married** berbeda dengan **single** pendekatan seperti apa untuk mengurangi tingkat **churn** pada status married, apakah perlu diadakan nya promo khusus bagi yang sudah Married. ini bisa jadi bahan pertimbangan bagi perusahaan dalam mengatasi tingkat **churn** pelanggan ini."
   ]
  },
  {
   "cell_type": "markdown",
   "metadata": {},
   "source": []
  },
  {
   "cell_type": "markdown",
   "metadata": {},
   "source": []
  },
  {
   "cell_type": "markdown",
   "metadata": {},
   "source": []
  }
 ],
 "metadata": {
  "colab": {
   "provenance": []
  },
  "kernelspec": {
   "display_name": "latihan_env",
   "language": "python",
   "name": "python3"
  },
  "language_info": {
   "codemirror_mode": {
    "name": "ipython",
    "version": 3
   },
   "file_extension": ".py",
   "mimetype": "text/x-python",
   "name": "python",
   "nbconvert_exporter": "python",
   "pygments_lexer": "ipython3",
   "version": "3.13.2"
  },
  "toc": {
   "base_numbering": 1,
   "nav_menu": {},
   "number_sections": true,
   "sideBar": true,
   "skip_h1_title": false,
   "title_cell": "Table of Contents",
   "title_sidebar": "Contents",
   "toc_cell": false,
   "toc_position": {},
   "toc_section_display": true,
   "toc_window_display": true
  }
 },
 "nbformat": 4,
 "nbformat_minor": 0
}
